{
 "cells": [
  {
   "cell_type": "code",
   "execution_count": 4,
   "id": "2434d2c4",
   "metadata": {},
   "outputs": [
    {
     "name": "stdout",
     "output_type": "stream",
     "text": [
      "1\n",
      "2\n",
      "3\n",
      "4\n",
      "5\n",
      "6\n",
      "7\n",
      "8\n",
      "9\n",
      "9\n"
     ]
    }
   ],
   "source": [
    "# 문제\n",
    "# 9개의 서로 다른 자연수가 주어질 때, 이들 중 최댓값을 찾고 그 최댓값이 몇 번째 수인지를 구하는 프로그램을 작성하시오.\n",
    "\n",
    "# 예를 들어, 서로 다른 9개의 자연수\n",
    "\n",
    "# 3, 29, 38, 12, 57, 74, 40, 85, 61\n",
    "\n",
    "# 이 주어지면, 이들 중 최댓값은 85이고, 이 값은 8번째 수이다.\n",
    "\n",
    "# 입력\n",
    "# 첫째 줄부터 아홉 번째 줄까지 한 줄에 하나의 자연수가 주어진다. 주어지는 자연수는 100 보다 작다.\n",
    "\n",
    "# 출력\n",
    "# 첫째 줄에 최댓값을 출력하고, 둘째 줄에 최댓값이 몇 번째 수인지를 출력한다.\n",
    "\n",
    "a = []\n",
    "for i in range(0,9,1):\n",
    "    a.append(int(input()))\n",
    "print(max(a))\n",
    "print(a.index(max(a))+1)\n",
    "# 하나의 리스트를 더 선언해서 값을 밀면서 최대값을 넣어줬는데 굳이 그럴 필요없이 쉬운 방법이 있어서 수정하였음\n"
   ]
  }
 ],
 "metadata": {
  "kernelspec": {
   "display_name": "Python [conda env:study] *",
   "language": "python",
   "name": "conda-env-study-py"
  },
  "language_info": {
   "codemirror_mode": {
    "name": "ipython",
    "version": 3
   },
   "file_extension": ".py",
   "mimetype": "text/x-python",
   "name": "python",
   "nbconvert_exporter": "python",
   "pygments_lexer": "ipython3",
   "version": "3.8.12"
  }
 },
 "nbformat": 4,
 "nbformat_minor": 5
}
