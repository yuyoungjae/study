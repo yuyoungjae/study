{
 "cells": [
  {
   "cell_type": "code",
   "execution_count": 2,
   "id": "39e37a78",
   "metadata": {},
   "outputs": [
    {
     "name": "stdout",
     "output_type": "stream",
     "text": [
      "1\n",
      "2\n",
      "3\n"
     ]
    }
   ],
   "source": [
    "# 문제\n",
    "# 두 정수 A와 B를 입력받은 다음, A+B를 출력하는 프로그램을 작성하시오.\n",
    "\n",
    "# 입력\n",
    "# 첫째 줄에 A, 둘째 줄에 B가 주어진다. (0 < A, B < 10)\n",
    "\n",
    "# 출력\n",
    "# 첫째 줄에 A+B를 출력한다.\n",
    "A = int(input())\n",
    "B = int(input())\n",
    "print(A+B)"
   ]
  },
  {
   "cell_type": "code",
   "execution_count": 4,
   "id": "928e3024",
   "metadata": {},
   "outputs": [
    {
     "name": "stdout",
     "output_type": "stream",
     "text": [
      "a b c d e\n",
      "5\n"
     ]
    }
   ],
   "source": [
    "# 문제\n",
    "# 영어 대소문자와 공백으로 이루어진 문자열이 주어진다. 이 문자열에는 몇 개의 단어가 있을까? 이를 구하는 프로그램을 작성하시오. 단, 한 단어가 여러 번 등장하면 등장한 횟수만큼 모두 세어야 한다.\n",
    "\n",
    "# 입력\n",
    "# 첫 줄에 영어 대소문자와 공백으로 이루어진 문자열이 주어진다. 이 문자열의 길이는 1,000,000을 넘지 않는다. 단어는 공백 한 개로 구분되며, 공백이 연속해서 나오는 경우는 없다. 또한 문자열은 공백으로 시작하거나 끝날 수 있다.\n",
    "\n",
    "# 출력\n",
    "# 첫째 줄에 단어의 개수를 출력한다.\n",
    "\n",
    "n = input().split()\n",
    "print(len(n))"
   ]
  }
 ],
 "metadata": {
  "kernelspec": {
   "display_name": "Python [conda env:study] *",
   "language": "python",
   "name": "conda-env-study-py"
  },
  "language_info": {
   "codemirror_mode": {
    "name": "ipython",
    "version": 3
   },
   "file_extension": ".py",
   "mimetype": "text/x-python",
   "name": "python",
   "nbconvert_exporter": "python",
   "pygments_lexer": "ipython3",
   "version": "3.8.12"
  }
 },
 "nbformat": 4,
 "nbformat_minor": 5
}
