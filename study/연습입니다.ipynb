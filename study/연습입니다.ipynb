{
 "cells": [
  {
   "cell_type": "code",
   "execution_count": 2,
   "id": "9cf66a6f",
   "metadata": {
    "scrolled": true
   },
   "outputs": [
    {
     "name": "stdout",
     "output_type": "stream",
     "text": [
      "Hellow World\n",
      "안녕하세요!\n"
     ]
    }
   ],
   "source": [
    "#cell(셀)\n",
    "#cell안의 코드를 실행 하려면 ctrl+Enter\n",
    "print(\"Hellow World\")\n",
    "print(\"안녕하세요!\")\n",
    "#만약 새로운 cell을 만들려면..above, below == a(셀 위에 생성), b(셀 아래에 생성)"
   ]
  },
  {
   "cell_type": "code",
   "execution_count": 3,
   "id": "a25f9fc9",
   "metadata": {
    "scrolled": true
   },
   "outputs": [
    {
     "name": "stdout",
     "output_type": "stream",
     "text": [
      "이것은 소리없는 아우성\n"
     ]
    }
   ],
   "source": [
    "#b key를 누르면 cell이 아래쪽에 생성\n",
    "print(\"이것은 소리없는 아우성\")\n",
    "\n",
    "#cell을 삭제 시 delete = dd(셀 삭제)"
   ]
  }
 ],
 "metadata": {
  "kernelspec": {
   "display_name": "Python [conda env:data_env] *",
   "language": "python",
   "name": "conda-env-data_env-py"
  },
  "language_info": {
   "codemirror_mode": {
    "name": "ipython",
    "version": 3
   },
   "file_extension": ".py",
   "mimetype": "text/x-python",
   "name": "python",
   "nbconvert_exporter": "python",
   "pygments_lexer": "ipython3",
   "version": "3.8.12"
  }
 },
 "nbformat": 4,
 "nbformat_minor": 5
}
