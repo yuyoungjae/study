{
 "cells": [
  {
   "cell_type": "code",
   "execution_count": 12,
   "id": "496bcf23",
   "metadata": {},
   "outputs": [
    {
     "name": "stdout",
     "output_type": "stream",
     "text": [
      "5\n",
      "OXXXX\n",
      "1\n",
      "OOOXX\n",
      "6\n",
      "OOOOO\n",
      "15\n",
      "OXOXO\n",
      "1\n",
      "OXOOO\n",
      "4\n"
     ]
    }
   ],
   "source": [
    "n = int(input())\n",
    "\n",
    "for I in range(n):\n",
    "    b = input()\n",
    "    list_Quiz = list(b)  \n",
    "    sum = 0\n",
    "    plus = 1\n",
    "    for j in list_Quiz:\n",
    "        if j == 'O':\n",
    "            sum = sum + plus\n",
    "            plus += 1\n",
    "        else:\n",
    "            plus = 0\n",
    "    print(sum)"
   ]
  }
 ],
 "metadata": {
  "kernelspec": {
   "display_name": "Python [conda env:study] *",
   "language": "python",
   "name": "conda-env-study-py"
  },
  "language_info": {
   "codemirror_mode": {
    "name": "ipython",
    "version": 3
   },
   "file_extension": ".py",
   "mimetype": "text/x-python",
   "name": "python",
   "nbconvert_exporter": "python",
   "pygments_lexer": "ipython3",
   "version": "3.8.12"
  }
 },
 "nbformat": 4,
 "nbformat_minor": 5
}
