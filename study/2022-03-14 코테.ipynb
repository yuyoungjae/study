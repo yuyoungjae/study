{
 "cells": [
  {
   "cell_type": "code",
   "execution_count": 1,
   "id": "42e651f2",
   "metadata": {},
   "outputs": [
    {
     "name": "stdout",
     "output_type": "stream",
     "text": [
      "Hello\n"
     ]
    }
   ],
   "source": [
    "# 본 문제는 python 의 빠른 기초 학습을 위해 설계된 문제로서 python 코드 제출을 기준으로 설명되어 있습니다.\n",
    "# ------\n",
    "\n",
    "# python 언어에서 가장 기본적인 명령이 출력문이다.\n",
    "# print( )를 이용해 다음 단어를 출력하시오.\n",
    "\n",
    "# Hello\n",
    "\n",
    "# 예시\n",
    "# print(\"Hello\") \n",
    "\n",
    "# 참고\n",
    "# python IDE 프로그램을 설치한 후,\n",
    "# 아래와 같은 소스 코드를 작성하고 실행시키면,\n",
    "# 지정한 \"문장\"이 출력(print)된다.\n",
    "# print(\"문장\") \n",
    "\n",
    "# ** 주의 : 본 화면에서 복사하여 붙여넣기하면 제대로 되지 않을 수 있으니 직접 소스코드를 작성해 넣어야 한다.\n",
    "\n",
    "print(\"Hello\")"
   ]
  },
  {
   "cell_type": "code",
   "execution_count": 1,
   "id": "7010d3a6",
   "metadata": {},
   "outputs": [
    {
     "name": "stdout",
     "output_type": "stream",
     "text": [
      "Hello World\n"
     ]
    }
   ],
   "source": [
    "# 본 문제는 python 의 빠른 기초 학습을 위해 설계된 문제로서 python 코드 제출을 기준으로 설명되어 있습니다.\n",
    "# ------\n",
    "\n",
    "# 이번에는 공백( )을 포함한 문장을 출력한다.\n",
    "# 다음 문장을 출력해보자.\n",
    "\n",
    "# Hello World\n",
    "# (대소문자에 주의한다.)\n",
    "\n",
    "# 참고\n",
    "# print(\"문장1 문장2\")\n",
    "# 을 실행시키면 \"문장1”, \"문장2\"가 공백( )을 사이에 두고 출력된다.\n",
    "# print(\"문장1\", \"문장2\")\n",
    "# 도 \"문장1\"과 \"문장2\" 사이에 공백( )을 출력한다.\n",
    "\n",
    "# ** 주의 : 본 화면에서 복사하여 붙여넣기하면 제대로 되지 않을 수 있으니 직접 소스코드를 작성해 넣어야 한다.\n",
    "\n",
    "print(\"Hello World\")"
   ]
  },
  {
   "cell_type": "code",
   "execution_count": 3,
   "id": "bbcb83f2",
   "metadata": {},
   "outputs": [
    {
     "name": "stdout",
     "output_type": "stream",
     "text": [
      "Hello\n",
      "World\n"
     ]
    }
   ],
   "source": [
    "# 본 문제는 python 의 빠른 기초 학습을 위해 설계된 문제로서 python 코드 제출을 기준으로 설명되어 있습니다.\n",
    "# ------\n",
    "\n",
    "# 이번에는 줄을 바꿔 출력하는 출력문을 연습해보자.\n",
    "# 다음과 같이 줄을 바꿔 출력해야 한다.\n",
    "\n",
    "# Hello\n",
    "# World\n",
    "# (두 줄에 걸쳐 줄을 바꿔 출력)\n",
    "\n",
    "# 예시 \n",
    "# print(\"Hello\") \n",
    "# print(\"World\")\n",
    "\n",
    "# 참고\n",
    "# python의 기본 print( ) 를 이용해 출력하면 문장을 출력한 후 마지막에 줄을 바꾼다.(new line)\n",
    "# 출력 후 줄을 바꾸는 대신 스페이스( ) 공백을 붙이도록 설정하는 방법도 있다.\n",
    "\n",
    "# ** 주의 : 본 화면에서 복사하여 붙여넣기하면 제대로 되지 않을 수 있으니 직접 소스코드를 작성해 넣어야한다.\n",
    "print('Hello')\n",
    "print('World')"
   ]
  },
  {
   "cell_type": "code",
   "execution_count": 4,
   "id": "35d0aae9",
   "metadata": {},
   "outputs": [
    {
     "name": "stdout",
     "output_type": "stream",
     "text": [
      "'Hello'\n"
     ]
    }
   ],
   "source": [
    "# 본 문제는 python 의 빠른 기초 학습을 위해 설계된 문제로서 python 코드 제출을 기준으로 설명되어 있습니다. \n",
    "# ------\n",
    "\n",
    "# 이번에는 작은 따옴표(')(single quotation mark)가 들어있는\n",
    "# 출력문 연습을 해보자.\n",
    "\n",
    "# 다음 문장을 출력하시오.\n",
    "\n",
    "# 'Hello'\n",
    "\n",
    "# 예시\n",
    "# print(\" ' \");\n",
    "\n",
    "# ** 주의 : 본 화면에서 복사하여 붙여넣기하면 제대로 되지 않을 수 있으니 직접 작성해야한다.\n",
    "\n",
    "print(\"'Hello'\")"
   ]
  },
  {
   "cell_type": "code",
   "execution_count": 6,
   "id": "576ec5c8",
   "metadata": {},
   "outputs": [
    {
     "name": "stdout",
     "output_type": "stream",
     "text": [
      "\"Hello World\"\n"
     ]
    }
   ],
   "source": [
    "# 본 문제는 python 의 빠른 기초 학습을 위해 설계된 문제로서 python 코드 제출을 기준으로 설명되어 있습니다. \n",
    "# ------\n",
    "\n",
    "# 이번에는 큰따옴표(\")(double quotation mark)가 포함된 출력문을 연습해보자.\n",
    "\n",
    "# 다음 문장을 출력하시오.\n",
    "\n",
    "# \"Hello World\"\n",
    "# (단, 큰따옴표도 함께 출력한다.)\n",
    "\n",
    "# 예시\n",
    "# print(' \" ');\n",
    "\n",
    "# 참고\n",
    "# python 언어에서 print( ) 로 출력할 문장을 표현할 때 큰 따옴표 기호(\")로 묶어 표현한다. \n",
    "# 따라서, 큰따옴표 기호 그 자체를 출력하기 위해서는 다른 방법을 사용해야한다.\n",
    "# python 언어에서 문장(문자열)을 표현하는 기호로 \"와 '를 쌍으로 묶어 사용할 수 있다.\n",
    "# 따라서, 문장을 표현할 때 사용하는 큰따옴표(\"문장\") 기호 대신 작은따옴표('문장')를 사용하면 큰따옴표를 출력할 수 있다.\n",
    "# (물론, 큰따옴표를 출력하는 다른 방법도 있다.) \n",
    "\n",
    "# ** 주의 : 본 화면에서 복사하여 붙여넣기하면 제대로 되지 않을 수 있으니 직접 작성해야한다.\n",
    "print('\"Hello World\"')"
   ]
  },
  {
   "cell_type": "code",
   "execution_count": 7,
   "id": "0b8f9f75",
   "metadata": {},
   "outputs": [
    {
     "name": "stdout",
     "output_type": "stream",
     "text": [
      "\"!@#$%^&*()'\n"
     ]
    }
   ],
   "source": [
    "# 본 문제는 python 의 빠른 기초 학습을 위해 설계된 문제로서 python 코드 제출을 기준으로 설명되어 있습니다. \n",
    "# ------\n",
    "# 이번에는 특수문자 출력에 도전하자!!\n",
    "\n",
    "# 다음 문장을 출력하시오.\n",
    "\n",
    "# \"!@#$%^&*()'\n",
    "# (단, 큰따옴표와 작은따옴표도 함께 출력한다.)\n",
    "\n",
    " \n",
    "\n",
    "# 출력 형식에 필요한 따옴표와 출력할 문자인 따옴표를 구분하기 위하여\n",
    "\n",
    "# \\\" 또는 \\' 를 이용하여 출력할 수 있다.\n",
    "\n",
    "\n",
    "# ** 주의 : 본 화면에서 복사하여 붙여넣기하면 제대로 되지 않을 수 있으니 직접 작성해야한다.\n",
    " \n",
    "print(\"\\\"!@#$%^&*()'\")"
   ]
  },
  {
   "cell_type": "code",
   "execution_count": 12,
   "id": "0e33ad96",
   "metadata": {},
   "outputs": [
    {
     "name": "stdout",
     "output_type": "stream",
     "text": [
      "\"C:\\Download\\'hello'.py\n"
     ]
    }
   ],
   "source": [
    "# 본 문제는 python 의 빠른 기초 학습을 위해 설계된 문제로서 python 코드 제출을 기준으로 설명되어 있습니다. \n",
    "\n",
    "# ------\n",
    "\n",
    "# 윈도우 운영체제의 파일 경로를 출력하는 연습을 해보자.\n",
    " \n",
    "# 파일 경로에는 특수문자들이 포함된다.\n",
    "\n",
    "# 다음 경로를 출력하시오.\n",
    "\n",
    "# \"C:\\Download\\'hello'.py\"\n",
    "# (단, 따옴표도 함께 출력한다.)\n",
    "\n",
    " \n",
    "\n",
    "# \\도 안전하게 출력하려면 \\\\를 사용하는 것이 좋다.\n",
    "\n",
    "\n",
    "# ** 주의 : 본 화면에서 복사하여 붙여넣기하면 제대로 되지 않을 수 있으니 직접 작성해야한다.\n",
    "\n",
    "print(\"\\\"C:\\Download\\\\\\'hello'.py\")\n",
    " "
   ]
  },
  {
   "cell_type": "code",
   "execution_count": 15,
   "id": "7b6136a4",
   "metadata": {},
   "outputs": [
    {
     "name": "stdout",
     "output_type": "stream",
     "text": [
      "print(\"Hello\\nWorld\")\n"
     ]
    }
   ],
   "source": [
    "# 본 문제는 python 의 빠른 기초 학습을 위해 설계된 문제로서 python 코드 제출을 기준으로 설명되어 있습니다. \n",
    "# ------\n",
    "\n",
    "# 출력문 연습의 마지막 문제이다.\n",
    "# (생각과 시도를 많이 해야하는 문제들은 한 두 문제씩 넘겼다가 나중에 풀어보면 된다.)\n",
    "\n",
    "# 이번에는 다음과 같은 python프로그램의 소스코드를 출력해보자.\n",
    "\n",
    "# print(\"Hello\\nWorld\")\n",
    "\n",
    "# 위 코드를 정확히 그대로 출력하시오.(공백문자 주의)\n",
    "\n",
    " \n",
    "\n",
    "# print 명령 안에 서식 문자로 \\n을 사용하면 줄 바꿈(new line) 문자로 사용된다.\n",
    "\n",
    "# 그렇다면 \\n을 화면에 그대로 출력하려면 어떻게 해야될까?\n",
    "\n",
    "# ** 주의 : 본 화면에서 복사하여 붙여넣기하면 제대로 되지 않을 수 있으니 직접 소스코드를 작성해 넣어야 한다.\n",
    "\n",
    "print(\"print(\\\"Hello\\\\nWorld\\\")\")"
   ]
  },
  {
   "cell_type": "code",
   "execution_count": null,
   "id": "a4853b81",
   "metadata": {},
   "outputs": [],
   "source": []
  }
 ],
 "metadata": {
  "kernelspec": {
   "display_name": "Python [conda env:study] *",
   "language": "python",
   "name": "conda-env-study-py"
  },
  "language_info": {
   "codemirror_mode": {
    "name": "ipython",
    "version": 3
   },
   "file_extension": ".py",
   "mimetype": "text/x-python",
   "name": "python",
   "nbconvert_exporter": "python",
   "pygments_lexer": "ipython3",
   "version": "3.8.12"
  }
 },
 "nbformat": 4,
 "nbformat_minor": 5
}
