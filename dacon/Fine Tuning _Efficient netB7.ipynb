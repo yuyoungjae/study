{
 "cells": [
  {
   "cell_type": "markdown",
   "metadata": {
    "id": "ZA-UMjE3ZQat"
   },
   "source": [
    "# Prepare"
   ]
  },
  {
   "cell_type": "code",
   "execution_count": 1,
   "metadata": {
    "id": "ywgPoXqez8kf"
   },
   "outputs": [
    {
     "name": "stderr",
     "output_type": "stream",
     "text": [
      "2022-05-12 13:40:23.369072: I tensorflow/stream_executor/platform/default/dso_loader.cc:49] Successfully opened dynamic library libcudart.so.10.1\n"
     ]
    }
   ],
   "source": [
    "\n",
    "import os \n",
    "import numpy as np\n",
    "import pandas as pd\n",
    "import matplotlib.pyplot as plt\n",
    "from glob import glob\n",
    "from tqdm.auto import tqdm\n",
    "import cv2\n",
    "\n",
    "import efficientnet\n",
    "import efficientnet.tfkeras as efn\n",
    "\n",
    "\n",
    "import tensorflow as tf\n",
    "from tensorflow.keras.models import Sequential, Model\n",
    "from tensorflow.keras.layers import Flatten, Dense, Dropout, GlobalAveragePooling2D, Input\n",
    "import tensorflow.keras as keras\n",
    "from tensorflow.data import Dataset\n",
    "\n",
    "\n",
    "from tensorflow.keras.optimizers import Adam, RMSprop\n",
    "from tensorflow.keras.callbacks import ModelCheckpoint, EarlyStopping"
   ]
  },
  {
   "cell_type": "markdown",
   "metadata": {
    "id": "RUyYPWZgZMWc"
   },
   "source": [
    "# Functions"
   ]
  },
  {
   "cell_type": "code",
   "execution_count": 2,
   "metadata": {
    "id": "_riHunWZx35Y"
   },
   "outputs": [],
   "source": [
    "def get_train_data(data_dir):\n",
    "    img_path_list = []\n",
    "    label_list = []\n",
    "    for case_name in os.listdir(data_dir):\n",
    "        current_path = os.path.join(data_dir, case_name)\n",
    "        if os.path.isdir(current_path):\n",
    "            # get image path\n",
    "            img_path_list.extend(glob(os.path.join(current_path, 'image', '*.jpg')))\n",
    "            img_path_list.extend(glob(os.path.join(current_path, 'image', '*.png')))\n",
    "            \n",
    "            # get label\n",
    "            label_df = pd.read_csv(current_path+'/label-{}.csv'.format(str(int(case_name[-2:]))))\n",
    "            label_list.extend(label_df['leaf_weight'])\n",
    "                \n",
    "    return img_path_list, label_list\n",
    "\n",
    "def get_test_data(data_dir):\n",
    "    # get image path\n",
    "    img_path_list = glob(os.path.join(data_dir, 'image', '*.jpg'))\n",
    "    img_path_list.extend(glob(os.path.join(data_dir, 'image', '*.png')))\n",
    "    img_path_list.sort(key=lambda x:int(x.split('/')[-1].split('.')[0]))\n",
    "    return img_path_list"
   ]
  },
  {
   "cell_type": "code",
   "execution_count": 3,
   "metadata": {
    "id": "YvVuBY6g0o6D"
   },
   "outputs": [],
   "source": [
    "def load_img_numpy(img_dir, target_size) :\n",
    "    img = cv2.imread(img_dir)\n",
    "    img = cv2.resize(img, dsize=target_size)\n",
    "    img = img.astype(np.float32) / 255.0 # normalize \n",
    "    return img"
   ]
  },
  {
   "cell_type": "code",
   "execution_count": 4,
   "metadata": {
    "id": "J_IifmSiztPB"
   },
   "outputs": [],
   "source": [
    "def create_dataset(img_dir, label, target_size, batch_size=None) :    \n",
    "    img = [] # 원본이미지\n",
    "    \n",
    "    ## 최적화가 필요한 부분\n",
    "    for i in img_dir:\n",
    "        image = load_img_numpy(i, target_size)\n",
    "        img.append(image)\n",
    "        \n",
    "    x = Dataset.from_tensor_slices(img)\n",
    "    y = Dataset.from_tensor_slices(label)\n",
    "    dataset = Dataset.zip((x, y))\n",
    "    \n",
    "    if batch_size is not None:\n",
    "        dataset = dataset.batch(batch_size, drop_remainder=True).repeat()\n",
    "   \n",
    "    return dataset"
   ]
  },
  {
   "cell_type": "code",
   "execution_count": 5,
   "metadata": {
    "id": "TxVyfiCqjwEW"
   },
   "outputs": [],
   "source": [
    "def load_test_img_numpy(img_dir, target_size) :\n",
    "    img = cv2.imread(img_dir)\n",
    "    img = cv2.resize(img, dsize=target_size)\n",
    "    img = img.astype(np.float32) / 255.0\n",
    "    return img\n",
    "\n",
    "def create_test_dataset(img_dir, target_size, batch_size=None) :\n",
    "    file_name = [x.split('/')[-1][:-4] for x in img_dir]\n",
    "    x_img = []\n",
    "\n",
    "    for i in tqdm(img_dir,\n",
    "                total=len(img_dir),\n",
    "                position=0,\n",
    "                leave=True):\n",
    "        img = load_test_img_numpy(i, target_size)\n",
    "        x_img.append(img)\n",
    "\n",
    "    dataset = Dataset.from_tensor_slices(x_img)\n",
    "    \n",
    "    if batch_size is not None :\n",
    "        dataset = dataset.batch(batch_size, drop_remainder=True).repeat()\n",
    "       \n",
    "    return dataset, file_name"
   ]
  },
  {
   "cell_type": "markdown",
   "metadata": {
    "id": "-dppQBFMwvQj"
   },
   "source": [
    "# Load Data Set"
   ]
  },
  {
   "cell_type": "code",
   "execution_count": 6,
   "metadata": {
    "colab": {
     "base_uri": "https://localhost:8080/",
     "height": 248
    },
    "executionInfo": {
     "elapsed": 641,
     "status": "error",
     "timestamp": 1652244714565,
     "user": {
      "displayName": "Heekyoung Lee",
      "userId": "13305219888072880501"
     },
     "user_tz": -540
    },
    "id": "cO1ZpGUGyJ3R",
    "outputId": "22deaa72-8e48-4ca1-bb32-52f269c492f1"
   },
   "outputs": [],
   "source": [
    "IMAGE_SIZE = 256\n",
    "BATCH_SIZE = 8\n",
    "LEARNING_RATE = 5e-4\n",
    "\n",
    "all_img_path, all_label = get_train_data('/home/lab05/AI_proj_Team2/AI_proj_Team2/data/train/')\n",
    "test_img_path = get_test_data('/home/lab05/AI_proj_Team2/AI_proj_Team2/data/test')"
   ]
  },
  {
   "cell_type": "code",
   "execution_count": 7,
   "metadata": {
    "id": "3jnHF8H2zMlf"
   },
   "outputs": [],
   "source": [
    "# Train : Validation = 0.8 : 0.2 Split\n",
    "train_len = int(len(all_img_path)*0.8)\n",
    "\n",
    "train_img_path = all_img_path[:train_len]\n",
    "train_label = all_label[:train_len]\n",
    "\n",
    "vali_img_path = all_img_path[train_len:]\n",
    "vali_label = all_label[train_len:]"
   ]
  },
  {
   "cell_type": "code",
   "execution_count": 8,
   "metadata": {
    "id": "ht9QqLsJ0bG2"
   },
   "outputs": [
    {
     "name": "stderr",
     "output_type": "stream",
     "text": [
      "2022-05-12 13:43:44.613835: I tensorflow/compiler/jit/xla_cpu_device.cc:41] Not creating XLA devices, tf_xla_enable_xla_devices not set\n",
      "2022-05-12 13:43:44.614938: I tensorflow/stream_executor/platform/default/dso_loader.cc:49] Successfully opened dynamic library libcuda.so.1\n",
      "2022-05-12 13:43:44.681896: I tensorflow/stream_executor/cuda/cuda_gpu_executor.cc:941] successful NUMA node read from SysFS had negative value (-1), but there must be at least one NUMA node, so returning NUMA node zero\n",
      "2022-05-12 13:43:44.682555: I tensorflow/core/common_runtime/gpu/gpu_device.cc:1720] Found device 0 with properties: \n",
      "pciBusID: 0000:00:1e.0 name: Tesla T4 computeCapability: 7.5\n",
      "coreClock: 1.59GHz coreCount: 40 deviceMemorySize: 14.75GiB deviceMemoryBandwidth: 298.08GiB/s\n",
      "2022-05-12 13:43:44.682602: I tensorflow/stream_executor/platform/default/dso_loader.cc:49] Successfully opened dynamic library libcudart.so.10.1\n",
      "2022-05-12 13:43:44.780593: I tensorflow/stream_executor/platform/default/dso_loader.cc:49] Successfully opened dynamic library libcublas.so.10\n",
      "2022-05-12 13:43:44.780675: I tensorflow/stream_executor/platform/default/dso_loader.cc:49] Successfully opened dynamic library libcublasLt.so.10\n",
      "2022-05-12 13:43:44.840268: I tensorflow/stream_executor/platform/default/dso_loader.cc:49] Successfully opened dynamic library libcufft.so.10\n",
      "2022-05-12 13:43:44.854294: I tensorflow/stream_executor/platform/default/dso_loader.cc:49] Successfully opened dynamic library libcurand.so.10\n",
      "2022-05-12 13:43:44.972004: I tensorflow/stream_executor/platform/default/dso_loader.cc:49] Successfully opened dynamic library libcusolver.so.10\n",
      "2022-05-12 13:43:44.984838: I tensorflow/stream_executor/platform/default/dso_loader.cc:49] Successfully opened dynamic library libcusparse.so.10\n",
      "2022-05-12 13:43:45.165507: I tensorflow/stream_executor/platform/default/dso_loader.cc:49] Successfully opened dynamic library libcudnn.so.7\n",
      "2022-05-12 13:43:45.165747: I tensorflow/stream_executor/cuda/cuda_gpu_executor.cc:941] successful NUMA node read from SysFS had negative value (-1), but there must be at least one NUMA node, so returning NUMA node zero\n",
      "2022-05-12 13:43:45.166489: I tensorflow/stream_executor/cuda/cuda_gpu_executor.cc:941] successful NUMA node read from SysFS had negative value (-1), but there must be at least one NUMA node, so returning NUMA node zero\n",
      "2022-05-12 13:43:45.167026: I tensorflow/core/common_runtime/gpu/gpu_device.cc:1862] Adding visible gpu devices: 0\n",
      "2022-05-12 13:43:45.169195: I tensorflow/core/platform/cpu_feature_guard.cc:142] This TensorFlow binary is optimized with oneAPI Deep Neural Network Library (oneDNN) to use the following CPU instructions in performance-critical operations:  SSE4.1 SSE4.2 AVX AVX2 AVX512F FMA\n",
      "To enable them in other operations, rebuild TensorFlow with the appropriate compiler flags.\n",
      "2022-05-12 13:43:45.170764: I tensorflow/stream_executor/cuda/cuda_gpu_executor.cc:941] successful NUMA node read from SysFS had negative value (-1), but there must be at least one NUMA node, so returning NUMA node zero\n",
      "2022-05-12 13:43:45.171345: I tensorflow/core/common_runtime/gpu/gpu_device.cc:1720] Found device 0 with properties: \n",
      "pciBusID: 0000:00:1e.0 name: Tesla T4 computeCapability: 7.5\n",
      "coreClock: 1.59GHz coreCount: 40 deviceMemorySize: 14.75GiB deviceMemoryBandwidth: 298.08GiB/s\n",
      "2022-05-12 13:43:45.171403: I tensorflow/stream_executor/platform/default/dso_loader.cc:49] Successfully opened dynamic library libcudart.so.10.1\n",
      "2022-05-12 13:43:45.171424: I tensorflow/stream_executor/platform/default/dso_loader.cc:49] Successfully opened dynamic library libcublas.so.10\n",
      "2022-05-12 13:43:45.171438: I tensorflow/stream_executor/platform/default/dso_loader.cc:49] Successfully opened dynamic library libcublasLt.so.10\n",
      "2022-05-12 13:43:45.171451: I tensorflow/stream_executor/platform/default/dso_loader.cc:49] Successfully opened dynamic library libcufft.so.10\n",
      "2022-05-12 13:43:45.171465: I tensorflow/stream_executor/platform/default/dso_loader.cc:49] Successfully opened dynamic library libcurand.so.10\n",
      "2022-05-12 13:43:45.171478: I tensorflow/stream_executor/platform/default/dso_loader.cc:49] Successfully opened dynamic library libcusolver.so.10\n",
      "2022-05-12 13:43:45.171491: I tensorflow/stream_executor/platform/default/dso_loader.cc:49] Successfully opened dynamic library libcusparse.so.10\n",
      "2022-05-12 13:43:45.171507: I tensorflow/stream_executor/platform/default/dso_loader.cc:49] Successfully opened dynamic library libcudnn.so.7\n",
      "2022-05-12 13:43:45.171577: I tensorflow/stream_executor/cuda/cuda_gpu_executor.cc:941] successful NUMA node read from SysFS had negative value (-1), but there must be at least one NUMA node, so returning NUMA node zero\n",
      "2022-05-12 13:43:45.172154: I tensorflow/stream_executor/cuda/cuda_gpu_executor.cc:941] successful NUMA node read from SysFS had negative value (-1), but there must be at least one NUMA node, so returning NUMA node zero\n",
      "2022-05-12 13:43:45.172678: I tensorflow/core/common_runtime/gpu/gpu_device.cc:1862] Adding visible gpu devices: 0\n",
      "2022-05-12 13:43:45.173776: I tensorflow/stream_executor/platform/default/dso_loader.cc:49] Successfully opened dynamic library libcudart.so.10.1\n",
      "2022-05-12 13:43:47.401767: I tensorflow/core/common_runtime/gpu/gpu_device.cc:1261] Device interconnect StreamExecutor with strength 1 edge matrix:\n",
      "2022-05-12 13:43:47.401797: I tensorflow/core/common_runtime/gpu/gpu_device.cc:1267]      0 \n",
      "2022-05-12 13:43:47.401804: I tensorflow/core/common_runtime/gpu/gpu_device.cc:1280] 0:   N \n",
      "2022-05-12 13:43:47.403440: I tensorflow/stream_executor/cuda/cuda_gpu_executor.cc:941] successful NUMA node read from SysFS had negative value (-1), but there must be at least one NUMA node, so returning NUMA node zero\n",
      "2022-05-12 13:43:47.404070: I tensorflow/stream_executor/cuda/cuda_gpu_executor.cc:941] successful NUMA node read from SysFS had negative value (-1), but there must be at least one NUMA node, so returning NUMA node zero\n",
      "2022-05-12 13:43:47.404635: I tensorflow/stream_executor/cuda/cuda_gpu_executor.cc:941] successful NUMA node read from SysFS had negative value (-1), but there must be at least one NUMA node, so returning NUMA node zero\n",
      "2022-05-12 13:43:47.405184: I tensorflow/core/common_runtime/gpu/gpu_device.cc:1406] Created TensorFlow device (/job:localhost/replica:0/task:0/device:GPU:0 with 13970 MB memory) -> physical GPU (device: 0, name: Tesla T4, pci bus id: 0000:00:1e.0, compute capability: 7.5)\n",
      "2022-05-12 13:43:47.409801: I tensorflow/compiler/jit/xla_gpu_device.cc:99] Not creating XLA devices, tf_xla_enable_xla_devices not set\n",
      "2022-05-12 13:43:47.411203: W tensorflow/core/framework/cpu_allocator_impl.cc:80] Allocation of 1001127936 exceeds 10% of free system memory.\n"
     ]
    }
   ],
   "source": [
    "train_dataset = create_dataset(train_img_path, train_label, (IMAGE_SIZE, IMAGE_SIZE), BATCH_SIZE)\n",
    "valid_dataset = create_dataset(vali_img_path, vali_label, (IMAGE_SIZE, IMAGE_SIZE), BATCH_SIZE )"
   ]
  },
  {
   "cell_type": "code",
   "execution_count": 9,
   "metadata": {
    "colab": {
     "base_uri": "https://localhost:8080/"
    },
    "executionInfo": {
     "elapsed": 10,
     "status": "ok",
     "timestamp": 1652243488075,
     "user": {
      "displayName": "이희경",
      "userId": "11464043579838471612"
     },
     "user_tz": -540
    },
    "id": "n-og-9kx11Bh",
    "outputId": "054cff63-8b58-4a0c-8e90-76a1e0fe1647"
   },
   "outputs": [
    {
     "data": {
      "text/plain": [
       "<RepeatDataset shapes: ((8, 256, 256, 3), (8,)), types: (tf.float32, tf.float32)>"
      ]
     },
     "execution_count": 9,
     "metadata": {},
     "output_type": "execute_result"
    }
   ],
   "source": [
    "train_dataset"
   ]
  },
  {
   "cell_type": "code",
   "execution_count": 10,
   "metadata": {
    "colab": {
     "base_uri": "https://localhost:8080/"
    },
    "executionInfo": {
     "elapsed": 8,
     "status": "ok",
     "timestamp": 1652243488075,
     "user": {
      "displayName": "이희경",
      "userId": "11464043579838471612"
     },
     "user_tz": -540
    },
    "id": "Grm_U7z312tE",
    "outputId": "6d93f6be-541b-4745-cccc-5e1d0dd98a89"
   },
   "outputs": [
    {
     "data": {
      "text/plain": [
       "<RepeatDataset shapes: ((8, 256, 256, 3), (8,)), types: (tf.float32, tf.float32)>"
      ]
     },
     "execution_count": 10,
     "metadata": {},
     "output_type": "execute_result"
    }
   ],
   "source": [
    "valid_dataset"
   ]
  },
  {
   "cell_type": "markdown",
   "metadata": {
    "id": "DZCkQmwu14YU"
   },
   "source": [
    "# EfficientNetB7 Model"
   ]
  },
  {
   "cell_type": "code",
   "execution_count": 11,
   "metadata": {
    "id": "lmrxzqVGtj3M"
   },
   "outputs": [
    {
     "name": "stdout",
     "output_type": "stream",
     "text": [
      "Downloading data from https://github.com/Callidior/keras-applications/releases/download/efficientnet/efficientnet-b7_weights_tf_dim_ordering_tf_kernels_autoaugment_notop.h5\n",
      "258441216/258434480 [==============================] - 20s 0us/step\n",
      "Model: \"efficientnet-b7\"\n",
      "__________________________________________________________________________________________________\n",
      "Layer (type)                    Output Shape         Param #     Connected to                     \n",
      "==================================================================================================\n",
      "input_1 (InputLayer)            [(None, 256, 256, 3) 0                                            \n",
      "__________________________________________________________________________________________________\n",
      "stem_conv (Conv2D)              (None, 128, 128, 64) 1728        input_1[0][0]                    \n",
      "__________________________________________________________________________________________________\n",
      "stem_bn (BatchNormalization)    (None, 128, 128, 64) 256         stem_conv[0][0]                  \n",
      "__________________________________________________________________________________________________\n",
      "stem_activation (Activation)    (None, 128, 128, 64) 0           stem_bn[0][0]                    \n",
      "__________________________________________________________________________________________________\n",
      "block1a_dwconv (DepthwiseConv2D (None, 128, 128, 64) 576         stem_activation[0][0]            \n",
      "__________________________________________________________________________________________________\n",
      "block1a_bn (BatchNormalization) (None, 128, 128, 64) 256         block1a_dwconv[0][0]             \n",
      "__________________________________________________________________________________________________\n",
      "block1a_activation (Activation) (None, 128, 128, 64) 0           block1a_bn[0][0]                 \n",
      "__________________________________________________________________________________________________\n",
      "block1a_se_squeeze (GlobalAvera (None, 64)           0           block1a_activation[0][0]         \n",
      "__________________________________________________________________________________________________\n",
      "block1a_se_reshape (Reshape)    (None, 1, 1, 64)     0           block1a_se_squeeze[0][0]         \n",
      "__________________________________________________________________________________________________\n",
      "block1a_se_reduce (Conv2D)      (None, 1, 1, 16)     1040        block1a_se_reshape[0][0]         \n",
      "__________________________________________________________________________________________________\n",
      "block1a_se_expand (Conv2D)      (None, 1, 1, 64)     1088        block1a_se_reduce[0][0]          \n",
      "__________________________________________________________________________________________________\n",
      "block1a_se_excite (Multiply)    (None, 128, 128, 64) 0           block1a_activation[0][0]         \n",
      "                                                                 block1a_se_expand[0][0]          \n",
      "__________________________________________________________________________________________________\n",
      "block1a_project_conv (Conv2D)   (None, 128, 128, 32) 2048        block1a_se_excite[0][0]          \n",
      "__________________________________________________________________________________________________\n",
      "block1a_project_bn (BatchNormal (None, 128, 128, 32) 128         block1a_project_conv[0][0]       \n",
      "__________________________________________________________________________________________________\n",
      "block1b_dwconv (DepthwiseConv2D (None, 128, 128, 32) 288         block1a_project_bn[0][0]         \n",
      "__________________________________________________________________________________________________\n",
      "block1b_bn (BatchNormalization) (None, 128, 128, 32) 128         block1b_dwconv[0][0]             \n",
      "__________________________________________________________________________________________________\n",
      "block1b_activation (Activation) (None, 128, 128, 32) 0           block1b_bn[0][0]                 \n",
      "__________________________________________________________________________________________________\n",
      "block1b_se_squeeze (GlobalAvera (None, 32)           0           block1b_activation[0][0]         \n",
      "__________________________________________________________________________________________________\n",
      "block1b_se_reshape (Reshape)    (None, 1, 1, 32)     0           block1b_se_squeeze[0][0]         \n",
      "__________________________________________________________________________________________________\n",
      "block1b_se_reduce (Conv2D)      (None, 1, 1, 8)      264         block1b_se_reshape[0][0]         \n",
      "__________________________________________________________________________________________________\n",
      "block1b_se_expand (Conv2D)      (None, 1, 1, 32)     288         block1b_se_reduce[0][0]          \n",
      "__________________________________________________________________________________________________\n",
      "block1b_se_excite (Multiply)    (None, 128, 128, 32) 0           block1b_activation[0][0]         \n",
      "                                                                 block1b_se_expand[0][0]          \n",
      "__________________________________________________________________________________________________\n",
      "block1b_project_conv (Conv2D)   (None, 128, 128, 32) 1024        block1b_se_excite[0][0]          \n",
      "__________________________________________________________________________________________________\n",
      "block1b_project_bn (BatchNormal (None, 128, 128, 32) 128         block1b_project_conv[0][0]       \n",
      "__________________________________________________________________________________________________\n",
      "block1b_drop (FixedDropout)     (None, 128, 128, 32) 0           block1b_project_bn[0][0]         \n",
      "__________________________________________________________________________________________________\n",
      "block1b_add (Add)               (None, 128, 128, 32) 0           block1b_drop[0][0]               \n",
      "                                                                 block1a_project_bn[0][0]         \n",
      "__________________________________________________________________________________________________\n",
      "block1c_dwconv (DepthwiseConv2D (None, 128, 128, 32) 288         block1b_add[0][0]                \n",
      "__________________________________________________________________________________________________\n",
      "block1c_bn (BatchNormalization) (None, 128, 128, 32) 128         block1c_dwconv[0][0]             \n",
      "__________________________________________________________________________________________________\n",
      "block1c_activation (Activation) (None, 128, 128, 32) 0           block1c_bn[0][0]                 \n",
      "__________________________________________________________________________________________________\n",
      "block1c_se_squeeze (GlobalAvera (None, 32)           0           block1c_activation[0][0]         \n",
      "__________________________________________________________________________________________________\n",
      "block1c_se_reshape (Reshape)    (None, 1, 1, 32)     0           block1c_se_squeeze[0][0]         \n",
      "__________________________________________________________________________________________________\n",
      "block1c_se_reduce (Conv2D)      (None, 1, 1, 8)      264         block1c_se_reshape[0][0]         \n",
      "__________________________________________________________________________________________________\n",
      "block1c_se_expand (Conv2D)      (None, 1, 1, 32)     288         block1c_se_reduce[0][0]          \n",
      "__________________________________________________________________________________________________\n",
      "block1c_se_excite (Multiply)    (None, 128, 128, 32) 0           block1c_activation[0][0]         \n",
      "                                                                 block1c_se_expand[0][0]          \n",
      "__________________________________________________________________________________________________\n",
      "block1c_project_conv (Conv2D)   (None, 128, 128, 32) 1024        block1c_se_excite[0][0]          \n",
      "__________________________________________________________________________________________________\n",
      "block1c_project_bn (BatchNormal (None, 128, 128, 32) 128         block1c_project_conv[0][0]       \n",
      "__________________________________________________________________________________________________\n",
      "block1c_drop (FixedDropout)     (None, 128, 128, 32) 0           block1c_project_bn[0][0]         \n",
      "__________________________________________________________________________________________________\n",
      "block1c_add (Add)               (None, 128, 128, 32) 0           block1c_drop[0][0]               \n",
      "                                                                 block1b_add[0][0]                \n",
      "__________________________________________________________________________________________________\n",
      "block1d_dwconv (DepthwiseConv2D (None, 128, 128, 32) 288         block1c_add[0][0]                \n",
      "__________________________________________________________________________________________________\n",
      "block1d_bn (BatchNormalization) (None, 128, 128, 32) 128         block1d_dwconv[0][0]             \n",
      "__________________________________________________________________________________________________\n",
      "block1d_activation (Activation) (None, 128, 128, 32) 0           block1d_bn[0][0]                 \n",
      "__________________________________________________________________________________________________\n",
      "block1d_se_squeeze (GlobalAvera (None, 32)           0           block1d_activation[0][0]         \n",
      "__________________________________________________________________________________________________\n",
      "block1d_se_reshape (Reshape)    (None, 1, 1, 32)     0           block1d_se_squeeze[0][0]         \n",
      "__________________________________________________________________________________________________\n",
      "block1d_se_reduce (Conv2D)      (None, 1, 1, 8)      264         block1d_se_reshape[0][0]         \n",
      "__________________________________________________________________________________________________\n",
      "block1d_se_expand (Conv2D)      (None, 1, 1, 32)     288         block1d_se_reduce[0][0]          \n",
      "__________________________________________________________________________________________________\n",
      "block1d_se_excite (Multiply)    (None, 128, 128, 32) 0           block1d_activation[0][0]         \n",
      "                                                                 block1d_se_expand[0][0]          \n",
      "__________________________________________________________________________________________________\n",
      "block1d_project_conv (Conv2D)   (None, 128, 128, 32) 1024        block1d_se_excite[0][0]          \n",
      "__________________________________________________________________________________________________\n",
      "block1d_project_bn (BatchNormal (None, 128, 128, 32) 128         block1d_project_conv[0][0]       \n",
      "__________________________________________________________________________________________________\n",
      "block1d_drop (FixedDropout)     (None, 128, 128, 32) 0           block1d_project_bn[0][0]         \n",
      "__________________________________________________________________________________________________\n",
      "block1d_add (Add)               (None, 128, 128, 32) 0           block1d_drop[0][0]               \n",
      "                                                                 block1c_add[0][0]                \n",
      "__________________________________________________________________________________________________\n",
      "block2a_expand_conv (Conv2D)    (None, 128, 128, 192 6144        block1d_add[0][0]                \n",
      "__________________________________________________________________________________________________\n",
      "block2a_expand_bn (BatchNormali (None, 128, 128, 192 768         block2a_expand_conv[0][0]        \n",
      "__________________________________________________________________________________________________\n",
      "block2a_expand_activation (Acti (None, 128, 128, 192 0           block2a_expand_bn[0][0]          \n",
      "__________________________________________________________________________________________________\n",
      "block2a_dwconv (DepthwiseConv2D (None, 64, 64, 192)  1728        block2a_expand_activation[0][0]  \n",
      "__________________________________________________________________________________________________\n",
      "block2a_bn (BatchNormalization) (None, 64, 64, 192)  768         block2a_dwconv[0][0]             \n",
      "__________________________________________________________________________________________________\n",
      "block2a_activation (Activation) (None, 64, 64, 192)  0           block2a_bn[0][0]                 \n",
      "__________________________________________________________________________________________________\n",
      "block2a_se_squeeze (GlobalAvera (None, 192)          0           block2a_activation[0][0]         \n",
      "__________________________________________________________________________________________________\n",
      "block2a_se_reshape (Reshape)    (None, 1, 1, 192)    0           block2a_se_squeeze[0][0]         \n",
      "__________________________________________________________________________________________________\n",
      "block2a_se_reduce (Conv2D)      (None, 1, 1, 8)      1544        block2a_se_reshape[0][0]         \n",
      "__________________________________________________________________________________________________\n",
      "block2a_se_expand (Conv2D)      (None, 1, 1, 192)    1728        block2a_se_reduce[0][0]          \n",
      "__________________________________________________________________________________________________\n",
      "block2a_se_excite (Multiply)    (None, 64, 64, 192)  0           block2a_activation[0][0]         \n",
      "                                                                 block2a_se_expand[0][0]          \n",
      "__________________________________________________________________________________________________\n",
      "block2a_project_conv (Conv2D)   (None, 64, 64, 48)   9216        block2a_se_excite[0][0]          \n",
      "__________________________________________________________________________________________________\n",
      "block2a_project_bn (BatchNormal (None, 64, 64, 48)   192         block2a_project_conv[0][0]       \n",
      "__________________________________________________________________________________________________\n",
      "block2b_expand_conv (Conv2D)    (None, 64, 64, 288)  13824       block2a_project_bn[0][0]         \n",
      "__________________________________________________________________________________________________\n",
      "block2b_expand_bn (BatchNormali (None, 64, 64, 288)  1152        block2b_expand_conv[0][0]        \n",
      "__________________________________________________________________________________________________\n",
      "block2b_expand_activation (Acti (None, 64, 64, 288)  0           block2b_expand_bn[0][0]          \n",
      "__________________________________________________________________________________________________\n",
      "block2b_dwconv (DepthwiseConv2D (None, 64, 64, 288)  2592        block2b_expand_activation[0][0]  \n",
      "__________________________________________________________________________________________________\n",
      "block2b_bn (BatchNormalization) (None, 64, 64, 288)  1152        block2b_dwconv[0][0]             \n",
      "__________________________________________________________________________________________________\n",
      "block2b_activation (Activation) (None, 64, 64, 288)  0           block2b_bn[0][0]                 \n",
      "__________________________________________________________________________________________________\n",
      "block2b_se_squeeze (GlobalAvera (None, 288)          0           block2b_activation[0][0]         \n",
      "__________________________________________________________________________________________________\n",
      "block2b_se_reshape (Reshape)    (None, 1, 1, 288)    0           block2b_se_squeeze[0][0]         \n",
      "__________________________________________________________________________________________________\n",
      "block2b_se_reduce (Conv2D)      (None, 1, 1, 12)     3468        block2b_se_reshape[0][0]         \n",
      "__________________________________________________________________________________________________\n",
      "block2b_se_expand (Conv2D)      (None, 1, 1, 288)    3744        block2b_se_reduce[0][0]          \n",
      "__________________________________________________________________________________________________\n",
      "block2b_se_excite (Multiply)    (None, 64, 64, 288)  0           block2b_activation[0][0]         \n",
      "                                                                 block2b_se_expand[0][0]          \n",
      "__________________________________________________________________________________________________\n",
      "block2b_project_conv (Conv2D)   (None, 64, 64, 48)   13824       block2b_se_excite[0][0]          \n",
      "__________________________________________________________________________________________________\n",
      "block2b_project_bn (BatchNormal (None, 64, 64, 48)   192         block2b_project_conv[0][0]       \n",
      "__________________________________________________________________________________________________\n",
      "block2b_drop (FixedDropout)     (None, 64, 64, 48)   0           block2b_project_bn[0][0]         \n",
      "__________________________________________________________________________________________________\n",
      "block2b_add (Add)               (None, 64, 64, 48)   0           block2b_drop[0][0]               \n",
      "                                                                 block2a_project_bn[0][0]         \n",
      "__________________________________________________________________________________________________\n",
      "block2c_expand_conv (Conv2D)    (None, 64, 64, 288)  13824       block2b_add[0][0]                \n",
      "__________________________________________________________________________________________________\n",
      "block2c_expand_bn (BatchNormali (None, 64, 64, 288)  1152        block2c_expand_conv[0][0]        \n",
      "__________________________________________________________________________________________________\n",
      "block2c_expand_activation (Acti (None, 64, 64, 288)  0           block2c_expand_bn[0][0]          \n",
      "__________________________________________________________________________________________________\n",
      "block2c_dwconv (DepthwiseConv2D (None, 64, 64, 288)  2592        block2c_expand_activation[0][0]  \n",
      "__________________________________________________________________________________________________\n",
      "block2c_bn (BatchNormalization) (None, 64, 64, 288)  1152        block2c_dwconv[0][0]             \n",
      "__________________________________________________________________________________________________\n",
      "block2c_activation (Activation) (None, 64, 64, 288)  0           block2c_bn[0][0]                 \n",
      "__________________________________________________________________________________________________\n",
      "block2c_se_squeeze (GlobalAvera (None, 288)          0           block2c_activation[0][0]         \n",
      "__________________________________________________________________________________________________\n",
      "block2c_se_reshape (Reshape)    (None, 1, 1, 288)    0           block2c_se_squeeze[0][0]         \n",
      "__________________________________________________________________________________________________\n",
      "block2c_se_reduce (Conv2D)      (None, 1, 1, 12)     3468        block2c_se_reshape[0][0]         \n",
      "__________________________________________________________________________________________________\n",
      "block2c_se_expand (Conv2D)      (None, 1, 1, 288)    3744        block2c_se_reduce[0][0]          \n",
      "__________________________________________________________________________________________________\n",
      "block2c_se_excite (Multiply)    (None, 64, 64, 288)  0           block2c_activation[0][0]         \n",
      "                                                                 block2c_se_expand[0][0]          \n",
      "__________________________________________________________________________________________________\n",
      "block2c_project_conv (Conv2D)   (None, 64, 64, 48)   13824       block2c_se_excite[0][0]          \n",
      "__________________________________________________________________________________________________\n",
      "block2c_project_bn (BatchNormal (None, 64, 64, 48)   192         block2c_project_conv[0][0]       \n",
      "__________________________________________________________________________________________________\n",
      "block2c_drop (FixedDropout)     (None, 64, 64, 48)   0           block2c_project_bn[0][0]         \n",
      "__________________________________________________________________________________________________\n",
      "block2c_add (Add)               (None, 64, 64, 48)   0           block2c_drop[0][0]               \n",
      "                                                                 block2b_add[0][0]                \n",
      "__________________________________________________________________________________________________\n",
      "block2d_expand_conv (Conv2D)    (None, 64, 64, 288)  13824       block2c_add[0][0]                \n",
      "__________________________________________________________________________________________________\n",
      "block2d_expand_bn (BatchNormali (None, 64, 64, 288)  1152        block2d_expand_conv[0][0]        \n",
      "__________________________________________________________________________________________________\n",
      "block2d_expand_activation (Acti (None, 64, 64, 288)  0           block2d_expand_bn[0][0]          \n",
      "__________________________________________________________________________________________________\n",
      "block2d_dwconv (DepthwiseConv2D (None, 64, 64, 288)  2592        block2d_expand_activation[0][0]  \n",
      "__________________________________________________________________________________________________\n",
      "block2d_bn (BatchNormalization) (None, 64, 64, 288)  1152        block2d_dwconv[0][0]             \n",
      "__________________________________________________________________________________________________\n",
      "block2d_activation (Activation) (None, 64, 64, 288)  0           block2d_bn[0][0]                 \n",
      "__________________________________________________________________________________________________\n",
      "block2d_se_squeeze (GlobalAvera (None, 288)          0           block2d_activation[0][0]         \n",
      "__________________________________________________________________________________________________\n",
      "block2d_se_reshape (Reshape)    (None, 1, 1, 288)    0           block2d_se_squeeze[0][0]         \n",
      "__________________________________________________________________________________________________\n",
      "block2d_se_reduce (Conv2D)      (None, 1, 1, 12)     3468        block2d_se_reshape[0][0]         \n",
      "__________________________________________________________________________________________________\n",
      "block2d_se_expand (Conv2D)      (None, 1, 1, 288)    3744        block2d_se_reduce[0][0]          \n",
      "__________________________________________________________________________________________________\n",
      "block2d_se_excite (Multiply)    (None, 64, 64, 288)  0           block2d_activation[0][0]         \n",
      "                                                                 block2d_se_expand[0][0]          \n",
      "__________________________________________________________________________________________________\n",
      "block2d_project_conv (Conv2D)   (None, 64, 64, 48)   13824       block2d_se_excite[0][0]          \n",
      "__________________________________________________________________________________________________\n",
      "block2d_project_bn (BatchNormal (None, 64, 64, 48)   192         block2d_project_conv[0][0]       \n",
      "__________________________________________________________________________________________________\n",
      "block2d_drop (FixedDropout)     (None, 64, 64, 48)   0           block2d_project_bn[0][0]         \n",
      "__________________________________________________________________________________________________\n",
      "block2d_add (Add)               (None, 64, 64, 48)   0           block2d_drop[0][0]               \n",
      "                                                                 block2c_add[0][0]                \n",
      "__________________________________________________________________________________________________\n",
      "block2e_expand_conv (Conv2D)    (None, 64, 64, 288)  13824       block2d_add[0][0]                \n",
      "__________________________________________________________________________________________________\n",
      "block2e_expand_bn (BatchNormali (None, 64, 64, 288)  1152        block2e_expand_conv[0][0]        \n",
      "__________________________________________________________________________________________________\n",
      "block2e_expand_activation (Acti (None, 64, 64, 288)  0           block2e_expand_bn[0][0]          \n",
      "__________________________________________________________________________________________________\n",
      "block2e_dwconv (DepthwiseConv2D (None, 64, 64, 288)  2592        block2e_expand_activation[0][0]  \n",
      "__________________________________________________________________________________________________\n",
      "block2e_bn (BatchNormalization) (None, 64, 64, 288)  1152        block2e_dwconv[0][0]             \n",
      "__________________________________________________________________________________________________\n",
      "block2e_activation (Activation) (None, 64, 64, 288)  0           block2e_bn[0][0]                 \n",
      "__________________________________________________________________________________________________\n",
      "block2e_se_squeeze (GlobalAvera (None, 288)          0           block2e_activation[0][0]         \n",
      "__________________________________________________________________________________________________\n",
      "block2e_se_reshape (Reshape)    (None, 1, 1, 288)    0           block2e_se_squeeze[0][0]         \n",
      "__________________________________________________________________________________________________\n",
      "block2e_se_reduce (Conv2D)      (None, 1, 1, 12)     3468        block2e_se_reshape[0][0]         \n",
      "__________________________________________________________________________________________________\n",
      "block2e_se_expand (Conv2D)      (None, 1, 1, 288)    3744        block2e_se_reduce[0][0]          \n",
      "__________________________________________________________________________________________________\n",
      "block2e_se_excite (Multiply)    (None, 64, 64, 288)  0           block2e_activation[0][0]         \n",
      "                                                                 block2e_se_expand[0][0]          \n",
      "__________________________________________________________________________________________________\n",
      "block2e_project_conv (Conv2D)   (None, 64, 64, 48)   13824       block2e_se_excite[0][0]          \n",
      "__________________________________________________________________________________________________\n",
      "block2e_project_bn (BatchNormal (None, 64, 64, 48)   192         block2e_project_conv[0][0]       \n",
      "__________________________________________________________________________________________________\n",
      "block2e_drop (FixedDropout)     (None, 64, 64, 48)   0           block2e_project_bn[0][0]         \n",
      "__________________________________________________________________________________________________\n",
      "block2e_add (Add)               (None, 64, 64, 48)   0           block2e_drop[0][0]               \n",
      "                                                                 block2d_add[0][0]                \n",
      "__________________________________________________________________________________________________\n",
      "block2f_expand_conv (Conv2D)    (None, 64, 64, 288)  13824       block2e_add[0][0]                \n",
      "__________________________________________________________________________________________________\n",
      "block2f_expand_bn (BatchNormali (None, 64, 64, 288)  1152        block2f_expand_conv[0][0]        \n",
      "__________________________________________________________________________________________________\n",
      "block2f_expand_activation (Acti (None, 64, 64, 288)  0           block2f_expand_bn[0][0]          \n",
      "__________________________________________________________________________________________________\n",
      "block2f_dwconv (DepthwiseConv2D (None, 64, 64, 288)  2592        block2f_expand_activation[0][0]  \n",
      "__________________________________________________________________________________________________\n",
      "block2f_bn (BatchNormalization) (None, 64, 64, 288)  1152        block2f_dwconv[0][0]             \n",
      "__________________________________________________________________________________________________\n",
      "block2f_activation (Activation) (None, 64, 64, 288)  0           block2f_bn[0][0]                 \n",
      "__________________________________________________________________________________________________\n",
      "block2f_se_squeeze (GlobalAvera (None, 288)          0           block2f_activation[0][0]         \n",
      "__________________________________________________________________________________________________\n",
      "block2f_se_reshape (Reshape)    (None, 1, 1, 288)    0           block2f_se_squeeze[0][0]         \n",
      "__________________________________________________________________________________________________\n",
      "block2f_se_reduce (Conv2D)      (None, 1, 1, 12)     3468        block2f_se_reshape[0][0]         \n",
      "__________________________________________________________________________________________________\n",
      "block2f_se_expand (Conv2D)      (None, 1, 1, 288)    3744        block2f_se_reduce[0][0]          \n",
      "__________________________________________________________________________________________________\n",
      "block2f_se_excite (Multiply)    (None, 64, 64, 288)  0           block2f_activation[0][0]         \n",
      "                                                                 block2f_se_expand[0][0]          \n",
      "__________________________________________________________________________________________________\n",
      "block2f_project_conv (Conv2D)   (None, 64, 64, 48)   13824       block2f_se_excite[0][0]          \n",
      "__________________________________________________________________________________________________\n",
      "block2f_project_bn (BatchNormal (None, 64, 64, 48)   192         block2f_project_conv[0][0]       \n",
      "__________________________________________________________________________________________________\n",
      "block2f_drop (FixedDropout)     (None, 64, 64, 48)   0           block2f_project_bn[0][0]         \n",
      "__________________________________________________________________________________________________\n",
      "block2f_add (Add)               (None, 64, 64, 48)   0           block2f_drop[0][0]               \n",
      "                                                                 block2e_add[0][0]                \n",
      "__________________________________________________________________________________________________\n",
      "block2g_expand_conv (Conv2D)    (None, 64, 64, 288)  13824       block2f_add[0][0]                \n",
      "__________________________________________________________________________________________________\n",
      "block2g_expand_bn (BatchNormali (None, 64, 64, 288)  1152        block2g_expand_conv[0][0]        \n",
      "__________________________________________________________________________________________________\n",
      "block2g_expand_activation (Acti (None, 64, 64, 288)  0           block2g_expand_bn[0][0]          \n",
      "__________________________________________________________________________________________________\n",
      "block2g_dwconv (DepthwiseConv2D (None, 64, 64, 288)  2592        block2g_expand_activation[0][0]  \n",
      "__________________________________________________________________________________________________\n",
      "block2g_bn (BatchNormalization) (None, 64, 64, 288)  1152        block2g_dwconv[0][0]             \n",
      "__________________________________________________________________________________________________\n",
      "block2g_activation (Activation) (None, 64, 64, 288)  0           block2g_bn[0][0]                 \n",
      "__________________________________________________________________________________________________\n",
      "block2g_se_squeeze (GlobalAvera (None, 288)          0           block2g_activation[0][0]         \n",
      "__________________________________________________________________________________________________\n",
      "block2g_se_reshape (Reshape)    (None, 1, 1, 288)    0           block2g_se_squeeze[0][0]         \n",
      "__________________________________________________________________________________________________\n",
      "block2g_se_reduce (Conv2D)      (None, 1, 1, 12)     3468        block2g_se_reshape[0][0]         \n",
      "__________________________________________________________________________________________________\n",
      "block2g_se_expand (Conv2D)      (None, 1, 1, 288)    3744        block2g_se_reduce[0][0]          \n",
      "__________________________________________________________________________________________________\n",
      "block2g_se_excite (Multiply)    (None, 64, 64, 288)  0           block2g_activation[0][0]         \n",
      "                                                                 block2g_se_expand[0][0]          \n",
      "__________________________________________________________________________________________________\n",
      "block2g_project_conv (Conv2D)   (None, 64, 64, 48)   13824       block2g_se_excite[0][0]          \n",
      "__________________________________________________________________________________________________\n",
      "block2g_project_bn (BatchNormal (None, 64, 64, 48)   192         block2g_project_conv[0][0]       \n",
      "__________________________________________________________________________________________________\n",
      "block2g_drop (FixedDropout)     (None, 64, 64, 48)   0           block2g_project_bn[0][0]         \n",
      "__________________________________________________________________________________________________\n",
      "block2g_add (Add)               (None, 64, 64, 48)   0           block2g_drop[0][0]               \n",
      "                                                                 block2f_add[0][0]                \n",
      "__________________________________________________________________________________________________\n",
      "block3a_expand_conv (Conv2D)    (None, 64, 64, 288)  13824       block2g_add[0][0]                \n",
      "__________________________________________________________________________________________________\n",
      "block3a_expand_bn (BatchNormali (None, 64, 64, 288)  1152        block3a_expand_conv[0][0]        \n",
      "__________________________________________________________________________________________________\n",
      "block3a_expand_activation (Acti (None, 64, 64, 288)  0           block3a_expand_bn[0][0]          \n",
      "__________________________________________________________________________________________________\n",
      "block3a_dwconv (DepthwiseConv2D (None, 32, 32, 288)  7200        block3a_expand_activation[0][0]  \n",
      "__________________________________________________________________________________________________\n",
      "block3a_bn (BatchNormalization) (None, 32, 32, 288)  1152        block3a_dwconv[0][0]             \n",
      "__________________________________________________________________________________________________\n",
      "block3a_activation (Activation) (None, 32, 32, 288)  0           block3a_bn[0][0]                 \n",
      "__________________________________________________________________________________________________\n",
      "block3a_se_squeeze (GlobalAvera (None, 288)          0           block3a_activation[0][0]         \n",
      "__________________________________________________________________________________________________\n",
      "block3a_se_reshape (Reshape)    (None, 1, 1, 288)    0           block3a_se_squeeze[0][0]         \n",
      "__________________________________________________________________________________________________\n",
      "block3a_se_reduce (Conv2D)      (None, 1, 1, 12)     3468        block3a_se_reshape[0][0]         \n",
      "__________________________________________________________________________________________________\n",
      "block3a_se_expand (Conv2D)      (None, 1, 1, 288)    3744        block3a_se_reduce[0][0]          \n",
      "__________________________________________________________________________________________________\n",
      "block3a_se_excite (Multiply)    (None, 32, 32, 288)  0           block3a_activation[0][0]         \n",
      "                                                                 block3a_se_expand[0][0]          \n",
      "__________________________________________________________________________________________________\n",
      "block3a_project_conv (Conv2D)   (None, 32, 32, 80)   23040       block3a_se_excite[0][0]          \n",
      "__________________________________________________________________________________________________\n",
      "block3a_project_bn (BatchNormal (None, 32, 32, 80)   320         block3a_project_conv[0][0]       \n",
      "__________________________________________________________________________________________________\n",
      "block3b_expand_conv (Conv2D)    (None, 32, 32, 480)  38400       block3a_project_bn[0][0]         \n",
      "__________________________________________________________________________________________________\n",
      "block3b_expand_bn (BatchNormali (None, 32, 32, 480)  1920        block3b_expand_conv[0][0]        \n",
      "__________________________________________________________________________________________________\n",
      "block3b_expand_activation (Acti (None, 32, 32, 480)  0           block3b_expand_bn[0][0]          \n",
      "__________________________________________________________________________________________________\n",
      "block3b_dwconv (DepthwiseConv2D (None, 32, 32, 480)  12000       block3b_expand_activation[0][0]  \n",
      "__________________________________________________________________________________________________\n",
      "block3b_bn (BatchNormalization) (None, 32, 32, 480)  1920        block3b_dwconv[0][0]             \n",
      "__________________________________________________________________________________________________\n",
      "block3b_activation (Activation) (None, 32, 32, 480)  0           block3b_bn[0][0]                 \n",
      "__________________________________________________________________________________________________\n",
      "block3b_se_squeeze (GlobalAvera (None, 480)          0           block3b_activation[0][0]         \n",
      "__________________________________________________________________________________________________\n",
      "block3b_se_reshape (Reshape)    (None, 1, 1, 480)    0           block3b_se_squeeze[0][0]         \n",
      "__________________________________________________________________________________________________\n",
      "block3b_se_reduce (Conv2D)      (None, 1, 1, 20)     9620        block3b_se_reshape[0][0]         \n",
      "__________________________________________________________________________________________________\n",
      "block3b_se_expand (Conv2D)      (None, 1, 1, 480)    10080       block3b_se_reduce[0][0]          \n",
      "__________________________________________________________________________________________________\n",
      "block3b_se_excite (Multiply)    (None, 32, 32, 480)  0           block3b_activation[0][0]         \n",
      "                                                                 block3b_se_expand[0][0]          \n",
      "__________________________________________________________________________________________________\n",
      "block3b_project_conv (Conv2D)   (None, 32, 32, 80)   38400       block3b_se_excite[0][0]          \n",
      "__________________________________________________________________________________________________\n",
      "block3b_project_bn (BatchNormal (None, 32, 32, 80)   320         block3b_project_conv[0][0]       \n",
      "__________________________________________________________________________________________________\n",
      "block3b_drop (FixedDropout)     (None, 32, 32, 80)   0           block3b_project_bn[0][0]         \n",
      "__________________________________________________________________________________________________\n",
      "block3b_add (Add)               (None, 32, 32, 80)   0           block3b_drop[0][0]               \n",
      "                                                                 block3a_project_bn[0][0]         \n",
      "__________________________________________________________________________________________________\n",
      "block3c_expand_conv (Conv2D)    (None, 32, 32, 480)  38400       block3b_add[0][0]                \n",
      "__________________________________________________________________________________________________\n",
      "block3c_expand_bn (BatchNormali (None, 32, 32, 480)  1920        block3c_expand_conv[0][0]        \n",
      "__________________________________________________________________________________________________\n",
      "block3c_expand_activation (Acti (None, 32, 32, 480)  0           block3c_expand_bn[0][0]          \n",
      "__________________________________________________________________________________________________\n",
      "block3c_dwconv (DepthwiseConv2D (None, 32, 32, 480)  12000       block3c_expand_activation[0][0]  \n",
      "__________________________________________________________________________________________________\n",
      "block3c_bn (BatchNormalization) (None, 32, 32, 480)  1920        block3c_dwconv[0][0]             \n",
      "__________________________________________________________________________________________________\n",
      "block3c_activation (Activation) (None, 32, 32, 480)  0           block3c_bn[0][0]                 \n",
      "__________________________________________________________________________________________________\n",
      "block3c_se_squeeze (GlobalAvera (None, 480)          0           block3c_activation[0][0]         \n",
      "__________________________________________________________________________________________________\n",
      "block3c_se_reshape (Reshape)    (None, 1, 1, 480)    0           block3c_se_squeeze[0][0]         \n",
      "__________________________________________________________________________________________________\n",
      "block3c_se_reduce (Conv2D)      (None, 1, 1, 20)     9620        block3c_se_reshape[0][0]         \n",
      "__________________________________________________________________________________________________\n",
      "block3c_se_expand (Conv2D)      (None, 1, 1, 480)    10080       block3c_se_reduce[0][0]          \n",
      "__________________________________________________________________________________________________\n",
      "block3c_se_excite (Multiply)    (None, 32, 32, 480)  0           block3c_activation[0][0]         \n",
      "                                                                 block3c_se_expand[0][0]          \n",
      "__________________________________________________________________________________________________\n",
      "block3c_project_conv (Conv2D)   (None, 32, 32, 80)   38400       block3c_se_excite[0][0]          \n",
      "__________________________________________________________________________________________________\n",
      "block3c_project_bn (BatchNormal (None, 32, 32, 80)   320         block3c_project_conv[0][0]       \n",
      "__________________________________________________________________________________________________\n",
      "block3c_drop (FixedDropout)     (None, 32, 32, 80)   0           block3c_project_bn[0][0]         \n",
      "__________________________________________________________________________________________________\n",
      "block3c_add (Add)               (None, 32, 32, 80)   0           block3c_drop[0][0]               \n",
      "                                                                 block3b_add[0][0]                \n",
      "__________________________________________________________________________________________________\n",
      "block3d_expand_conv (Conv2D)    (None, 32, 32, 480)  38400       block3c_add[0][0]                \n",
      "__________________________________________________________________________________________________\n",
      "block3d_expand_bn (BatchNormali (None, 32, 32, 480)  1920        block3d_expand_conv[0][0]        \n",
      "__________________________________________________________________________________________________\n",
      "block3d_expand_activation (Acti (None, 32, 32, 480)  0           block3d_expand_bn[0][0]          \n",
      "__________________________________________________________________________________________________\n",
      "block3d_dwconv (DepthwiseConv2D (None, 32, 32, 480)  12000       block3d_expand_activation[0][0]  \n",
      "__________________________________________________________________________________________________\n",
      "block3d_bn (BatchNormalization) (None, 32, 32, 480)  1920        block3d_dwconv[0][0]             \n",
      "__________________________________________________________________________________________________\n",
      "block3d_activation (Activation) (None, 32, 32, 480)  0           block3d_bn[0][0]                 \n",
      "__________________________________________________________________________________________________\n",
      "block3d_se_squeeze (GlobalAvera (None, 480)          0           block3d_activation[0][0]         \n",
      "__________________________________________________________________________________________________\n",
      "block3d_se_reshape (Reshape)    (None, 1, 1, 480)    0           block3d_se_squeeze[0][0]         \n",
      "__________________________________________________________________________________________________\n",
      "block3d_se_reduce (Conv2D)      (None, 1, 1, 20)     9620        block3d_se_reshape[0][0]         \n",
      "__________________________________________________________________________________________________\n",
      "block3d_se_expand (Conv2D)      (None, 1, 1, 480)    10080       block3d_se_reduce[0][0]          \n",
      "__________________________________________________________________________________________________\n",
      "block3d_se_excite (Multiply)    (None, 32, 32, 480)  0           block3d_activation[0][0]         \n",
      "                                                                 block3d_se_expand[0][0]          \n",
      "__________________________________________________________________________________________________\n",
      "block3d_project_conv (Conv2D)   (None, 32, 32, 80)   38400       block3d_se_excite[0][0]          \n",
      "__________________________________________________________________________________________________\n",
      "block3d_project_bn (BatchNormal (None, 32, 32, 80)   320         block3d_project_conv[0][0]       \n",
      "__________________________________________________________________________________________________\n",
      "block3d_drop (FixedDropout)     (None, 32, 32, 80)   0           block3d_project_bn[0][0]         \n",
      "__________________________________________________________________________________________________\n",
      "block3d_add (Add)               (None, 32, 32, 80)   0           block3d_drop[0][0]               \n",
      "                                                                 block3c_add[0][0]                \n",
      "__________________________________________________________________________________________________\n",
      "block3e_expand_conv (Conv2D)    (None, 32, 32, 480)  38400       block3d_add[0][0]                \n",
      "__________________________________________________________________________________________________\n",
      "block3e_expand_bn (BatchNormali (None, 32, 32, 480)  1920        block3e_expand_conv[0][0]        \n",
      "__________________________________________________________________________________________________\n",
      "block3e_expand_activation (Acti (None, 32, 32, 480)  0           block3e_expand_bn[0][0]          \n",
      "__________________________________________________________________________________________________\n",
      "block3e_dwconv (DepthwiseConv2D (None, 32, 32, 480)  12000       block3e_expand_activation[0][0]  \n",
      "__________________________________________________________________________________________________\n",
      "block3e_bn (BatchNormalization) (None, 32, 32, 480)  1920        block3e_dwconv[0][0]             \n",
      "__________________________________________________________________________________________________\n",
      "block3e_activation (Activation) (None, 32, 32, 480)  0           block3e_bn[0][0]                 \n",
      "__________________________________________________________________________________________________\n",
      "block3e_se_squeeze (GlobalAvera (None, 480)          0           block3e_activation[0][0]         \n",
      "__________________________________________________________________________________________________\n",
      "block3e_se_reshape (Reshape)    (None, 1, 1, 480)    0           block3e_se_squeeze[0][0]         \n",
      "__________________________________________________________________________________________________\n",
      "block3e_se_reduce (Conv2D)      (None, 1, 1, 20)     9620        block3e_se_reshape[0][0]         \n",
      "__________________________________________________________________________________________________\n",
      "block3e_se_expand (Conv2D)      (None, 1, 1, 480)    10080       block3e_se_reduce[0][0]          \n",
      "__________________________________________________________________________________________________\n",
      "block3e_se_excite (Multiply)    (None, 32, 32, 480)  0           block3e_activation[0][0]         \n",
      "                                                                 block3e_se_expand[0][0]          \n",
      "__________________________________________________________________________________________________\n",
      "block3e_project_conv (Conv2D)   (None, 32, 32, 80)   38400       block3e_se_excite[0][0]          \n",
      "__________________________________________________________________________________________________\n",
      "block3e_project_bn (BatchNormal (None, 32, 32, 80)   320         block3e_project_conv[0][0]       \n",
      "__________________________________________________________________________________________________\n",
      "block3e_drop (FixedDropout)     (None, 32, 32, 80)   0           block3e_project_bn[0][0]         \n",
      "__________________________________________________________________________________________________\n",
      "block3e_add (Add)               (None, 32, 32, 80)   0           block3e_drop[0][0]               \n",
      "                                                                 block3d_add[0][0]                \n",
      "__________________________________________________________________________________________________\n",
      "block3f_expand_conv (Conv2D)    (None, 32, 32, 480)  38400       block3e_add[0][0]                \n",
      "__________________________________________________________________________________________________\n",
      "block3f_expand_bn (BatchNormali (None, 32, 32, 480)  1920        block3f_expand_conv[0][0]        \n",
      "__________________________________________________________________________________________________\n",
      "block3f_expand_activation (Acti (None, 32, 32, 480)  0           block3f_expand_bn[0][0]          \n",
      "__________________________________________________________________________________________________\n",
      "block3f_dwconv (DepthwiseConv2D (None, 32, 32, 480)  12000       block3f_expand_activation[0][0]  \n",
      "__________________________________________________________________________________________________\n",
      "block3f_bn (BatchNormalization) (None, 32, 32, 480)  1920        block3f_dwconv[0][0]             \n",
      "__________________________________________________________________________________________________\n",
      "block3f_activation (Activation) (None, 32, 32, 480)  0           block3f_bn[0][0]                 \n",
      "__________________________________________________________________________________________________\n",
      "block3f_se_squeeze (GlobalAvera (None, 480)          0           block3f_activation[0][0]         \n",
      "__________________________________________________________________________________________________\n",
      "block3f_se_reshape (Reshape)    (None, 1, 1, 480)    0           block3f_se_squeeze[0][0]         \n",
      "__________________________________________________________________________________________________\n",
      "block3f_se_reduce (Conv2D)      (None, 1, 1, 20)     9620        block3f_se_reshape[0][0]         \n",
      "__________________________________________________________________________________________________\n",
      "block3f_se_expand (Conv2D)      (None, 1, 1, 480)    10080       block3f_se_reduce[0][0]          \n",
      "__________________________________________________________________________________________________\n",
      "block3f_se_excite (Multiply)    (None, 32, 32, 480)  0           block3f_activation[0][0]         \n",
      "                                                                 block3f_se_expand[0][0]          \n",
      "__________________________________________________________________________________________________\n",
      "block3f_project_conv (Conv2D)   (None, 32, 32, 80)   38400       block3f_se_excite[0][0]          \n",
      "__________________________________________________________________________________________________\n",
      "block3f_project_bn (BatchNormal (None, 32, 32, 80)   320         block3f_project_conv[0][0]       \n",
      "__________________________________________________________________________________________________\n",
      "block3f_drop (FixedDropout)     (None, 32, 32, 80)   0           block3f_project_bn[0][0]         \n",
      "__________________________________________________________________________________________________\n",
      "block3f_add (Add)               (None, 32, 32, 80)   0           block3f_drop[0][0]               \n",
      "                                                                 block3e_add[0][0]                \n",
      "__________________________________________________________________________________________________\n",
      "block3g_expand_conv (Conv2D)    (None, 32, 32, 480)  38400       block3f_add[0][0]                \n",
      "__________________________________________________________________________________________________\n",
      "block3g_expand_bn (BatchNormali (None, 32, 32, 480)  1920        block3g_expand_conv[0][0]        \n",
      "__________________________________________________________________________________________________\n",
      "block3g_expand_activation (Acti (None, 32, 32, 480)  0           block3g_expand_bn[0][0]          \n",
      "__________________________________________________________________________________________________\n",
      "block3g_dwconv (DepthwiseConv2D (None, 32, 32, 480)  12000       block3g_expand_activation[0][0]  \n",
      "__________________________________________________________________________________________________\n",
      "block3g_bn (BatchNormalization) (None, 32, 32, 480)  1920        block3g_dwconv[0][0]             \n",
      "__________________________________________________________________________________________________\n",
      "block3g_activation (Activation) (None, 32, 32, 480)  0           block3g_bn[0][0]                 \n",
      "__________________________________________________________________________________________________\n",
      "block3g_se_squeeze (GlobalAvera (None, 480)          0           block3g_activation[0][0]         \n",
      "__________________________________________________________________________________________________\n",
      "block3g_se_reshape (Reshape)    (None, 1, 1, 480)    0           block3g_se_squeeze[0][0]         \n",
      "__________________________________________________________________________________________________\n",
      "block3g_se_reduce (Conv2D)      (None, 1, 1, 20)     9620        block3g_se_reshape[0][0]         \n",
      "__________________________________________________________________________________________________\n",
      "block3g_se_expand (Conv2D)      (None, 1, 1, 480)    10080       block3g_se_reduce[0][0]          \n",
      "__________________________________________________________________________________________________\n",
      "block3g_se_excite (Multiply)    (None, 32, 32, 480)  0           block3g_activation[0][0]         \n",
      "                                                                 block3g_se_expand[0][0]          \n",
      "__________________________________________________________________________________________________\n",
      "block3g_project_conv (Conv2D)   (None, 32, 32, 80)   38400       block3g_se_excite[0][0]          \n",
      "__________________________________________________________________________________________________\n",
      "block3g_project_bn (BatchNormal (None, 32, 32, 80)   320         block3g_project_conv[0][0]       \n",
      "__________________________________________________________________________________________________\n",
      "block3g_drop (FixedDropout)     (None, 32, 32, 80)   0           block3g_project_bn[0][0]         \n",
      "__________________________________________________________________________________________________\n",
      "block3g_add (Add)               (None, 32, 32, 80)   0           block3g_drop[0][0]               \n",
      "                                                                 block3f_add[0][0]                \n",
      "__________________________________________________________________________________________________\n",
      "block4a_expand_conv (Conv2D)    (None, 32, 32, 480)  38400       block3g_add[0][0]                \n",
      "__________________________________________________________________________________________________\n",
      "block4a_expand_bn (BatchNormali (None, 32, 32, 480)  1920        block4a_expand_conv[0][0]        \n",
      "__________________________________________________________________________________________________\n",
      "block4a_expand_activation (Acti (None, 32, 32, 480)  0           block4a_expand_bn[0][0]          \n",
      "__________________________________________________________________________________________________\n",
      "block4a_dwconv (DepthwiseConv2D (None, 16, 16, 480)  4320        block4a_expand_activation[0][0]  \n",
      "__________________________________________________________________________________________________\n",
      "block4a_bn (BatchNormalization) (None, 16, 16, 480)  1920        block4a_dwconv[0][0]             \n",
      "__________________________________________________________________________________________________\n",
      "block4a_activation (Activation) (None, 16, 16, 480)  0           block4a_bn[0][0]                 \n",
      "__________________________________________________________________________________________________\n",
      "block4a_se_squeeze (GlobalAvera (None, 480)          0           block4a_activation[0][0]         \n",
      "__________________________________________________________________________________________________\n",
      "block4a_se_reshape (Reshape)    (None, 1, 1, 480)    0           block4a_se_squeeze[0][0]         \n",
      "__________________________________________________________________________________________________\n",
      "block4a_se_reduce (Conv2D)      (None, 1, 1, 20)     9620        block4a_se_reshape[0][0]         \n",
      "__________________________________________________________________________________________________\n",
      "block4a_se_expand (Conv2D)      (None, 1, 1, 480)    10080       block4a_se_reduce[0][0]          \n",
      "__________________________________________________________________________________________________\n",
      "block4a_se_excite (Multiply)    (None, 16, 16, 480)  0           block4a_activation[0][0]         \n",
      "                                                                 block4a_se_expand[0][0]          \n",
      "__________________________________________________________________________________________________\n",
      "block4a_project_conv (Conv2D)   (None, 16, 16, 160)  76800       block4a_se_excite[0][0]          \n",
      "__________________________________________________________________________________________________\n",
      "block4a_project_bn (BatchNormal (None, 16, 16, 160)  640         block4a_project_conv[0][0]       \n",
      "__________________________________________________________________________________________________\n",
      "block4b_expand_conv (Conv2D)    (None, 16, 16, 960)  153600      block4a_project_bn[0][0]         \n",
      "__________________________________________________________________________________________________\n",
      "block4b_expand_bn (BatchNormali (None, 16, 16, 960)  3840        block4b_expand_conv[0][0]        \n",
      "__________________________________________________________________________________________________\n",
      "block4b_expand_activation (Acti (None, 16, 16, 960)  0           block4b_expand_bn[0][0]          \n",
      "__________________________________________________________________________________________________\n",
      "block4b_dwconv (DepthwiseConv2D (None, 16, 16, 960)  8640        block4b_expand_activation[0][0]  \n",
      "__________________________________________________________________________________________________\n",
      "block4b_bn (BatchNormalization) (None, 16, 16, 960)  3840        block4b_dwconv[0][0]             \n",
      "__________________________________________________________________________________________________\n",
      "block4b_activation (Activation) (None, 16, 16, 960)  0           block4b_bn[0][0]                 \n",
      "__________________________________________________________________________________________________\n",
      "block4b_se_squeeze (GlobalAvera (None, 960)          0           block4b_activation[0][0]         \n",
      "__________________________________________________________________________________________________\n",
      "block4b_se_reshape (Reshape)    (None, 1, 1, 960)    0           block4b_se_squeeze[0][0]         \n",
      "__________________________________________________________________________________________________\n",
      "block4b_se_reduce (Conv2D)      (None, 1, 1, 40)     38440       block4b_se_reshape[0][0]         \n",
      "__________________________________________________________________________________________________\n",
      "block4b_se_expand (Conv2D)      (None, 1, 1, 960)    39360       block4b_se_reduce[0][0]          \n",
      "__________________________________________________________________________________________________\n",
      "block4b_se_excite (Multiply)    (None, 16, 16, 960)  0           block4b_activation[0][0]         \n",
      "                                                                 block4b_se_expand[0][0]          \n",
      "__________________________________________________________________________________________________\n",
      "block4b_project_conv (Conv2D)   (None, 16, 16, 160)  153600      block4b_se_excite[0][0]          \n",
      "__________________________________________________________________________________________________\n",
      "block4b_project_bn (BatchNormal (None, 16, 16, 160)  640         block4b_project_conv[0][0]       \n",
      "__________________________________________________________________________________________________\n",
      "block4b_drop (FixedDropout)     (None, 16, 16, 160)  0           block4b_project_bn[0][0]         \n",
      "__________________________________________________________________________________________________\n",
      "block4b_add (Add)               (None, 16, 16, 160)  0           block4b_drop[0][0]               \n",
      "                                                                 block4a_project_bn[0][0]         \n",
      "__________________________________________________________________________________________________\n",
      "block4c_expand_conv (Conv2D)    (None, 16, 16, 960)  153600      block4b_add[0][0]                \n",
      "__________________________________________________________________________________________________\n",
      "block4c_expand_bn (BatchNormali (None, 16, 16, 960)  3840        block4c_expand_conv[0][0]        \n",
      "__________________________________________________________________________________________________\n",
      "block4c_expand_activation (Acti (None, 16, 16, 960)  0           block4c_expand_bn[0][0]          \n",
      "__________________________________________________________________________________________________\n",
      "block4c_dwconv (DepthwiseConv2D (None, 16, 16, 960)  8640        block4c_expand_activation[0][0]  \n",
      "__________________________________________________________________________________________________\n",
      "block4c_bn (BatchNormalization) (None, 16, 16, 960)  3840        block4c_dwconv[0][0]             \n",
      "__________________________________________________________________________________________________\n",
      "block4c_activation (Activation) (None, 16, 16, 960)  0           block4c_bn[0][0]                 \n",
      "__________________________________________________________________________________________________\n",
      "block4c_se_squeeze (GlobalAvera (None, 960)          0           block4c_activation[0][0]         \n",
      "__________________________________________________________________________________________________\n",
      "block4c_se_reshape (Reshape)    (None, 1, 1, 960)    0           block4c_se_squeeze[0][0]         \n",
      "__________________________________________________________________________________________________\n",
      "block4c_se_reduce (Conv2D)      (None, 1, 1, 40)     38440       block4c_se_reshape[0][0]         \n",
      "__________________________________________________________________________________________________\n",
      "block4c_se_expand (Conv2D)      (None, 1, 1, 960)    39360       block4c_se_reduce[0][0]          \n",
      "__________________________________________________________________________________________________\n",
      "block4c_se_excite (Multiply)    (None, 16, 16, 960)  0           block4c_activation[0][0]         \n",
      "                                                                 block4c_se_expand[0][0]          \n",
      "__________________________________________________________________________________________________\n",
      "block4c_project_conv (Conv2D)   (None, 16, 16, 160)  153600      block4c_se_excite[0][0]          \n",
      "__________________________________________________________________________________________________\n",
      "block4c_project_bn (BatchNormal (None, 16, 16, 160)  640         block4c_project_conv[0][0]       \n",
      "__________________________________________________________________________________________________\n",
      "block4c_drop (FixedDropout)     (None, 16, 16, 160)  0           block4c_project_bn[0][0]         \n",
      "__________________________________________________________________________________________________\n",
      "block4c_add (Add)               (None, 16, 16, 160)  0           block4c_drop[0][0]               \n",
      "                                                                 block4b_add[0][0]                \n",
      "__________________________________________________________________________________________________\n",
      "block4d_expand_conv (Conv2D)    (None, 16, 16, 960)  153600      block4c_add[0][0]                \n",
      "__________________________________________________________________________________________________\n",
      "block4d_expand_bn (BatchNormali (None, 16, 16, 960)  3840        block4d_expand_conv[0][0]        \n",
      "__________________________________________________________________________________________________\n",
      "block4d_expand_activation (Acti (None, 16, 16, 960)  0           block4d_expand_bn[0][0]          \n",
      "__________________________________________________________________________________________________\n",
      "block4d_dwconv (DepthwiseConv2D (None, 16, 16, 960)  8640        block4d_expand_activation[0][0]  \n",
      "__________________________________________________________________________________________________\n",
      "block4d_bn (BatchNormalization) (None, 16, 16, 960)  3840        block4d_dwconv[0][0]             \n",
      "__________________________________________________________________________________________________\n",
      "block4d_activation (Activation) (None, 16, 16, 960)  0           block4d_bn[0][0]                 \n",
      "__________________________________________________________________________________________________\n",
      "block4d_se_squeeze (GlobalAvera (None, 960)          0           block4d_activation[0][0]         \n",
      "__________________________________________________________________________________________________\n",
      "block4d_se_reshape (Reshape)    (None, 1, 1, 960)    0           block4d_se_squeeze[0][0]         \n",
      "__________________________________________________________________________________________________\n",
      "block4d_se_reduce (Conv2D)      (None, 1, 1, 40)     38440       block4d_se_reshape[0][0]         \n",
      "__________________________________________________________________________________________________\n",
      "block4d_se_expand (Conv2D)      (None, 1, 1, 960)    39360       block4d_se_reduce[0][0]          \n",
      "__________________________________________________________________________________________________\n",
      "block4d_se_excite (Multiply)    (None, 16, 16, 960)  0           block4d_activation[0][0]         \n",
      "                                                                 block4d_se_expand[0][0]          \n",
      "__________________________________________________________________________________________________\n",
      "block4d_project_conv (Conv2D)   (None, 16, 16, 160)  153600      block4d_se_excite[0][0]          \n",
      "__________________________________________________________________________________________________\n",
      "block4d_project_bn (BatchNormal (None, 16, 16, 160)  640         block4d_project_conv[0][0]       \n",
      "__________________________________________________________________________________________________\n",
      "block4d_drop (FixedDropout)     (None, 16, 16, 160)  0           block4d_project_bn[0][0]         \n",
      "__________________________________________________________________________________________________\n",
      "block4d_add (Add)               (None, 16, 16, 160)  0           block4d_drop[0][0]               \n",
      "                                                                 block4c_add[0][0]                \n",
      "__________________________________________________________________________________________________\n",
      "block4e_expand_conv (Conv2D)    (None, 16, 16, 960)  153600      block4d_add[0][0]                \n",
      "__________________________________________________________________________________________________\n",
      "block4e_expand_bn (BatchNormali (None, 16, 16, 960)  3840        block4e_expand_conv[0][0]        \n",
      "__________________________________________________________________________________________________\n",
      "block4e_expand_activation (Acti (None, 16, 16, 960)  0           block4e_expand_bn[0][0]          \n",
      "__________________________________________________________________________________________________\n",
      "block4e_dwconv (DepthwiseConv2D (None, 16, 16, 960)  8640        block4e_expand_activation[0][0]  \n",
      "__________________________________________________________________________________________________\n",
      "block4e_bn (BatchNormalization) (None, 16, 16, 960)  3840        block4e_dwconv[0][0]             \n",
      "__________________________________________________________________________________________________\n",
      "block4e_activation (Activation) (None, 16, 16, 960)  0           block4e_bn[0][0]                 \n",
      "__________________________________________________________________________________________________\n",
      "block4e_se_squeeze (GlobalAvera (None, 960)          0           block4e_activation[0][0]         \n",
      "__________________________________________________________________________________________________\n",
      "block4e_se_reshape (Reshape)    (None, 1, 1, 960)    0           block4e_se_squeeze[0][0]         \n",
      "__________________________________________________________________________________________________\n",
      "block4e_se_reduce (Conv2D)      (None, 1, 1, 40)     38440       block4e_se_reshape[0][0]         \n",
      "__________________________________________________________________________________________________\n",
      "block4e_se_expand (Conv2D)      (None, 1, 1, 960)    39360       block4e_se_reduce[0][0]          \n",
      "__________________________________________________________________________________________________\n",
      "block4e_se_excite (Multiply)    (None, 16, 16, 960)  0           block4e_activation[0][0]         \n",
      "                                                                 block4e_se_expand[0][0]          \n",
      "__________________________________________________________________________________________________\n",
      "block4e_project_conv (Conv2D)   (None, 16, 16, 160)  153600      block4e_se_excite[0][0]          \n",
      "__________________________________________________________________________________________________\n",
      "block4e_project_bn (BatchNormal (None, 16, 16, 160)  640         block4e_project_conv[0][0]       \n",
      "__________________________________________________________________________________________________\n",
      "block4e_drop (FixedDropout)     (None, 16, 16, 160)  0           block4e_project_bn[0][0]         \n",
      "__________________________________________________________________________________________________\n",
      "block4e_add (Add)               (None, 16, 16, 160)  0           block4e_drop[0][0]               \n",
      "                                                                 block4d_add[0][0]                \n",
      "__________________________________________________________________________________________________\n",
      "block4f_expand_conv (Conv2D)    (None, 16, 16, 960)  153600      block4e_add[0][0]                \n",
      "__________________________________________________________________________________________________\n",
      "block4f_expand_bn (BatchNormali (None, 16, 16, 960)  3840        block4f_expand_conv[0][0]        \n",
      "__________________________________________________________________________________________________\n",
      "block4f_expand_activation (Acti (None, 16, 16, 960)  0           block4f_expand_bn[0][0]          \n",
      "__________________________________________________________________________________________________\n",
      "block4f_dwconv (DepthwiseConv2D (None, 16, 16, 960)  8640        block4f_expand_activation[0][0]  \n",
      "__________________________________________________________________________________________________\n",
      "block4f_bn (BatchNormalization) (None, 16, 16, 960)  3840        block4f_dwconv[0][0]             \n",
      "__________________________________________________________________________________________________\n",
      "block4f_activation (Activation) (None, 16, 16, 960)  0           block4f_bn[0][0]                 \n",
      "__________________________________________________________________________________________________\n",
      "block4f_se_squeeze (GlobalAvera (None, 960)          0           block4f_activation[0][0]         \n",
      "__________________________________________________________________________________________________\n",
      "block4f_se_reshape (Reshape)    (None, 1, 1, 960)    0           block4f_se_squeeze[0][0]         \n",
      "__________________________________________________________________________________________________\n",
      "block4f_se_reduce (Conv2D)      (None, 1, 1, 40)     38440       block4f_se_reshape[0][0]         \n",
      "__________________________________________________________________________________________________\n",
      "block4f_se_expand (Conv2D)      (None, 1, 1, 960)    39360       block4f_se_reduce[0][0]          \n",
      "__________________________________________________________________________________________________\n",
      "block4f_se_excite (Multiply)    (None, 16, 16, 960)  0           block4f_activation[0][0]         \n",
      "                                                                 block4f_se_expand[0][0]          \n",
      "__________________________________________________________________________________________________\n",
      "block4f_project_conv (Conv2D)   (None, 16, 16, 160)  153600      block4f_se_excite[0][0]          \n",
      "__________________________________________________________________________________________________\n",
      "block4f_project_bn (BatchNormal (None, 16, 16, 160)  640         block4f_project_conv[0][0]       \n",
      "__________________________________________________________________________________________________\n",
      "block4f_drop (FixedDropout)     (None, 16, 16, 160)  0           block4f_project_bn[0][0]         \n",
      "__________________________________________________________________________________________________\n",
      "block4f_add (Add)               (None, 16, 16, 160)  0           block4f_drop[0][0]               \n",
      "                                                                 block4e_add[0][0]                \n",
      "__________________________________________________________________________________________________\n",
      "block4g_expand_conv (Conv2D)    (None, 16, 16, 960)  153600      block4f_add[0][0]                \n",
      "__________________________________________________________________________________________________\n",
      "block4g_expand_bn (BatchNormali (None, 16, 16, 960)  3840        block4g_expand_conv[0][0]        \n",
      "__________________________________________________________________________________________________\n",
      "block4g_expand_activation (Acti (None, 16, 16, 960)  0           block4g_expand_bn[0][0]          \n",
      "__________________________________________________________________________________________________\n",
      "block4g_dwconv (DepthwiseConv2D (None, 16, 16, 960)  8640        block4g_expand_activation[0][0]  \n",
      "__________________________________________________________________________________________________\n",
      "block4g_bn (BatchNormalization) (None, 16, 16, 960)  3840        block4g_dwconv[0][0]             \n",
      "__________________________________________________________________________________________________\n",
      "block4g_activation (Activation) (None, 16, 16, 960)  0           block4g_bn[0][0]                 \n",
      "__________________________________________________________________________________________________\n",
      "block4g_se_squeeze (GlobalAvera (None, 960)          0           block4g_activation[0][0]         \n",
      "__________________________________________________________________________________________________\n",
      "block4g_se_reshape (Reshape)    (None, 1, 1, 960)    0           block4g_se_squeeze[0][0]         \n",
      "__________________________________________________________________________________________________\n",
      "block4g_se_reduce (Conv2D)      (None, 1, 1, 40)     38440       block4g_se_reshape[0][0]         \n",
      "__________________________________________________________________________________________________\n",
      "block4g_se_expand (Conv2D)      (None, 1, 1, 960)    39360       block4g_se_reduce[0][0]          \n",
      "__________________________________________________________________________________________________\n",
      "block4g_se_excite (Multiply)    (None, 16, 16, 960)  0           block4g_activation[0][0]         \n",
      "                                                                 block4g_se_expand[0][0]          \n",
      "__________________________________________________________________________________________________\n",
      "block4g_project_conv (Conv2D)   (None, 16, 16, 160)  153600      block4g_se_excite[0][0]          \n",
      "__________________________________________________________________________________________________\n",
      "block4g_project_bn (BatchNormal (None, 16, 16, 160)  640         block4g_project_conv[0][0]       \n",
      "__________________________________________________________________________________________________\n",
      "block4g_drop (FixedDropout)     (None, 16, 16, 160)  0           block4g_project_bn[0][0]         \n",
      "__________________________________________________________________________________________________\n",
      "block4g_add (Add)               (None, 16, 16, 160)  0           block4g_drop[0][0]               \n",
      "                                                                 block4f_add[0][0]                \n",
      "__________________________________________________________________________________________________\n",
      "block4h_expand_conv (Conv2D)    (None, 16, 16, 960)  153600      block4g_add[0][0]                \n",
      "__________________________________________________________________________________________________\n",
      "block4h_expand_bn (BatchNormali (None, 16, 16, 960)  3840        block4h_expand_conv[0][0]        \n",
      "__________________________________________________________________________________________________\n",
      "block4h_expand_activation (Acti (None, 16, 16, 960)  0           block4h_expand_bn[0][0]          \n",
      "__________________________________________________________________________________________________\n",
      "block4h_dwconv (DepthwiseConv2D (None, 16, 16, 960)  8640        block4h_expand_activation[0][0]  \n",
      "__________________________________________________________________________________________________\n",
      "block4h_bn (BatchNormalization) (None, 16, 16, 960)  3840        block4h_dwconv[0][0]             \n",
      "__________________________________________________________________________________________________\n",
      "block4h_activation (Activation) (None, 16, 16, 960)  0           block4h_bn[0][0]                 \n",
      "__________________________________________________________________________________________________\n",
      "block4h_se_squeeze (GlobalAvera (None, 960)          0           block4h_activation[0][0]         \n",
      "__________________________________________________________________________________________________\n",
      "block4h_se_reshape (Reshape)    (None, 1, 1, 960)    0           block4h_se_squeeze[0][0]         \n",
      "__________________________________________________________________________________________________\n",
      "block4h_se_reduce (Conv2D)      (None, 1, 1, 40)     38440       block4h_se_reshape[0][0]         \n",
      "__________________________________________________________________________________________________\n",
      "block4h_se_expand (Conv2D)      (None, 1, 1, 960)    39360       block4h_se_reduce[0][0]          \n",
      "__________________________________________________________________________________________________\n",
      "block4h_se_excite (Multiply)    (None, 16, 16, 960)  0           block4h_activation[0][0]         \n",
      "                                                                 block4h_se_expand[0][0]          \n",
      "__________________________________________________________________________________________________\n",
      "block4h_project_conv (Conv2D)   (None, 16, 16, 160)  153600      block4h_se_excite[0][0]          \n",
      "__________________________________________________________________________________________________\n",
      "block4h_project_bn (BatchNormal (None, 16, 16, 160)  640         block4h_project_conv[0][0]       \n",
      "__________________________________________________________________________________________________\n",
      "block4h_drop (FixedDropout)     (None, 16, 16, 160)  0           block4h_project_bn[0][0]         \n",
      "__________________________________________________________________________________________________\n",
      "block4h_add (Add)               (None, 16, 16, 160)  0           block4h_drop[0][0]               \n",
      "                                                                 block4g_add[0][0]                \n",
      "__________________________________________________________________________________________________\n",
      "block4i_expand_conv (Conv2D)    (None, 16, 16, 960)  153600      block4h_add[0][0]                \n",
      "__________________________________________________________________________________________________\n",
      "block4i_expand_bn (BatchNormali (None, 16, 16, 960)  3840        block4i_expand_conv[0][0]        \n",
      "__________________________________________________________________________________________________\n",
      "block4i_expand_activation (Acti (None, 16, 16, 960)  0           block4i_expand_bn[0][0]          \n",
      "__________________________________________________________________________________________________\n",
      "block4i_dwconv (DepthwiseConv2D (None, 16, 16, 960)  8640        block4i_expand_activation[0][0]  \n",
      "__________________________________________________________________________________________________\n",
      "block4i_bn (BatchNormalization) (None, 16, 16, 960)  3840        block4i_dwconv[0][0]             \n",
      "__________________________________________________________________________________________________\n",
      "block4i_activation (Activation) (None, 16, 16, 960)  0           block4i_bn[0][0]                 \n",
      "__________________________________________________________________________________________________\n",
      "block4i_se_squeeze (GlobalAvera (None, 960)          0           block4i_activation[0][0]         \n",
      "__________________________________________________________________________________________________\n",
      "block4i_se_reshape (Reshape)    (None, 1, 1, 960)    0           block4i_se_squeeze[0][0]         \n",
      "__________________________________________________________________________________________________\n",
      "block4i_se_reduce (Conv2D)      (None, 1, 1, 40)     38440       block4i_se_reshape[0][0]         \n",
      "__________________________________________________________________________________________________\n",
      "block4i_se_expand (Conv2D)      (None, 1, 1, 960)    39360       block4i_se_reduce[0][0]          \n",
      "__________________________________________________________________________________________________\n",
      "block4i_se_excite (Multiply)    (None, 16, 16, 960)  0           block4i_activation[0][0]         \n",
      "                                                                 block4i_se_expand[0][0]          \n",
      "__________________________________________________________________________________________________\n",
      "block4i_project_conv (Conv2D)   (None, 16, 16, 160)  153600      block4i_se_excite[0][0]          \n",
      "__________________________________________________________________________________________________\n",
      "block4i_project_bn (BatchNormal (None, 16, 16, 160)  640         block4i_project_conv[0][0]       \n",
      "__________________________________________________________________________________________________\n",
      "block4i_drop (FixedDropout)     (None, 16, 16, 160)  0           block4i_project_bn[0][0]         \n",
      "__________________________________________________________________________________________________\n",
      "block4i_add (Add)               (None, 16, 16, 160)  0           block4i_drop[0][0]               \n",
      "                                                                 block4h_add[0][0]                \n",
      "__________________________________________________________________________________________________\n",
      "block4j_expand_conv (Conv2D)    (None, 16, 16, 960)  153600      block4i_add[0][0]                \n",
      "__________________________________________________________________________________________________\n",
      "block4j_expand_bn (BatchNormali (None, 16, 16, 960)  3840        block4j_expand_conv[0][0]        \n",
      "__________________________________________________________________________________________________\n",
      "block4j_expand_activation (Acti (None, 16, 16, 960)  0           block4j_expand_bn[0][0]          \n",
      "__________________________________________________________________________________________________\n",
      "block4j_dwconv (DepthwiseConv2D (None, 16, 16, 960)  8640        block4j_expand_activation[0][0]  \n",
      "__________________________________________________________________________________________________\n",
      "block4j_bn (BatchNormalization) (None, 16, 16, 960)  3840        block4j_dwconv[0][0]             \n",
      "__________________________________________________________________________________________________\n",
      "block4j_activation (Activation) (None, 16, 16, 960)  0           block4j_bn[0][0]                 \n",
      "__________________________________________________________________________________________________\n",
      "block4j_se_squeeze (GlobalAvera (None, 960)          0           block4j_activation[0][0]         \n",
      "__________________________________________________________________________________________________\n",
      "block4j_se_reshape (Reshape)    (None, 1, 1, 960)    0           block4j_se_squeeze[0][0]         \n",
      "__________________________________________________________________________________________________\n",
      "block4j_se_reduce (Conv2D)      (None, 1, 1, 40)     38440       block4j_se_reshape[0][0]         \n",
      "__________________________________________________________________________________________________\n",
      "block4j_se_expand (Conv2D)      (None, 1, 1, 960)    39360       block4j_se_reduce[0][0]          \n",
      "__________________________________________________________________________________________________\n",
      "block4j_se_excite (Multiply)    (None, 16, 16, 960)  0           block4j_activation[0][0]         \n",
      "                                                                 block4j_se_expand[0][0]          \n",
      "__________________________________________________________________________________________________\n",
      "block4j_project_conv (Conv2D)   (None, 16, 16, 160)  153600      block4j_se_excite[0][0]          \n",
      "__________________________________________________________________________________________________\n",
      "block4j_project_bn (BatchNormal (None, 16, 16, 160)  640         block4j_project_conv[0][0]       \n",
      "__________________________________________________________________________________________________\n",
      "block4j_drop (FixedDropout)     (None, 16, 16, 160)  0           block4j_project_bn[0][0]         \n",
      "__________________________________________________________________________________________________\n",
      "block4j_add (Add)               (None, 16, 16, 160)  0           block4j_drop[0][0]               \n",
      "                                                                 block4i_add[0][0]                \n",
      "__________________________________________________________________________________________________\n",
      "block5a_expand_conv (Conv2D)    (None, 16, 16, 960)  153600      block4j_add[0][0]                \n",
      "__________________________________________________________________________________________________\n",
      "block5a_expand_bn (BatchNormali (None, 16, 16, 960)  3840        block5a_expand_conv[0][0]        \n",
      "__________________________________________________________________________________________________\n",
      "block5a_expand_activation (Acti (None, 16, 16, 960)  0           block5a_expand_bn[0][0]          \n",
      "__________________________________________________________________________________________________\n",
      "block5a_dwconv (DepthwiseConv2D (None, 16, 16, 960)  24000       block5a_expand_activation[0][0]  \n",
      "__________________________________________________________________________________________________\n",
      "block5a_bn (BatchNormalization) (None, 16, 16, 960)  3840        block5a_dwconv[0][0]             \n",
      "__________________________________________________________________________________________________\n",
      "block5a_activation (Activation) (None, 16, 16, 960)  0           block5a_bn[0][0]                 \n",
      "__________________________________________________________________________________________________\n",
      "block5a_se_squeeze (GlobalAvera (None, 960)          0           block5a_activation[0][0]         \n",
      "__________________________________________________________________________________________________\n",
      "block5a_se_reshape (Reshape)    (None, 1, 1, 960)    0           block5a_se_squeeze[0][0]         \n",
      "__________________________________________________________________________________________________\n",
      "block5a_se_reduce (Conv2D)      (None, 1, 1, 40)     38440       block5a_se_reshape[0][0]         \n",
      "__________________________________________________________________________________________________\n",
      "block5a_se_expand (Conv2D)      (None, 1, 1, 960)    39360       block5a_se_reduce[0][0]          \n",
      "__________________________________________________________________________________________________\n",
      "block5a_se_excite (Multiply)    (None, 16, 16, 960)  0           block5a_activation[0][0]         \n",
      "                                                                 block5a_se_expand[0][0]          \n",
      "__________________________________________________________________________________________________\n",
      "block5a_project_conv (Conv2D)   (None, 16, 16, 224)  215040      block5a_se_excite[0][0]          \n",
      "__________________________________________________________________________________________________\n",
      "block5a_project_bn (BatchNormal (None, 16, 16, 224)  896         block5a_project_conv[0][0]       \n",
      "__________________________________________________________________________________________________\n",
      "block5b_expand_conv (Conv2D)    (None, 16, 16, 1344) 301056      block5a_project_bn[0][0]         \n",
      "__________________________________________________________________________________________________\n",
      "block5b_expand_bn (BatchNormali (None, 16, 16, 1344) 5376        block5b_expand_conv[0][0]        \n",
      "__________________________________________________________________________________________________\n",
      "block5b_expand_activation (Acti (None, 16, 16, 1344) 0           block5b_expand_bn[0][0]          \n",
      "__________________________________________________________________________________________________\n",
      "block5b_dwconv (DepthwiseConv2D (None, 16, 16, 1344) 33600       block5b_expand_activation[0][0]  \n",
      "__________________________________________________________________________________________________\n",
      "block5b_bn (BatchNormalization) (None, 16, 16, 1344) 5376        block5b_dwconv[0][0]             \n",
      "__________________________________________________________________________________________________\n",
      "block5b_activation (Activation) (None, 16, 16, 1344) 0           block5b_bn[0][0]                 \n",
      "__________________________________________________________________________________________________\n",
      "block5b_se_squeeze (GlobalAvera (None, 1344)         0           block5b_activation[0][0]         \n",
      "__________________________________________________________________________________________________\n",
      "block5b_se_reshape (Reshape)    (None, 1, 1, 1344)   0           block5b_se_squeeze[0][0]         \n",
      "__________________________________________________________________________________________________\n",
      "block5b_se_reduce (Conv2D)      (None, 1, 1, 56)     75320       block5b_se_reshape[0][0]         \n",
      "__________________________________________________________________________________________________\n",
      "block5b_se_expand (Conv2D)      (None, 1, 1, 1344)   76608       block5b_se_reduce[0][0]          \n",
      "__________________________________________________________________________________________________\n",
      "block5b_se_excite (Multiply)    (None, 16, 16, 1344) 0           block5b_activation[0][0]         \n",
      "                                                                 block5b_se_expand[0][0]          \n",
      "__________________________________________________________________________________________________\n",
      "block5b_project_conv (Conv2D)   (None, 16, 16, 224)  301056      block5b_se_excite[0][0]          \n",
      "__________________________________________________________________________________________________\n",
      "block5b_project_bn (BatchNormal (None, 16, 16, 224)  896         block5b_project_conv[0][0]       \n",
      "__________________________________________________________________________________________________\n",
      "block5b_drop (FixedDropout)     (None, 16, 16, 224)  0           block5b_project_bn[0][0]         \n",
      "__________________________________________________________________________________________________\n",
      "block5b_add (Add)               (None, 16, 16, 224)  0           block5b_drop[0][0]               \n",
      "                                                                 block5a_project_bn[0][0]         \n",
      "__________________________________________________________________________________________________\n",
      "block5c_expand_conv (Conv2D)    (None, 16, 16, 1344) 301056      block5b_add[0][0]                \n",
      "__________________________________________________________________________________________________\n",
      "block5c_expand_bn (BatchNormali (None, 16, 16, 1344) 5376        block5c_expand_conv[0][0]        \n",
      "__________________________________________________________________________________________________\n",
      "block5c_expand_activation (Acti (None, 16, 16, 1344) 0           block5c_expand_bn[0][0]          \n",
      "__________________________________________________________________________________________________\n",
      "block5c_dwconv (DepthwiseConv2D (None, 16, 16, 1344) 33600       block5c_expand_activation[0][0]  \n",
      "__________________________________________________________________________________________________\n",
      "block5c_bn (BatchNormalization) (None, 16, 16, 1344) 5376        block5c_dwconv[0][0]             \n",
      "__________________________________________________________________________________________________\n",
      "block5c_activation (Activation) (None, 16, 16, 1344) 0           block5c_bn[0][0]                 \n",
      "__________________________________________________________________________________________________\n",
      "block5c_se_squeeze (GlobalAvera (None, 1344)         0           block5c_activation[0][0]         \n",
      "__________________________________________________________________________________________________\n",
      "block5c_se_reshape (Reshape)    (None, 1, 1, 1344)   0           block5c_se_squeeze[0][0]         \n",
      "__________________________________________________________________________________________________\n",
      "block5c_se_reduce (Conv2D)      (None, 1, 1, 56)     75320       block5c_se_reshape[0][0]         \n",
      "__________________________________________________________________________________________________\n",
      "block5c_se_expand (Conv2D)      (None, 1, 1, 1344)   76608       block5c_se_reduce[0][0]          \n",
      "__________________________________________________________________________________________________\n",
      "block5c_se_excite (Multiply)    (None, 16, 16, 1344) 0           block5c_activation[0][0]         \n",
      "                                                                 block5c_se_expand[0][0]          \n",
      "__________________________________________________________________________________________________\n",
      "block5c_project_conv (Conv2D)   (None, 16, 16, 224)  301056      block5c_se_excite[0][0]          \n",
      "__________________________________________________________________________________________________\n",
      "block5c_project_bn (BatchNormal (None, 16, 16, 224)  896         block5c_project_conv[0][0]       \n",
      "__________________________________________________________________________________________________\n",
      "block5c_drop (FixedDropout)     (None, 16, 16, 224)  0           block5c_project_bn[0][0]         \n",
      "__________________________________________________________________________________________________\n",
      "block5c_add (Add)               (None, 16, 16, 224)  0           block5c_drop[0][0]               \n",
      "                                                                 block5b_add[0][0]                \n",
      "__________________________________________________________________________________________________\n",
      "block5d_expand_conv (Conv2D)    (None, 16, 16, 1344) 301056      block5c_add[0][0]                \n",
      "__________________________________________________________________________________________________\n",
      "block5d_expand_bn (BatchNormali (None, 16, 16, 1344) 5376        block5d_expand_conv[0][0]        \n",
      "__________________________________________________________________________________________________\n",
      "block5d_expand_activation (Acti (None, 16, 16, 1344) 0           block5d_expand_bn[0][0]          \n",
      "__________________________________________________________________________________________________\n",
      "block5d_dwconv (DepthwiseConv2D (None, 16, 16, 1344) 33600       block5d_expand_activation[0][0]  \n",
      "__________________________________________________________________________________________________\n",
      "block5d_bn (BatchNormalization) (None, 16, 16, 1344) 5376        block5d_dwconv[0][0]             \n",
      "__________________________________________________________________________________________________\n",
      "block5d_activation (Activation) (None, 16, 16, 1344) 0           block5d_bn[0][0]                 \n",
      "__________________________________________________________________________________________________\n",
      "block5d_se_squeeze (GlobalAvera (None, 1344)         0           block5d_activation[0][0]         \n",
      "__________________________________________________________________________________________________\n",
      "block5d_se_reshape (Reshape)    (None, 1, 1, 1344)   0           block5d_se_squeeze[0][0]         \n",
      "__________________________________________________________________________________________________\n",
      "block5d_se_reduce (Conv2D)      (None, 1, 1, 56)     75320       block5d_se_reshape[0][0]         \n",
      "__________________________________________________________________________________________________\n",
      "block5d_se_expand (Conv2D)      (None, 1, 1, 1344)   76608       block5d_se_reduce[0][0]          \n",
      "__________________________________________________________________________________________________\n",
      "block5d_se_excite (Multiply)    (None, 16, 16, 1344) 0           block5d_activation[0][0]         \n",
      "                                                                 block5d_se_expand[0][0]          \n",
      "__________________________________________________________________________________________________\n",
      "block5d_project_conv (Conv2D)   (None, 16, 16, 224)  301056      block5d_se_excite[0][0]          \n",
      "__________________________________________________________________________________________________\n",
      "block5d_project_bn (BatchNormal (None, 16, 16, 224)  896         block5d_project_conv[0][0]       \n",
      "__________________________________________________________________________________________________\n",
      "block5d_drop (FixedDropout)     (None, 16, 16, 224)  0           block5d_project_bn[0][0]         \n",
      "__________________________________________________________________________________________________\n",
      "block5d_add (Add)               (None, 16, 16, 224)  0           block5d_drop[0][0]               \n",
      "                                                                 block5c_add[0][0]                \n",
      "__________________________________________________________________________________________________\n",
      "block5e_expand_conv (Conv2D)    (None, 16, 16, 1344) 301056      block5d_add[0][0]                \n",
      "__________________________________________________________________________________________________\n",
      "block5e_expand_bn (BatchNormali (None, 16, 16, 1344) 5376        block5e_expand_conv[0][0]        \n",
      "__________________________________________________________________________________________________\n",
      "block5e_expand_activation (Acti (None, 16, 16, 1344) 0           block5e_expand_bn[0][0]          \n",
      "__________________________________________________________________________________________________\n",
      "block5e_dwconv (DepthwiseConv2D (None, 16, 16, 1344) 33600       block5e_expand_activation[0][0]  \n",
      "__________________________________________________________________________________________________\n",
      "block5e_bn (BatchNormalization) (None, 16, 16, 1344) 5376        block5e_dwconv[0][0]             \n",
      "__________________________________________________________________________________________________\n",
      "block5e_activation (Activation) (None, 16, 16, 1344) 0           block5e_bn[0][0]                 \n",
      "__________________________________________________________________________________________________\n",
      "block5e_se_squeeze (GlobalAvera (None, 1344)         0           block5e_activation[0][0]         \n",
      "__________________________________________________________________________________________________\n",
      "block5e_se_reshape (Reshape)    (None, 1, 1, 1344)   0           block5e_se_squeeze[0][0]         \n",
      "__________________________________________________________________________________________________\n",
      "block5e_se_reduce (Conv2D)      (None, 1, 1, 56)     75320       block5e_se_reshape[0][0]         \n",
      "__________________________________________________________________________________________________\n",
      "block5e_se_expand (Conv2D)      (None, 1, 1, 1344)   76608       block5e_se_reduce[0][0]          \n",
      "__________________________________________________________________________________________________\n",
      "block5e_se_excite (Multiply)    (None, 16, 16, 1344) 0           block5e_activation[0][0]         \n",
      "                                                                 block5e_se_expand[0][0]          \n",
      "__________________________________________________________________________________________________\n",
      "block5e_project_conv (Conv2D)   (None, 16, 16, 224)  301056      block5e_se_excite[0][0]          \n",
      "__________________________________________________________________________________________________\n",
      "block5e_project_bn (BatchNormal (None, 16, 16, 224)  896         block5e_project_conv[0][0]       \n",
      "__________________________________________________________________________________________________\n",
      "block5e_drop (FixedDropout)     (None, 16, 16, 224)  0           block5e_project_bn[0][0]         \n",
      "__________________________________________________________________________________________________\n",
      "block5e_add (Add)               (None, 16, 16, 224)  0           block5e_drop[0][0]               \n",
      "                                                                 block5d_add[0][0]                \n",
      "__________________________________________________________________________________________________\n",
      "block5f_expand_conv (Conv2D)    (None, 16, 16, 1344) 301056      block5e_add[0][0]                \n",
      "__________________________________________________________________________________________________\n",
      "block5f_expand_bn (BatchNormali (None, 16, 16, 1344) 5376        block5f_expand_conv[0][0]        \n",
      "__________________________________________________________________________________________________\n",
      "block5f_expand_activation (Acti (None, 16, 16, 1344) 0           block5f_expand_bn[0][0]          \n",
      "__________________________________________________________________________________________________\n",
      "block5f_dwconv (DepthwiseConv2D (None, 16, 16, 1344) 33600       block5f_expand_activation[0][0]  \n",
      "__________________________________________________________________________________________________\n",
      "block5f_bn (BatchNormalization) (None, 16, 16, 1344) 5376        block5f_dwconv[0][0]             \n",
      "__________________________________________________________________________________________________\n",
      "block5f_activation (Activation) (None, 16, 16, 1344) 0           block5f_bn[0][0]                 \n",
      "__________________________________________________________________________________________________\n",
      "block5f_se_squeeze (GlobalAvera (None, 1344)         0           block5f_activation[0][0]         \n",
      "__________________________________________________________________________________________________\n",
      "block5f_se_reshape (Reshape)    (None, 1, 1, 1344)   0           block5f_se_squeeze[0][0]         \n",
      "__________________________________________________________________________________________________\n",
      "block5f_se_reduce (Conv2D)      (None, 1, 1, 56)     75320       block5f_se_reshape[0][0]         \n",
      "__________________________________________________________________________________________________\n",
      "block5f_se_expand (Conv2D)      (None, 1, 1, 1344)   76608       block5f_se_reduce[0][0]          \n",
      "__________________________________________________________________________________________________\n",
      "block5f_se_excite (Multiply)    (None, 16, 16, 1344) 0           block5f_activation[0][0]         \n",
      "                                                                 block5f_se_expand[0][0]          \n",
      "__________________________________________________________________________________________________\n",
      "block5f_project_conv (Conv2D)   (None, 16, 16, 224)  301056      block5f_se_excite[0][0]          \n",
      "__________________________________________________________________________________________________\n",
      "block5f_project_bn (BatchNormal (None, 16, 16, 224)  896         block5f_project_conv[0][0]       \n",
      "__________________________________________________________________________________________________\n",
      "block5f_drop (FixedDropout)     (None, 16, 16, 224)  0           block5f_project_bn[0][0]         \n",
      "__________________________________________________________________________________________________\n",
      "block5f_add (Add)               (None, 16, 16, 224)  0           block5f_drop[0][0]               \n",
      "                                                                 block5e_add[0][0]                \n",
      "__________________________________________________________________________________________________\n",
      "block5g_expand_conv (Conv2D)    (None, 16, 16, 1344) 301056      block5f_add[0][0]                \n",
      "__________________________________________________________________________________________________\n",
      "block5g_expand_bn (BatchNormali (None, 16, 16, 1344) 5376        block5g_expand_conv[0][0]        \n",
      "__________________________________________________________________________________________________\n",
      "block5g_expand_activation (Acti (None, 16, 16, 1344) 0           block5g_expand_bn[0][0]          \n",
      "__________________________________________________________________________________________________\n",
      "block5g_dwconv (DepthwiseConv2D (None, 16, 16, 1344) 33600       block5g_expand_activation[0][0]  \n",
      "__________________________________________________________________________________________________\n",
      "block5g_bn (BatchNormalization) (None, 16, 16, 1344) 5376        block5g_dwconv[0][0]             \n",
      "__________________________________________________________________________________________________\n",
      "block5g_activation (Activation) (None, 16, 16, 1344) 0           block5g_bn[0][0]                 \n",
      "__________________________________________________________________________________________________\n",
      "block5g_se_squeeze (GlobalAvera (None, 1344)         0           block5g_activation[0][0]         \n",
      "__________________________________________________________________________________________________\n",
      "block5g_se_reshape (Reshape)    (None, 1, 1, 1344)   0           block5g_se_squeeze[0][0]         \n",
      "__________________________________________________________________________________________________\n",
      "block5g_se_reduce (Conv2D)      (None, 1, 1, 56)     75320       block5g_se_reshape[0][0]         \n",
      "__________________________________________________________________________________________________\n",
      "block5g_se_expand (Conv2D)      (None, 1, 1, 1344)   76608       block5g_se_reduce[0][0]          \n",
      "__________________________________________________________________________________________________\n",
      "block5g_se_excite (Multiply)    (None, 16, 16, 1344) 0           block5g_activation[0][0]         \n",
      "                                                                 block5g_se_expand[0][0]          \n",
      "__________________________________________________________________________________________________\n",
      "block5g_project_conv (Conv2D)   (None, 16, 16, 224)  301056      block5g_se_excite[0][0]          \n",
      "__________________________________________________________________________________________________\n",
      "block5g_project_bn (BatchNormal (None, 16, 16, 224)  896         block5g_project_conv[0][0]       \n",
      "__________________________________________________________________________________________________\n",
      "block5g_drop (FixedDropout)     (None, 16, 16, 224)  0           block5g_project_bn[0][0]         \n",
      "__________________________________________________________________________________________________\n",
      "block5g_add (Add)               (None, 16, 16, 224)  0           block5g_drop[0][0]               \n",
      "                                                                 block5f_add[0][0]                \n",
      "__________________________________________________________________________________________________\n",
      "block5h_expand_conv (Conv2D)    (None, 16, 16, 1344) 301056      block5g_add[0][0]                \n",
      "__________________________________________________________________________________________________\n",
      "block5h_expand_bn (BatchNormali (None, 16, 16, 1344) 5376        block5h_expand_conv[0][0]        \n",
      "__________________________________________________________________________________________________\n",
      "block5h_expand_activation (Acti (None, 16, 16, 1344) 0           block5h_expand_bn[0][0]          \n",
      "__________________________________________________________________________________________________\n",
      "block5h_dwconv (DepthwiseConv2D (None, 16, 16, 1344) 33600       block5h_expand_activation[0][0]  \n",
      "__________________________________________________________________________________________________\n",
      "block5h_bn (BatchNormalization) (None, 16, 16, 1344) 5376        block5h_dwconv[0][0]             \n",
      "__________________________________________________________________________________________________\n",
      "block5h_activation (Activation) (None, 16, 16, 1344) 0           block5h_bn[0][0]                 \n",
      "__________________________________________________________________________________________________\n",
      "block5h_se_squeeze (GlobalAvera (None, 1344)         0           block5h_activation[0][0]         \n",
      "__________________________________________________________________________________________________\n",
      "block5h_se_reshape (Reshape)    (None, 1, 1, 1344)   0           block5h_se_squeeze[0][0]         \n",
      "__________________________________________________________________________________________________\n",
      "block5h_se_reduce (Conv2D)      (None, 1, 1, 56)     75320       block5h_se_reshape[0][0]         \n",
      "__________________________________________________________________________________________________\n",
      "block5h_se_expand (Conv2D)      (None, 1, 1, 1344)   76608       block5h_se_reduce[0][0]          \n",
      "__________________________________________________________________________________________________\n",
      "block5h_se_excite (Multiply)    (None, 16, 16, 1344) 0           block5h_activation[0][0]         \n",
      "                                                                 block5h_se_expand[0][0]          \n",
      "__________________________________________________________________________________________________\n",
      "block5h_project_conv (Conv2D)   (None, 16, 16, 224)  301056      block5h_se_excite[0][0]          \n",
      "__________________________________________________________________________________________________\n",
      "block5h_project_bn (BatchNormal (None, 16, 16, 224)  896         block5h_project_conv[0][0]       \n",
      "__________________________________________________________________________________________________\n",
      "block5h_drop (FixedDropout)     (None, 16, 16, 224)  0           block5h_project_bn[0][0]         \n",
      "__________________________________________________________________________________________________\n",
      "block5h_add (Add)               (None, 16, 16, 224)  0           block5h_drop[0][0]               \n",
      "                                                                 block5g_add[0][0]                \n",
      "__________________________________________________________________________________________________\n",
      "block5i_expand_conv (Conv2D)    (None, 16, 16, 1344) 301056      block5h_add[0][0]                \n",
      "__________________________________________________________________________________________________\n",
      "block5i_expand_bn (BatchNormali (None, 16, 16, 1344) 5376        block5i_expand_conv[0][0]        \n",
      "__________________________________________________________________________________________________\n",
      "block5i_expand_activation (Acti (None, 16, 16, 1344) 0           block5i_expand_bn[0][0]          \n",
      "__________________________________________________________________________________________________\n",
      "block5i_dwconv (DepthwiseConv2D (None, 16, 16, 1344) 33600       block5i_expand_activation[0][0]  \n",
      "__________________________________________________________________________________________________\n",
      "block5i_bn (BatchNormalization) (None, 16, 16, 1344) 5376        block5i_dwconv[0][0]             \n",
      "__________________________________________________________________________________________________\n",
      "block5i_activation (Activation) (None, 16, 16, 1344) 0           block5i_bn[0][0]                 \n",
      "__________________________________________________________________________________________________\n",
      "block5i_se_squeeze (GlobalAvera (None, 1344)         0           block5i_activation[0][0]         \n",
      "__________________________________________________________________________________________________\n",
      "block5i_se_reshape (Reshape)    (None, 1, 1, 1344)   0           block5i_se_squeeze[0][0]         \n",
      "__________________________________________________________________________________________________\n",
      "block5i_se_reduce (Conv2D)      (None, 1, 1, 56)     75320       block5i_se_reshape[0][0]         \n",
      "__________________________________________________________________________________________________\n",
      "block5i_se_expand (Conv2D)      (None, 1, 1, 1344)   76608       block5i_se_reduce[0][0]          \n",
      "__________________________________________________________________________________________________\n",
      "block5i_se_excite (Multiply)    (None, 16, 16, 1344) 0           block5i_activation[0][0]         \n",
      "                                                                 block5i_se_expand[0][0]          \n",
      "__________________________________________________________________________________________________\n",
      "block5i_project_conv (Conv2D)   (None, 16, 16, 224)  301056      block5i_se_excite[0][0]          \n",
      "__________________________________________________________________________________________________\n",
      "block5i_project_bn (BatchNormal (None, 16, 16, 224)  896         block5i_project_conv[0][0]       \n",
      "__________________________________________________________________________________________________\n",
      "block5i_drop (FixedDropout)     (None, 16, 16, 224)  0           block5i_project_bn[0][0]         \n",
      "__________________________________________________________________________________________________\n",
      "block5i_add (Add)               (None, 16, 16, 224)  0           block5i_drop[0][0]               \n",
      "                                                                 block5h_add[0][0]                \n",
      "__________________________________________________________________________________________________\n",
      "block5j_expand_conv (Conv2D)    (None, 16, 16, 1344) 301056      block5i_add[0][0]                \n",
      "__________________________________________________________________________________________________\n",
      "block5j_expand_bn (BatchNormali (None, 16, 16, 1344) 5376        block5j_expand_conv[0][0]        \n",
      "__________________________________________________________________________________________________\n",
      "block5j_expand_activation (Acti (None, 16, 16, 1344) 0           block5j_expand_bn[0][0]          \n",
      "__________________________________________________________________________________________________\n",
      "block5j_dwconv (DepthwiseConv2D (None, 16, 16, 1344) 33600       block5j_expand_activation[0][0]  \n",
      "__________________________________________________________________________________________________\n",
      "block5j_bn (BatchNormalization) (None, 16, 16, 1344) 5376        block5j_dwconv[0][0]             \n",
      "__________________________________________________________________________________________________\n",
      "block5j_activation (Activation) (None, 16, 16, 1344) 0           block5j_bn[0][0]                 \n",
      "__________________________________________________________________________________________________\n",
      "block5j_se_squeeze (GlobalAvera (None, 1344)         0           block5j_activation[0][0]         \n",
      "__________________________________________________________________________________________________\n",
      "block5j_se_reshape (Reshape)    (None, 1, 1, 1344)   0           block5j_se_squeeze[0][0]         \n",
      "__________________________________________________________________________________________________\n",
      "block5j_se_reduce (Conv2D)      (None, 1, 1, 56)     75320       block5j_se_reshape[0][0]         \n",
      "__________________________________________________________________________________________________\n",
      "block5j_se_expand (Conv2D)      (None, 1, 1, 1344)   76608       block5j_se_reduce[0][0]          \n",
      "__________________________________________________________________________________________________\n",
      "block5j_se_excite (Multiply)    (None, 16, 16, 1344) 0           block5j_activation[0][0]         \n",
      "                                                                 block5j_se_expand[0][0]          \n",
      "__________________________________________________________________________________________________\n",
      "block5j_project_conv (Conv2D)   (None, 16, 16, 224)  301056      block5j_se_excite[0][0]          \n",
      "__________________________________________________________________________________________________\n",
      "block5j_project_bn (BatchNormal (None, 16, 16, 224)  896         block5j_project_conv[0][0]       \n",
      "__________________________________________________________________________________________________\n",
      "block5j_drop (FixedDropout)     (None, 16, 16, 224)  0           block5j_project_bn[0][0]         \n",
      "__________________________________________________________________________________________________\n",
      "block5j_add (Add)               (None, 16, 16, 224)  0           block5j_drop[0][0]               \n",
      "                                                                 block5i_add[0][0]                \n",
      "__________________________________________________________________________________________________\n",
      "block6a_expand_conv (Conv2D)    (None, 16, 16, 1344) 301056      block5j_add[0][0]                \n",
      "__________________________________________________________________________________________________\n",
      "block6a_expand_bn (BatchNormali (None, 16, 16, 1344) 5376        block6a_expand_conv[0][0]        \n",
      "__________________________________________________________________________________________________\n",
      "block6a_expand_activation (Acti (None, 16, 16, 1344) 0           block6a_expand_bn[0][0]          \n",
      "__________________________________________________________________________________________________\n",
      "block6a_dwconv (DepthwiseConv2D (None, 8, 8, 1344)   33600       block6a_expand_activation[0][0]  \n",
      "__________________________________________________________________________________________________\n",
      "block6a_bn (BatchNormalization) (None, 8, 8, 1344)   5376        block6a_dwconv[0][0]             \n",
      "__________________________________________________________________________________________________\n",
      "block6a_activation (Activation) (None, 8, 8, 1344)   0           block6a_bn[0][0]                 \n",
      "__________________________________________________________________________________________________\n",
      "block6a_se_squeeze (GlobalAvera (None, 1344)         0           block6a_activation[0][0]         \n",
      "__________________________________________________________________________________________________\n",
      "block6a_se_reshape (Reshape)    (None, 1, 1, 1344)   0           block6a_se_squeeze[0][0]         \n",
      "__________________________________________________________________________________________________\n",
      "block6a_se_reduce (Conv2D)      (None, 1, 1, 56)     75320       block6a_se_reshape[0][0]         \n",
      "__________________________________________________________________________________________________\n",
      "block6a_se_expand (Conv2D)      (None, 1, 1, 1344)   76608       block6a_se_reduce[0][0]          \n",
      "__________________________________________________________________________________________________\n",
      "block6a_se_excite (Multiply)    (None, 8, 8, 1344)   0           block6a_activation[0][0]         \n",
      "                                                                 block6a_se_expand[0][0]          \n",
      "__________________________________________________________________________________________________\n",
      "block6a_project_conv (Conv2D)   (None, 8, 8, 384)    516096      block6a_se_excite[0][0]          \n",
      "__________________________________________________________________________________________________\n",
      "block6a_project_bn (BatchNormal (None, 8, 8, 384)    1536        block6a_project_conv[0][0]       \n",
      "__________________________________________________________________________________________________\n",
      "block6b_expand_conv (Conv2D)    (None, 8, 8, 2304)   884736      block6a_project_bn[0][0]         \n",
      "__________________________________________________________________________________________________\n",
      "block6b_expand_bn (BatchNormali (None, 8, 8, 2304)   9216        block6b_expand_conv[0][0]        \n",
      "__________________________________________________________________________________________________\n",
      "block6b_expand_activation (Acti (None, 8, 8, 2304)   0           block6b_expand_bn[0][0]          \n",
      "__________________________________________________________________________________________________\n",
      "block6b_dwconv (DepthwiseConv2D (None, 8, 8, 2304)   57600       block6b_expand_activation[0][0]  \n",
      "__________________________________________________________________________________________________\n",
      "block6b_bn (BatchNormalization) (None, 8, 8, 2304)   9216        block6b_dwconv[0][0]             \n",
      "__________________________________________________________________________________________________\n",
      "block6b_activation (Activation) (None, 8, 8, 2304)   0           block6b_bn[0][0]                 \n",
      "__________________________________________________________________________________________________\n",
      "block6b_se_squeeze (GlobalAvera (None, 2304)         0           block6b_activation[0][0]         \n",
      "__________________________________________________________________________________________________\n",
      "block6b_se_reshape (Reshape)    (None, 1, 1, 2304)   0           block6b_se_squeeze[0][0]         \n",
      "__________________________________________________________________________________________________\n",
      "block6b_se_reduce (Conv2D)      (None, 1, 1, 96)     221280      block6b_se_reshape[0][0]         \n",
      "__________________________________________________________________________________________________\n",
      "block6b_se_expand (Conv2D)      (None, 1, 1, 2304)   223488      block6b_se_reduce[0][0]          \n",
      "__________________________________________________________________________________________________\n",
      "block6b_se_excite (Multiply)    (None, 8, 8, 2304)   0           block6b_activation[0][0]         \n",
      "                                                                 block6b_se_expand[0][0]          \n",
      "__________________________________________________________________________________________________\n",
      "block6b_project_conv (Conv2D)   (None, 8, 8, 384)    884736      block6b_se_excite[0][0]          \n",
      "__________________________________________________________________________________________________\n",
      "block6b_project_bn (BatchNormal (None, 8, 8, 384)    1536        block6b_project_conv[0][0]       \n",
      "__________________________________________________________________________________________________\n",
      "block6b_drop (FixedDropout)     (None, 8, 8, 384)    0           block6b_project_bn[0][0]         \n",
      "__________________________________________________________________________________________________\n",
      "block6b_add (Add)               (None, 8, 8, 384)    0           block6b_drop[0][0]               \n",
      "                                                                 block6a_project_bn[0][0]         \n",
      "__________________________________________________________________________________________________\n",
      "block6c_expand_conv (Conv2D)    (None, 8, 8, 2304)   884736      block6b_add[0][0]                \n",
      "__________________________________________________________________________________________________\n",
      "block6c_expand_bn (BatchNormali (None, 8, 8, 2304)   9216        block6c_expand_conv[0][0]        \n",
      "__________________________________________________________________________________________________\n",
      "block6c_expand_activation (Acti (None, 8, 8, 2304)   0           block6c_expand_bn[0][0]          \n",
      "__________________________________________________________________________________________________\n",
      "block6c_dwconv (DepthwiseConv2D (None, 8, 8, 2304)   57600       block6c_expand_activation[0][0]  \n",
      "__________________________________________________________________________________________________\n",
      "block6c_bn (BatchNormalization) (None, 8, 8, 2304)   9216        block6c_dwconv[0][0]             \n",
      "__________________________________________________________________________________________________\n",
      "block6c_activation (Activation) (None, 8, 8, 2304)   0           block6c_bn[0][0]                 \n",
      "__________________________________________________________________________________________________\n",
      "block6c_se_squeeze (GlobalAvera (None, 2304)         0           block6c_activation[0][0]         \n",
      "__________________________________________________________________________________________________\n",
      "block6c_se_reshape (Reshape)    (None, 1, 1, 2304)   0           block6c_se_squeeze[0][0]         \n",
      "__________________________________________________________________________________________________\n",
      "block6c_se_reduce (Conv2D)      (None, 1, 1, 96)     221280      block6c_se_reshape[0][0]         \n",
      "__________________________________________________________________________________________________\n",
      "block6c_se_expand (Conv2D)      (None, 1, 1, 2304)   223488      block6c_se_reduce[0][0]          \n",
      "__________________________________________________________________________________________________\n",
      "block6c_se_excite (Multiply)    (None, 8, 8, 2304)   0           block6c_activation[0][0]         \n",
      "                                                                 block6c_se_expand[0][0]          \n",
      "__________________________________________________________________________________________________\n",
      "block6c_project_conv (Conv2D)   (None, 8, 8, 384)    884736      block6c_se_excite[0][0]          \n",
      "__________________________________________________________________________________________________\n",
      "block6c_project_bn (BatchNormal (None, 8, 8, 384)    1536        block6c_project_conv[0][0]       \n",
      "__________________________________________________________________________________________________\n",
      "block6c_drop (FixedDropout)     (None, 8, 8, 384)    0           block6c_project_bn[0][0]         \n",
      "__________________________________________________________________________________________________\n",
      "block6c_add (Add)               (None, 8, 8, 384)    0           block6c_drop[0][0]               \n",
      "                                                                 block6b_add[0][0]                \n",
      "__________________________________________________________________________________________________\n",
      "block6d_expand_conv (Conv2D)    (None, 8, 8, 2304)   884736      block6c_add[0][0]                \n",
      "__________________________________________________________________________________________________\n",
      "block6d_expand_bn (BatchNormali (None, 8, 8, 2304)   9216        block6d_expand_conv[0][0]        \n",
      "__________________________________________________________________________________________________\n",
      "block6d_expand_activation (Acti (None, 8, 8, 2304)   0           block6d_expand_bn[0][0]          \n",
      "__________________________________________________________________________________________________\n",
      "block6d_dwconv (DepthwiseConv2D (None, 8, 8, 2304)   57600       block6d_expand_activation[0][0]  \n",
      "__________________________________________________________________________________________________\n",
      "block6d_bn (BatchNormalization) (None, 8, 8, 2304)   9216        block6d_dwconv[0][0]             \n",
      "__________________________________________________________________________________________________\n",
      "block6d_activation (Activation) (None, 8, 8, 2304)   0           block6d_bn[0][0]                 \n",
      "__________________________________________________________________________________________________\n",
      "block6d_se_squeeze (GlobalAvera (None, 2304)         0           block6d_activation[0][0]         \n",
      "__________________________________________________________________________________________________\n",
      "block6d_se_reshape (Reshape)    (None, 1, 1, 2304)   0           block6d_se_squeeze[0][0]         \n",
      "__________________________________________________________________________________________________\n",
      "block6d_se_reduce (Conv2D)      (None, 1, 1, 96)     221280      block6d_se_reshape[0][0]         \n",
      "__________________________________________________________________________________________________\n",
      "block6d_se_expand (Conv2D)      (None, 1, 1, 2304)   223488      block6d_se_reduce[0][0]          \n",
      "__________________________________________________________________________________________________\n",
      "block6d_se_excite (Multiply)    (None, 8, 8, 2304)   0           block6d_activation[0][0]         \n",
      "                                                                 block6d_se_expand[0][0]          \n",
      "__________________________________________________________________________________________________\n",
      "block6d_project_conv (Conv2D)   (None, 8, 8, 384)    884736      block6d_se_excite[0][0]          \n",
      "__________________________________________________________________________________________________\n",
      "block6d_project_bn (BatchNormal (None, 8, 8, 384)    1536        block6d_project_conv[0][0]       \n",
      "__________________________________________________________________________________________________\n",
      "block6d_drop (FixedDropout)     (None, 8, 8, 384)    0           block6d_project_bn[0][0]         \n",
      "__________________________________________________________________________________________________\n",
      "block6d_add (Add)               (None, 8, 8, 384)    0           block6d_drop[0][0]               \n",
      "                                                                 block6c_add[0][0]                \n",
      "__________________________________________________________________________________________________\n",
      "block6e_expand_conv (Conv2D)    (None, 8, 8, 2304)   884736      block6d_add[0][0]                \n",
      "__________________________________________________________________________________________________\n",
      "block6e_expand_bn (BatchNormali (None, 8, 8, 2304)   9216        block6e_expand_conv[0][0]        \n",
      "__________________________________________________________________________________________________\n",
      "block6e_expand_activation (Acti (None, 8, 8, 2304)   0           block6e_expand_bn[0][0]          \n",
      "__________________________________________________________________________________________________\n",
      "block6e_dwconv (DepthwiseConv2D (None, 8, 8, 2304)   57600       block6e_expand_activation[0][0]  \n",
      "__________________________________________________________________________________________________\n",
      "block6e_bn (BatchNormalization) (None, 8, 8, 2304)   9216        block6e_dwconv[0][0]             \n",
      "__________________________________________________________________________________________________\n",
      "block6e_activation (Activation) (None, 8, 8, 2304)   0           block6e_bn[0][0]                 \n",
      "__________________________________________________________________________________________________\n",
      "block6e_se_squeeze (GlobalAvera (None, 2304)         0           block6e_activation[0][0]         \n",
      "__________________________________________________________________________________________________\n",
      "block6e_se_reshape (Reshape)    (None, 1, 1, 2304)   0           block6e_se_squeeze[0][0]         \n",
      "__________________________________________________________________________________________________\n",
      "block6e_se_reduce (Conv2D)      (None, 1, 1, 96)     221280      block6e_se_reshape[0][0]         \n",
      "__________________________________________________________________________________________________\n",
      "block6e_se_expand (Conv2D)      (None, 1, 1, 2304)   223488      block6e_se_reduce[0][0]          \n",
      "__________________________________________________________________________________________________\n",
      "block6e_se_excite (Multiply)    (None, 8, 8, 2304)   0           block6e_activation[0][0]         \n",
      "                                                                 block6e_se_expand[0][0]          \n",
      "__________________________________________________________________________________________________\n",
      "block6e_project_conv (Conv2D)   (None, 8, 8, 384)    884736      block6e_se_excite[0][0]          \n",
      "__________________________________________________________________________________________________\n",
      "block6e_project_bn (BatchNormal (None, 8, 8, 384)    1536        block6e_project_conv[0][0]       \n",
      "__________________________________________________________________________________________________\n",
      "block6e_drop (FixedDropout)     (None, 8, 8, 384)    0           block6e_project_bn[0][0]         \n",
      "__________________________________________________________________________________________________\n",
      "block6e_add (Add)               (None, 8, 8, 384)    0           block6e_drop[0][0]               \n",
      "                                                                 block6d_add[0][0]                \n",
      "__________________________________________________________________________________________________\n",
      "block6f_expand_conv (Conv2D)    (None, 8, 8, 2304)   884736      block6e_add[0][0]                \n",
      "__________________________________________________________________________________________________\n",
      "block6f_expand_bn (BatchNormali (None, 8, 8, 2304)   9216        block6f_expand_conv[0][0]        \n",
      "__________________________________________________________________________________________________\n",
      "block6f_expand_activation (Acti (None, 8, 8, 2304)   0           block6f_expand_bn[0][0]          \n",
      "__________________________________________________________________________________________________\n",
      "block6f_dwconv (DepthwiseConv2D (None, 8, 8, 2304)   57600       block6f_expand_activation[0][0]  \n",
      "__________________________________________________________________________________________________\n",
      "block6f_bn (BatchNormalization) (None, 8, 8, 2304)   9216        block6f_dwconv[0][0]             \n",
      "__________________________________________________________________________________________________\n",
      "block6f_activation (Activation) (None, 8, 8, 2304)   0           block6f_bn[0][0]                 \n",
      "__________________________________________________________________________________________________\n",
      "block6f_se_squeeze (GlobalAvera (None, 2304)         0           block6f_activation[0][0]         \n",
      "__________________________________________________________________________________________________\n",
      "block6f_se_reshape (Reshape)    (None, 1, 1, 2304)   0           block6f_se_squeeze[0][0]         \n",
      "__________________________________________________________________________________________________\n",
      "block6f_se_reduce (Conv2D)      (None, 1, 1, 96)     221280      block6f_se_reshape[0][0]         \n",
      "__________________________________________________________________________________________________\n",
      "block6f_se_expand (Conv2D)      (None, 1, 1, 2304)   223488      block6f_se_reduce[0][0]          \n",
      "__________________________________________________________________________________________________\n",
      "block6f_se_excite (Multiply)    (None, 8, 8, 2304)   0           block6f_activation[0][0]         \n",
      "                                                                 block6f_se_expand[0][0]          \n",
      "__________________________________________________________________________________________________\n",
      "block6f_project_conv (Conv2D)   (None, 8, 8, 384)    884736      block6f_se_excite[0][0]          \n",
      "__________________________________________________________________________________________________\n",
      "block6f_project_bn (BatchNormal (None, 8, 8, 384)    1536        block6f_project_conv[0][0]       \n",
      "__________________________________________________________________________________________________\n",
      "block6f_drop (FixedDropout)     (None, 8, 8, 384)    0           block6f_project_bn[0][0]         \n",
      "__________________________________________________________________________________________________\n",
      "block6f_add (Add)               (None, 8, 8, 384)    0           block6f_drop[0][0]               \n",
      "                                                                 block6e_add[0][0]                \n",
      "__________________________________________________________________________________________________\n",
      "block6g_expand_conv (Conv2D)    (None, 8, 8, 2304)   884736      block6f_add[0][0]                \n",
      "__________________________________________________________________________________________________\n",
      "block6g_expand_bn (BatchNormali (None, 8, 8, 2304)   9216        block6g_expand_conv[0][0]        \n",
      "__________________________________________________________________________________________________\n",
      "block6g_expand_activation (Acti (None, 8, 8, 2304)   0           block6g_expand_bn[0][0]          \n",
      "__________________________________________________________________________________________________\n",
      "block6g_dwconv (DepthwiseConv2D (None, 8, 8, 2304)   57600       block6g_expand_activation[0][0]  \n",
      "__________________________________________________________________________________________________\n",
      "block6g_bn (BatchNormalization) (None, 8, 8, 2304)   9216        block6g_dwconv[0][0]             \n",
      "__________________________________________________________________________________________________\n",
      "block6g_activation (Activation) (None, 8, 8, 2304)   0           block6g_bn[0][0]                 \n",
      "__________________________________________________________________________________________________\n",
      "block6g_se_squeeze (GlobalAvera (None, 2304)         0           block6g_activation[0][0]         \n",
      "__________________________________________________________________________________________________\n",
      "block6g_se_reshape (Reshape)    (None, 1, 1, 2304)   0           block6g_se_squeeze[0][0]         \n",
      "__________________________________________________________________________________________________\n",
      "block6g_se_reduce (Conv2D)      (None, 1, 1, 96)     221280      block6g_se_reshape[0][0]         \n",
      "__________________________________________________________________________________________________\n",
      "block6g_se_expand (Conv2D)      (None, 1, 1, 2304)   223488      block6g_se_reduce[0][0]          \n",
      "__________________________________________________________________________________________________\n",
      "block6g_se_excite (Multiply)    (None, 8, 8, 2304)   0           block6g_activation[0][0]         \n",
      "                                                                 block6g_se_expand[0][0]          \n",
      "__________________________________________________________________________________________________\n",
      "block6g_project_conv (Conv2D)   (None, 8, 8, 384)    884736      block6g_se_excite[0][0]          \n",
      "__________________________________________________________________________________________________\n",
      "block6g_project_bn (BatchNormal (None, 8, 8, 384)    1536        block6g_project_conv[0][0]       \n",
      "__________________________________________________________________________________________________\n",
      "block6g_drop (FixedDropout)     (None, 8, 8, 384)    0           block6g_project_bn[0][0]         \n",
      "__________________________________________________________________________________________________\n",
      "block6g_add (Add)               (None, 8, 8, 384)    0           block6g_drop[0][0]               \n",
      "                                                                 block6f_add[0][0]                \n",
      "__________________________________________________________________________________________________\n",
      "block6h_expand_conv (Conv2D)    (None, 8, 8, 2304)   884736      block6g_add[0][0]                \n",
      "__________________________________________________________________________________________________\n",
      "block6h_expand_bn (BatchNormali (None, 8, 8, 2304)   9216        block6h_expand_conv[0][0]        \n",
      "__________________________________________________________________________________________________\n",
      "block6h_expand_activation (Acti (None, 8, 8, 2304)   0           block6h_expand_bn[0][0]          \n",
      "__________________________________________________________________________________________________\n",
      "block6h_dwconv (DepthwiseConv2D (None, 8, 8, 2304)   57600       block6h_expand_activation[0][0]  \n",
      "__________________________________________________________________________________________________\n",
      "block6h_bn (BatchNormalization) (None, 8, 8, 2304)   9216        block6h_dwconv[0][0]             \n",
      "__________________________________________________________________________________________________\n",
      "block6h_activation (Activation) (None, 8, 8, 2304)   0           block6h_bn[0][0]                 \n",
      "__________________________________________________________________________________________________\n",
      "block6h_se_squeeze (GlobalAvera (None, 2304)         0           block6h_activation[0][0]         \n",
      "__________________________________________________________________________________________________\n",
      "block6h_se_reshape (Reshape)    (None, 1, 1, 2304)   0           block6h_se_squeeze[0][0]         \n",
      "__________________________________________________________________________________________________\n",
      "block6h_se_reduce (Conv2D)      (None, 1, 1, 96)     221280      block6h_se_reshape[0][0]         \n",
      "__________________________________________________________________________________________________\n",
      "block6h_se_expand (Conv2D)      (None, 1, 1, 2304)   223488      block6h_se_reduce[0][0]          \n",
      "__________________________________________________________________________________________________\n",
      "block6h_se_excite (Multiply)    (None, 8, 8, 2304)   0           block6h_activation[0][0]         \n",
      "                                                                 block6h_se_expand[0][0]          \n",
      "__________________________________________________________________________________________________\n",
      "block6h_project_conv (Conv2D)   (None, 8, 8, 384)    884736      block6h_se_excite[0][0]          \n",
      "__________________________________________________________________________________________________\n",
      "block6h_project_bn (BatchNormal (None, 8, 8, 384)    1536        block6h_project_conv[0][0]       \n",
      "__________________________________________________________________________________________________\n",
      "block6h_drop (FixedDropout)     (None, 8, 8, 384)    0           block6h_project_bn[0][0]         \n",
      "__________________________________________________________________________________________________\n",
      "block6h_add (Add)               (None, 8, 8, 384)    0           block6h_drop[0][0]               \n",
      "                                                                 block6g_add[0][0]                \n",
      "__________________________________________________________________________________________________\n",
      "block6i_expand_conv (Conv2D)    (None, 8, 8, 2304)   884736      block6h_add[0][0]                \n",
      "__________________________________________________________________________________________________\n",
      "block6i_expand_bn (BatchNormali (None, 8, 8, 2304)   9216        block6i_expand_conv[0][0]        \n",
      "__________________________________________________________________________________________________\n",
      "block6i_expand_activation (Acti (None, 8, 8, 2304)   0           block6i_expand_bn[0][0]          \n",
      "__________________________________________________________________________________________________\n",
      "block6i_dwconv (DepthwiseConv2D (None, 8, 8, 2304)   57600       block6i_expand_activation[0][0]  \n",
      "__________________________________________________________________________________________________\n",
      "block6i_bn (BatchNormalization) (None, 8, 8, 2304)   9216        block6i_dwconv[0][0]             \n",
      "__________________________________________________________________________________________________\n",
      "block6i_activation (Activation) (None, 8, 8, 2304)   0           block6i_bn[0][0]                 \n",
      "__________________________________________________________________________________________________\n",
      "block6i_se_squeeze (GlobalAvera (None, 2304)         0           block6i_activation[0][0]         \n",
      "__________________________________________________________________________________________________\n",
      "block6i_se_reshape (Reshape)    (None, 1, 1, 2304)   0           block6i_se_squeeze[0][0]         \n",
      "__________________________________________________________________________________________________\n",
      "block6i_se_reduce (Conv2D)      (None, 1, 1, 96)     221280      block6i_se_reshape[0][0]         \n",
      "__________________________________________________________________________________________________\n",
      "block6i_se_expand (Conv2D)      (None, 1, 1, 2304)   223488      block6i_se_reduce[0][0]          \n",
      "__________________________________________________________________________________________________\n",
      "block6i_se_excite (Multiply)    (None, 8, 8, 2304)   0           block6i_activation[0][0]         \n",
      "                                                                 block6i_se_expand[0][0]          \n",
      "__________________________________________________________________________________________________\n",
      "block6i_project_conv (Conv2D)   (None, 8, 8, 384)    884736      block6i_se_excite[0][0]          \n",
      "__________________________________________________________________________________________________\n",
      "block6i_project_bn (BatchNormal (None, 8, 8, 384)    1536        block6i_project_conv[0][0]       \n",
      "__________________________________________________________________________________________________\n",
      "block6i_drop (FixedDropout)     (None, 8, 8, 384)    0           block6i_project_bn[0][0]         \n",
      "__________________________________________________________________________________________________\n",
      "block6i_add (Add)               (None, 8, 8, 384)    0           block6i_drop[0][0]               \n",
      "                                                                 block6h_add[0][0]                \n",
      "__________________________________________________________________________________________________\n",
      "block6j_expand_conv (Conv2D)    (None, 8, 8, 2304)   884736      block6i_add[0][0]                \n",
      "__________________________________________________________________________________________________\n",
      "block6j_expand_bn (BatchNormali (None, 8, 8, 2304)   9216        block6j_expand_conv[0][0]        \n",
      "__________________________________________________________________________________________________\n",
      "block6j_expand_activation (Acti (None, 8, 8, 2304)   0           block6j_expand_bn[0][0]          \n",
      "__________________________________________________________________________________________________\n",
      "block6j_dwconv (DepthwiseConv2D (None, 8, 8, 2304)   57600       block6j_expand_activation[0][0]  \n",
      "__________________________________________________________________________________________________\n",
      "block6j_bn (BatchNormalization) (None, 8, 8, 2304)   9216        block6j_dwconv[0][0]             \n",
      "__________________________________________________________________________________________________\n",
      "block6j_activation (Activation) (None, 8, 8, 2304)   0           block6j_bn[0][0]                 \n",
      "__________________________________________________________________________________________________\n",
      "block6j_se_squeeze (GlobalAvera (None, 2304)         0           block6j_activation[0][0]         \n",
      "__________________________________________________________________________________________________\n",
      "block6j_se_reshape (Reshape)    (None, 1, 1, 2304)   0           block6j_se_squeeze[0][0]         \n",
      "__________________________________________________________________________________________________\n",
      "block6j_se_reduce (Conv2D)      (None, 1, 1, 96)     221280      block6j_se_reshape[0][0]         \n",
      "__________________________________________________________________________________________________\n",
      "block6j_se_expand (Conv2D)      (None, 1, 1, 2304)   223488      block6j_se_reduce[0][0]          \n",
      "__________________________________________________________________________________________________\n",
      "block6j_se_excite (Multiply)    (None, 8, 8, 2304)   0           block6j_activation[0][0]         \n",
      "                                                                 block6j_se_expand[0][0]          \n",
      "__________________________________________________________________________________________________\n",
      "block6j_project_conv (Conv2D)   (None, 8, 8, 384)    884736      block6j_se_excite[0][0]          \n",
      "__________________________________________________________________________________________________\n",
      "block6j_project_bn (BatchNormal (None, 8, 8, 384)    1536        block6j_project_conv[0][0]       \n",
      "__________________________________________________________________________________________________\n",
      "block6j_drop (FixedDropout)     (None, 8, 8, 384)    0           block6j_project_bn[0][0]         \n",
      "__________________________________________________________________________________________________\n",
      "block6j_add (Add)               (None, 8, 8, 384)    0           block6j_drop[0][0]               \n",
      "                                                                 block6i_add[0][0]                \n",
      "__________________________________________________________________________________________________\n",
      "block6k_expand_conv (Conv2D)    (None, 8, 8, 2304)   884736      block6j_add[0][0]                \n",
      "__________________________________________________________________________________________________\n",
      "block6k_expand_bn (BatchNormali (None, 8, 8, 2304)   9216        block6k_expand_conv[0][0]        \n",
      "__________________________________________________________________________________________________\n",
      "block6k_expand_activation (Acti (None, 8, 8, 2304)   0           block6k_expand_bn[0][0]          \n",
      "__________________________________________________________________________________________________\n",
      "block6k_dwconv (DepthwiseConv2D (None, 8, 8, 2304)   57600       block6k_expand_activation[0][0]  \n",
      "__________________________________________________________________________________________________\n",
      "block6k_bn (BatchNormalization) (None, 8, 8, 2304)   9216        block6k_dwconv[0][0]             \n",
      "__________________________________________________________________________________________________\n",
      "block6k_activation (Activation) (None, 8, 8, 2304)   0           block6k_bn[0][0]                 \n",
      "__________________________________________________________________________________________________\n",
      "block6k_se_squeeze (GlobalAvera (None, 2304)         0           block6k_activation[0][0]         \n",
      "__________________________________________________________________________________________________\n",
      "block6k_se_reshape (Reshape)    (None, 1, 1, 2304)   0           block6k_se_squeeze[0][0]         \n",
      "__________________________________________________________________________________________________\n",
      "block6k_se_reduce (Conv2D)      (None, 1, 1, 96)     221280      block6k_se_reshape[0][0]         \n",
      "__________________________________________________________________________________________________\n",
      "block6k_se_expand (Conv2D)      (None, 1, 1, 2304)   223488      block6k_se_reduce[0][0]          \n",
      "__________________________________________________________________________________________________\n",
      "block6k_se_excite (Multiply)    (None, 8, 8, 2304)   0           block6k_activation[0][0]         \n",
      "                                                                 block6k_se_expand[0][0]          \n",
      "__________________________________________________________________________________________________\n",
      "block6k_project_conv (Conv2D)   (None, 8, 8, 384)    884736      block6k_se_excite[0][0]          \n",
      "__________________________________________________________________________________________________\n",
      "block6k_project_bn (BatchNormal (None, 8, 8, 384)    1536        block6k_project_conv[0][0]       \n",
      "__________________________________________________________________________________________________\n",
      "block6k_drop (FixedDropout)     (None, 8, 8, 384)    0           block6k_project_bn[0][0]         \n",
      "__________________________________________________________________________________________________\n",
      "block6k_add (Add)               (None, 8, 8, 384)    0           block6k_drop[0][0]               \n",
      "                                                                 block6j_add[0][0]                \n",
      "__________________________________________________________________________________________________\n",
      "block6l_expand_conv (Conv2D)    (None, 8, 8, 2304)   884736      block6k_add[0][0]                \n",
      "__________________________________________________________________________________________________\n",
      "block6l_expand_bn (BatchNormali (None, 8, 8, 2304)   9216        block6l_expand_conv[0][0]        \n",
      "__________________________________________________________________________________________________\n",
      "block6l_expand_activation (Acti (None, 8, 8, 2304)   0           block6l_expand_bn[0][0]          \n",
      "__________________________________________________________________________________________________\n",
      "block6l_dwconv (DepthwiseConv2D (None, 8, 8, 2304)   57600       block6l_expand_activation[0][0]  \n",
      "__________________________________________________________________________________________________\n",
      "block6l_bn (BatchNormalization) (None, 8, 8, 2304)   9216        block6l_dwconv[0][0]             \n",
      "__________________________________________________________________________________________________\n",
      "block6l_activation (Activation) (None, 8, 8, 2304)   0           block6l_bn[0][0]                 \n",
      "__________________________________________________________________________________________________\n",
      "block6l_se_squeeze (GlobalAvera (None, 2304)         0           block6l_activation[0][0]         \n",
      "__________________________________________________________________________________________________\n",
      "block6l_se_reshape (Reshape)    (None, 1, 1, 2304)   0           block6l_se_squeeze[0][0]         \n",
      "__________________________________________________________________________________________________\n",
      "block6l_se_reduce (Conv2D)      (None, 1, 1, 96)     221280      block6l_se_reshape[0][0]         \n",
      "__________________________________________________________________________________________________\n",
      "block6l_se_expand (Conv2D)      (None, 1, 1, 2304)   223488      block6l_se_reduce[0][0]          \n",
      "__________________________________________________________________________________________________\n",
      "block6l_se_excite (Multiply)    (None, 8, 8, 2304)   0           block6l_activation[0][0]         \n",
      "                                                                 block6l_se_expand[0][0]          \n",
      "__________________________________________________________________________________________________\n",
      "block6l_project_conv (Conv2D)   (None, 8, 8, 384)    884736      block6l_se_excite[0][0]          \n",
      "__________________________________________________________________________________________________\n",
      "block6l_project_bn (BatchNormal (None, 8, 8, 384)    1536        block6l_project_conv[0][0]       \n",
      "__________________________________________________________________________________________________\n",
      "block6l_drop (FixedDropout)     (None, 8, 8, 384)    0           block6l_project_bn[0][0]         \n",
      "__________________________________________________________________________________________________\n",
      "block6l_add (Add)               (None, 8, 8, 384)    0           block6l_drop[0][0]               \n",
      "                                                                 block6k_add[0][0]                \n",
      "__________________________________________________________________________________________________\n",
      "block6m_expand_conv (Conv2D)    (None, 8, 8, 2304)   884736      block6l_add[0][0]                \n",
      "__________________________________________________________________________________________________\n",
      "block6m_expand_bn (BatchNormali (None, 8, 8, 2304)   9216        block6m_expand_conv[0][0]        \n",
      "__________________________________________________________________________________________________\n",
      "block6m_expand_activation (Acti (None, 8, 8, 2304)   0           block6m_expand_bn[0][0]          \n",
      "__________________________________________________________________________________________________\n",
      "block6m_dwconv (DepthwiseConv2D (None, 8, 8, 2304)   57600       block6m_expand_activation[0][0]  \n",
      "__________________________________________________________________________________________________\n",
      "block6m_bn (BatchNormalization) (None, 8, 8, 2304)   9216        block6m_dwconv[0][0]             \n",
      "__________________________________________________________________________________________________\n",
      "block6m_activation (Activation) (None, 8, 8, 2304)   0           block6m_bn[0][0]                 \n",
      "__________________________________________________________________________________________________\n",
      "block6m_se_squeeze (GlobalAvera (None, 2304)         0           block6m_activation[0][0]         \n",
      "__________________________________________________________________________________________________\n",
      "block6m_se_reshape (Reshape)    (None, 1, 1, 2304)   0           block6m_se_squeeze[0][0]         \n",
      "__________________________________________________________________________________________________\n",
      "block6m_se_reduce (Conv2D)      (None, 1, 1, 96)     221280      block6m_se_reshape[0][0]         \n",
      "__________________________________________________________________________________________________\n",
      "block6m_se_expand (Conv2D)      (None, 1, 1, 2304)   223488      block6m_se_reduce[0][0]          \n",
      "__________________________________________________________________________________________________\n",
      "block6m_se_excite (Multiply)    (None, 8, 8, 2304)   0           block6m_activation[0][0]         \n",
      "                                                                 block6m_se_expand[0][0]          \n",
      "__________________________________________________________________________________________________\n",
      "block6m_project_conv (Conv2D)   (None, 8, 8, 384)    884736      block6m_se_excite[0][0]          \n",
      "__________________________________________________________________________________________________\n",
      "block6m_project_bn (BatchNormal (None, 8, 8, 384)    1536        block6m_project_conv[0][0]       \n",
      "__________________________________________________________________________________________________\n",
      "block6m_drop (FixedDropout)     (None, 8, 8, 384)    0           block6m_project_bn[0][0]         \n",
      "__________________________________________________________________________________________________\n",
      "block6m_add (Add)               (None, 8, 8, 384)    0           block6m_drop[0][0]               \n",
      "                                                                 block6l_add[0][0]                \n",
      "__________________________________________________________________________________________________\n",
      "block7a_expand_conv (Conv2D)    (None, 8, 8, 2304)   884736      block6m_add[0][0]                \n",
      "__________________________________________________________________________________________________\n",
      "block7a_expand_bn (BatchNormali (None, 8, 8, 2304)   9216        block7a_expand_conv[0][0]        \n",
      "__________________________________________________________________________________________________\n",
      "block7a_expand_activation (Acti (None, 8, 8, 2304)   0           block7a_expand_bn[0][0]          \n",
      "__________________________________________________________________________________________________\n",
      "block7a_dwconv (DepthwiseConv2D (None, 8, 8, 2304)   20736       block7a_expand_activation[0][0]  \n",
      "__________________________________________________________________________________________________\n",
      "block7a_bn (BatchNormalization) (None, 8, 8, 2304)   9216        block7a_dwconv[0][0]             \n",
      "__________________________________________________________________________________________________\n",
      "block7a_activation (Activation) (None, 8, 8, 2304)   0           block7a_bn[0][0]                 \n",
      "__________________________________________________________________________________________________\n",
      "block7a_se_squeeze (GlobalAvera (None, 2304)         0           block7a_activation[0][0]         \n",
      "__________________________________________________________________________________________________\n",
      "block7a_se_reshape (Reshape)    (None, 1, 1, 2304)   0           block7a_se_squeeze[0][0]         \n",
      "__________________________________________________________________________________________________\n",
      "block7a_se_reduce (Conv2D)      (None, 1, 1, 96)     221280      block7a_se_reshape[0][0]         \n",
      "__________________________________________________________________________________________________\n",
      "block7a_se_expand (Conv2D)      (None, 1, 1, 2304)   223488      block7a_se_reduce[0][0]          \n",
      "__________________________________________________________________________________________________\n",
      "block7a_se_excite (Multiply)    (None, 8, 8, 2304)   0           block7a_activation[0][0]         \n",
      "                                                                 block7a_se_expand[0][0]          \n",
      "__________________________________________________________________________________________________\n",
      "block7a_project_conv (Conv2D)   (None, 8, 8, 640)    1474560     block7a_se_excite[0][0]          \n",
      "__________________________________________________________________________________________________\n",
      "block7a_project_bn (BatchNormal (None, 8, 8, 640)    2560        block7a_project_conv[0][0]       \n",
      "__________________________________________________________________________________________________\n",
      "block7b_expand_conv (Conv2D)    (None, 8, 8, 3840)   2457600     block7a_project_bn[0][0]         \n",
      "__________________________________________________________________________________________________\n",
      "block7b_expand_bn (BatchNormali (None, 8, 8, 3840)   15360       block7b_expand_conv[0][0]        \n",
      "__________________________________________________________________________________________________\n",
      "block7b_expand_activation (Acti (None, 8, 8, 3840)   0           block7b_expand_bn[0][0]          \n",
      "__________________________________________________________________________________________________\n",
      "block7b_dwconv (DepthwiseConv2D (None, 8, 8, 3840)   34560       block7b_expand_activation[0][0]  \n",
      "__________________________________________________________________________________________________\n",
      "block7b_bn (BatchNormalization) (None, 8, 8, 3840)   15360       block7b_dwconv[0][0]             \n",
      "__________________________________________________________________________________________________\n",
      "block7b_activation (Activation) (None, 8, 8, 3840)   0           block7b_bn[0][0]                 \n",
      "__________________________________________________________________________________________________\n",
      "block7b_se_squeeze (GlobalAvera (None, 3840)         0           block7b_activation[0][0]         \n",
      "__________________________________________________________________________________________________\n",
      "block7b_se_reshape (Reshape)    (None, 1, 1, 3840)   0           block7b_se_squeeze[0][0]         \n",
      "__________________________________________________________________________________________________\n",
      "block7b_se_reduce (Conv2D)      (None, 1, 1, 160)    614560      block7b_se_reshape[0][0]         \n",
      "__________________________________________________________________________________________________\n",
      "block7b_se_expand (Conv2D)      (None, 1, 1, 3840)   618240      block7b_se_reduce[0][0]          \n",
      "__________________________________________________________________________________________________\n",
      "block7b_se_excite (Multiply)    (None, 8, 8, 3840)   0           block7b_activation[0][0]         \n",
      "                                                                 block7b_se_expand[0][0]          \n",
      "__________________________________________________________________________________________________\n",
      "block7b_project_conv (Conv2D)   (None, 8, 8, 640)    2457600     block7b_se_excite[0][0]          \n",
      "__________________________________________________________________________________________________\n",
      "block7b_project_bn (BatchNormal (None, 8, 8, 640)    2560        block7b_project_conv[0][0]       \n",
      "__________________________________________________________________________________________________\n",
      "block7b_drop (FixedDropout)     (None, 8, 8, 640)    0           block7b_project_bn[0][0]         \n",
      "__________________________________________________________________________________________________\n",
      "block7b_add (Add)               (None, 8, 8, 640)    0           block7b_drop[0][0]               \n",
      "                                                                 block7a_project_bn[0][0]         \n",
      "__________________________________________________________________________________________________\n",
      "block7c_expand_conv (Conv2D)    (None, 8, 8, 3840)   2457600     block7b_add[0][0]                \n",
      "__________________________________________________________________________________________________\n",
      "block7c_expand_bn (BatchNormali (None, 8, 8, 3840)   15360       block7c_expand_conv[0][0]        \n",
      "__________________________________________________________________________________________________\n",
      "block7c_expand_activation (Acti (None, 8, 8, 3840)   0           block7c_expand_bn[0][0]          \n",
      "__________________________________________________________________________________________________\n",
      "block7c_dwconv (DepthwiseConv2D (None, 8, 8, 3840)   34560       block7c_expand_activation[0][0]  \n",
      "__________________________________________________________________________________________________\n",
      "block7c_bn (BatchNormalization) (None, 8, 8, 3840)   15360       block7c_dwconv[0][0]             \n",
      "__________________________________________________________________________________________________\n",
      "block7c_activation (Activation) (None, 8, 8, 3840)   0           block7c_bn[0][0]                 \n",
      "__________________________________________________________________________________________________\n",
      "block7c_se_squeeze (GlobalAvera (None, 3840)         0           block7c_activation[0][0]         \n",
      "__________________________________________________________________________________________________\n",
      "block7c_se_reshape (Reshape)    (None, 1, 1, 3840)   0           block7c_se_squeeze[0][0]         \n",
      "__________________________________________________________________________________________________\n",
      "block7c_se_reduce (Conv2D)      (None, 1, 1, 160)    614560      block7c_se_reshape[0][0]         \n",
      "__________________________________________________________________________________________________\n",
      "block7c_se_expand (Conv2D)      (None, 1, 1, 3840)   618240      block7c_se_reduce[0][0]          \n",
      "__________________________________________________________________________________________________\n",
      "block7c_se_excite (Multiply)    (None, 8, 8, 3840)   0           block7c_activation[0][0]         \n",
      "                                                                 block7c_se_expand[0][0]          \n",
      "__________________________________________________________________________________________________\n",
      "block7c_project_conv (Conv2D)   (None, 8, 8, 640)    2457600     block7c_se_excite[0][0]          \n",
      "__________________________________________________________________________________________________\n",
      "block7c_project_bn (BatchNormal (None, 8, 8, 640)    2560        block7c_project_conv[0][0]       \n",
      "__________________________________________________________________________________________________\n",
      "block7c_drop (FixedDropout)     (None, 8, 8, 640)    0           block7c_project_bn[0][0]         \n",
      "__________________________________________________________________________________________________\n",
      "block7c_add (Add)               (None, 8, 8, 640)    0           block7c_drop[0][0]               \n",
      "                                                                 block7b_add[0][0]                \n",
      "__________________________________________________________________________________________________\n",
      "block7d_expand_conv (Conv2D)    (None, 8, 8, 3840)   2457600     block7c_add[0][0]                \n",
      "__________________________________________________________________________________________________\n",
      "block7d_expand_bn (BatchNormali (None, 8, 8, 3840)   15360       block7d_expand_conv[0][0]        \n",
      "__________________________________________________________________________________________________\n",
      "block7d_expand_activation (Acti (None, 8, 8, 3840)   0           block7d_expand_bn[0][0]          \n",
      "__________________________________________________________________________________________________\n",
      "block7d_dwconv (DepthwiseConv2D (None, 8, 8, 3840)   34560       block7d_expand_activation[0][0]  \n",
      "__________________________________________________________________________________________________\n",
      "block7d_bn (BatchNormalization) (None, 8, 8, 3840)   15360       block7d_dwconv[0][0]             \n",
      "__________________________________________________________________________________________________\n",
      "block7d_activation (Activation) (None, 8, 8, 3840)   0           block7d_bn[0][0]                 \n",
      "__________________________________________________________________________________________________\n",
      "block7d_se_squeeze (GlobalAvera (None, 3840)         0           block7d_activation[0][0]         \n",
      "__________________________________________________________________________________________________\n",
      "block7d_se_reshape (Reshape)    (None, 1, 1, 3840)   0           block7d_se_squeeze[0][0]         \n",
      "__________________________________________________________________________________________________\n",
      "block7d_se_reduce (Conv2D)      (None, 1, 1, 160)    614560      block7d_se_reshape[0][0]         \n",
      "__________________________________________________________________________________________________\n",
      "block7d_se_expand (Conv2D)      (None, 1, 1, 3840)   618240      block7d_se_reduce[0][0]          \n",
      "__________________________________________________________________________________________________\n",
      "block7d_se_excite (Multiply)    (None, 8, 8, 3840)   0           block7d_activation[0][0]         \n",
      "                                                                 block7d_se_expand[0][0]          \n",
      "__________________________________________________________________________________________________\n",
      "block7d_project_conv (Conv2D)   (None, 8, 8, 640)    2457600     block7d_se_excite[0][0]          \n",
      "__________________________________________________________________________________________________\n",
      "block7d_project_bn (BatchNormal (None, 8, 8, 640)    2560        block7d_project_conv[0][0]       \n",
      "__________________________________________________________________________________________________\n",
      "block7d_drop (FixedDropout)     (None, 8, 8, 640)    0           block7d_project_bn[0][0]         \n",
      "__________________________________________________________________________________________________\n",
      "block7d_add (Add)               (None, 8, 8, 640)    0           block7d_drop[0][0]               \n",
      "                                                                 block7c_add[0][0]                \n",
      "__________________________________________________________________________________________________\n",
      "top_conv (Conv2D)               (None, 8, 8, 2560)   1638400     block7d_add[0][0]                \n",
      "__________________________________________________________________________________________________\n",
      "top_bn (BatchNormalization)     (None, 8, 8, 2560)   10240       top_conv[0][0]                   \n",
      "__________________________________________________________________________________________________\n",
      "top_activation (Activation)     (None, 8, 8, 2560)   0           top_bn[0][0]                     \n",
      "==================================================================================================\n"
     ]
    },
    {
     "name": "stdout",
     "output_type": "stream",
     "text": [
      "Total params: 64,097,680\n",
      "Trainable params: 63,786,960\n",
      "Non-trainable params: 310,720\n",
      "__________________________________________________________________________________________________\n"
     ]
    }
   ],
   "source": [
    "base_model = efn.EfficientNetB7(\n",
    "    weights='imagenet',\n",
    "    include_top = False,\n",
    "    input_shape = (IMAGE_SIZE,IMAGE_SIZE) + (3,)\n",
    ")\n",
    "base_model.summary()"
   ]
  },
  {
   "cell_type": "code",
   "execution_count": 12,
   "metadata": {
    "id": "RtrTG2Cs1LrI"
   },
   "outputs": [],
   "source": [
    "from tensorflow.keras.regularizers import *\n",
    "\n",
    "LAMBDA_VAL = 0.001\n",
    "\n",
    "base_model.trainable = False\n",
    "model = Sequential()\n",
    "model.add(base_model)\n",
    "model.add(GlobalAveragePooling2D()) # Flatten??\n",
    "model.add(Dropout(0.3))\n",
    "model.add(Dense(64, activation='relu'))\n",
    "model.add(Dense(64, activation='relu', kernel_regularizer=L2(l2=LAMBDA_VAL)))\n",
    "model.add(Dense(1, activation='linear', kernel_regularizer=L2(l2=LAMBDA_VAL)))\n",
    "\n",
    "# Early Stopping\n",
    "es = EarlyStopping(monitor='val_loss',\n",
    "                   mode='auto',\n",
    "                   patience=5,\n",
    "                   verbose=1)\n",
    "\n",
    "# # Checkpoint\n",
    "# model_checkpoint = './{epoch:06d}-{val_acc:0.6f}-{acc:0.6f}.ckpt'\n",
    "\n",
    "# checkpointer = ModelCheckpoint(\n",
    "#     filepath=model_checkpoint,\n",
    "#     verbose=1,\n",
    "#     period=2,\n",
    "#     save_best_weights=True,\n",
    "#     mode='auto',\n",
    "#     monitor='val_acc'\n",
    "# )\n",
    "\n"
   ]
  },
  {
   "cell_type": "code",
   "execution_count": 13,
   "metadata": {
    "colab": {
     "base_uri": "https://localhost:8080/"
    },
    "executionInfo": {
     "elapsed": 764501,
     "status": "ok",
     "timestamp": 1652194500031,
     "user": {
      "displayName": "이희경",
      "userId": "11464043579838471612"
     },
     "user_tz": -540
    },
    "id": "vE1qYBhe6t2T",
    "outputId": "45409081-6038-4aa1-cc56-962c8f8412e7"
   },
   "outputs": [
    {
     "name": "stderr",
     "output_type": "stream",
     "text": [
      "2022-05-12 13:47:47.883828: W tensorflow/core/framework/cpu_allocator_impl.cc:80] Allocation of 1001127936 exceeds 10% of free system memory.\n"
     ]
    },
    {
     "name": "stdout",
     "output_type": "stream",
     "text": [
      "Epoch 1/30\n"
     ]
    },
    {
     "name": "stderr",
     "output_type": "stream",
     "text": [
      "2022-05-12 13:47:57.682693: I tensorflow/compiler/mlir/mlir_graph_optimization_pass.cc:116] None of the MLIR optimization passes are enabled (registered 2)\n",
      "2022-05-12 13:47:57.793973: I tensorflow/core/platform/profile_utils/cpu_utils.cc:112] CPU Frequency: 2499995000 Hz\n",
      "2022-05-12 13:47:59.986230: I tensorflow/stream_executor/platform/default/dso_loader.cc:49] Successfully opened dynamic library libcublas.so.10\n",
      "2022-05-12 13:48:00.656522: I tensorflow/stream_executor/platform/default/dso_loader.cc:49] Successfully opened dynamic library libcudnn.so.7\n"
     ]
    },
    {
     "name": "stdout",
     "output_type": "stream",
     "text": [
      "159/159 [==============================] - 41s 164ms/step - loss: 16461.9171 - mae: 79.5837 - val_loss: 10577.3906 - val_mae: 85.1330\n",
      "Epoch 2/30\n",
      "159/159 [==============================] - 23s 142ms/step - loss: 10490.0213 - mae: 77.6767 - val_loss: 10777.7363 - val_mae: 83.1735\n",
      "Epoch 3/30\n",
      "159/159 [==============================] - 23s 143ms/step - loss: 9355.2263 - mae: 72.2506 - val_loss: 11093.7695 - val_mae: 82.0462\n",
      "Epoch 4/30\n",
      "159/159 [==============================] - 23s 144ms/step - loss: 9129.7270 - mae: 70.2449 - val_loss: 11336.3467 - val_mae: 82.4709\n",
      "Epoch 5/30\n",
      "159/159 [==============================] - 23s 145ms/step - loss: 9071.3153 - mae: 70.0999 - val_loss: 11290.7822 - val_mae: 81.0342\n",
      "Epoch 6/30\n",
      "159/159 [==============================] - 23s 146ms/step - loss: 8719.5180 - mae: 69.0777 - val_loss: 11388.2803 - val_mae: 79.2351\n",
      "Epoch 7/30\n",
      "159/159 [==============================] - 23s 147ms/step - loss: 8196.7672 - mae: 66.2978 - val_loss: 11434.2500 - val_mae: 79.2660\n",
      "Epoch 8/30\n",
      "159/159 [==============================] - 23s 147ms/step - loss: 8556.8658 - mae: 67.6220 - val_loss: 11574.0459 - val_mae: 80.0517\n",
      "Epoch 9/30\n",
      "159/159 [==============================] - 24s 148ms/step - loss: 8391.2563 - mae: 66.4333 - val_loss: 11528.7070 - val_mae: 78.2598\n",
      "Epoch 10/30\n",
      "159/159 [==============================] - 23s 148ms/step - loss: 8207.2072 - mae: 66.5297 - val_loss: 11267.1279 - val_mae: 76.6527\n",
      "Epoch 11/30\n",
      "159/159 [==============================] - 23s 147ms/step - loss: 8359.7761 - mae: 66.5886 - val_loss: 11320.2520 - val_mae: 77.9791\n",
      "Epoch 12/30\n",
      "159/159 [==============================] - 23s 147ms/step - loss: 7950.6352 - mae: 64.6128 - val_loss: 11438.6465 - val_mae: 77.8385\n",
      "Epoch 13/30\n",
      "159/159 [==============================] - 23s 147ms/step - loss: 8210.8865 - mae: 66.2555 - val_loss: 11481.7705 - val_mae: 78.1325\n",
      "Epoch 14/30\n",
      "159/159 [==============================] - 23s 147ms/step - loss: 8391.5183 - mae: 66.7092 - val_loss: 11296.3584 - val_mae: 78.1286\n",
      "Epoch 15/30\n",
      "159/159 [==============================] - 23s 147ms/step - loss: 8202.2335 - mae: 66.0674 - val_loss: 11240.8115 - val_mae: 77.1858\n",
      "Epoch 16/30\n",
      "159/159 [==============================] - 23s 145ms/step - loss: 8261.3385 - mae: 66.0765 - val_loss: 11367.7227 - val_mae: 78.2504\n",
      "Epoch 17/30\n",
      "159/159 [==============================] - 23s 143ms/step - loss: 7867.4159 - mae: 65.1333 - val_loss: 11341.8057 - val_mae: 77.4337\n",
      "Epoch 18/30\n",
      "159/159 [==============================] - 23s 143ms/step - loss: 8286.6807 - mae: 66.0768 - val_loss: 11097.5566 - val_mae: 76.3411\n",
      "Epoch 19/30\n",
      "159/159 [==============================] - 23s 142ms/step - loss: 8225.5378 - mae: 65.9482 - val_loss: 11244.6035 - val_mae: 77.3597\n",
      "Epoch 20/30\n",
      "159/159 [==============================] - 23s 142ms/step - loss: 8252.6418 - mae: 65.9788 - val_loss: 11165.6367 - val_mae: 76.1033\n",
      "Epoch 21/30\n",
      "159/159 [==============================] - 23s 143ms/step - loss: 8060.6770 - mae: 65.9972 - val_loss: 11225.6553 - val_mae: 76.2976\n",
      "Epoch 22/30\n",
      "159/159 [==============================] - 23s 142ms/step - loss: 8127.7985 - mae: 65.9782 - val_loss: 11291.5996 - val_mae: 77.3365\n",
      "Epoch 23/30\n",
      "159/159 [==============================] - 23s 143ms/step - loss: 8138.1827 - mae: 66.7160 - val_loss: 11215.7861 - val_mae: 77.0898\n",
      "Epoch 24/30\n",
      "159/159 [==============================] - 23s 143ms/step - loss: 7581.1732 - mae: 63.9083 - val_loss: 11247.5596 - val_mae: 78.1307\n",
      "Epoch 25/30\n",
      "159/159 [==============================] - 23s 143ms/step - loss: 7976.0211 - mae: 65.1571 - val_loss: 11045.6611 - val_mae: 75.8873\n",
      "Epoch 26/30\n",
      "159/159 [==============================] - 23s 144ms/step - loss: 7982.7129 - mae: 65.7026 - val_loss: 11080.4131 - val_mae: 76.5598\n",
      "Epoch 27/30\n",
      "159/159 [==============================] - 23s 145ms/step - loss: 8090.7770 - mae: 65.9972 - val_loss: 10978.8057 - val_mae: 76.4620\n",
      "Epoch 28/30\n",
      "159/159 [==============================] - 23s 145ms/step - loss: 7714.9143 - mae: 64.6465 - val_loss: 11049.3457 - val_mae: 75.4348\n",
      "Epoch 29/30\n",
      "159/159 [==============================] - 23s 146ms/step - loss: 7819.7912 - mae: 64.7891 - val_loss: 11135.7256 - val_mae: 76.2286\n",
      "Epoch 30/30\n",
      "159/159 [==============================] - 23s 144ms/step - loss: 7729.8050 - mae: 64.5773 - val_loss: 11011.6279 - val_mae: 76.4928\n"
     ]
    }
   ],
   "source": [
    "model.compile(optimizer=Adam(learning_rate=LEARNING_RATE),\n",
    "              loss='mse',\n",
    "              metrics=['mae'])\n",
    "\n",
    "\n",
    "EPOCHS = 30\n",
    "STEPS_PER_EPOCH = len(train_img_path) // BATCH_SIZE\n",
    "VAL_STEPS = len(vali_img_path) // BATCH_SIZE\n",
    "\n",
    "history = model.fit(train_dataset, epochs=EPOCHS,\n",
    "                    steps_per_epoch=STEPS_PER_EPOCH,\n",
    "                    validation_data=valid_dataset,\n",
    "                    validation_steps = VAL_STEPS,\n",
    "                    # callbacks=[es, checkpointer],\n",
    "                    verbose=1)\n",
    "\n",
    "model.save('./pretrained_model.h5')"
   ]
  },
  {
   "cell_type": "code",
   "execution_count": 14,
   "metadata": {
    "colab": {
     "base_uri": "https://localhost:8080/",
     "height": 517
    },
    "executionInfo": {
     "elapsed": 468,
     "status": "ok",
     "timestamp": 1652194500491,
     "user": {
      "displayName": "이희경",
      "userId": "11464043579838471612"
     },
     "user_tz": -540
    },
    "id": "h6XHAc7WY2sk",
    "outputId": "13f15cfe-b2f4-4c5f-a65e-1e36c3f098d4"
   },
   "outputs": [
    {
     "data": {
      "text/plain": [
       "Text(0.5, 1.0, 'Training and Validation MAE')"
      ]
     },
     "execution_count": 14,
     "metadata": {},
     "output_type": "execute_result"
    },
    {
     "data": {
      "image/png": "[encoded data removed]",
      "text/plain": [
       "<Figure size 576x576 with 1 Axes>"
      ]
     },
     "metadata": {
      "needs_background": "light"
     },
     "output_type": "display_data"
    }
   ],
   "source": [
    "plt.figure(figsize=(8, 8))\n",
    "plt.plot(history.history['mae'], label='Training MAE')\n",
    "plt.plot(history.history['val_mae'], label='Validation MAE')\n",
    "plt.legend(loc='lower right')\n",
    "plt.title('Training and Validation MAE')"
   ]
  },
  {
   "cell_type": "markdown",
   "metadata": {
    "id": "BsMzqCTovxBs"
   },
   "source": [
    "### finetune"
   ]
  },
  {
   "cell_type": "code",
   "execution_count": 15,
   "metadata": {
    "colab": {
     "base_uri": "https://localhost:8080/"
    },
    "executionInfo": {
     "elapsed": 4,
     "status": "ok",
     "timestamp": 1652194911694,
     "user": {
      "displayName": "이희경",
      "userId": "11464043579838471612"
     },
     "user_tz": -540
    },
    "id": "QjYIazSLZYj6",
    "outputId": "c44e848d-45a0-4a15-af1b-abd4004d79e4"
   },
   "outputs": [
    {
     "name": "stdout",
     "output_type": "stream",
     "text": [
      "Number of layers in the base model:  806\n"
     ]
    }
   ],
   "source": [
    "base_model.trainable=False\n",
    "print(\"Number of layers in the base model: \", len(base_model.layers))"
   ]
  },
  {
   "cell_type": "code",
   "execution_count": 16,
   "metadata": {
    "id": "ESJdK9r8eVaK"
   },
   "outputs": [],
   "source": [
    "fine_tune_at= int(len(base_model.layers)*0.9)\n",
    "\n",
    "for i, layer in enumerate(base_model.layers[:fine_tune_at]):\n",
    "    if 'bn' not in layer.name :\n",
    "        layer.trainable = True"
   ]
  },
  {
   "cell_type": "code",
   "execution_count": 17,
   "metadata": {
    "id": "_lmDD2v1aY5D"
   },
   "outputs": [],
   "source": [
    "model.compile(optimizer=Adam(learning_rate=LEARNING_RATE/10),\n",
    "              loss='mse',\n",
    "              metrics=['mae'])"
   ]
  },
  {
   "cell_type": "code",
   "execution_count": 18,
   "metadata": {
    "colab": {
     "base_uri": "https://localhost:8080/"
    },
    "executionInfo": {
     "elapsed": 554882,
     "status": "ok",
     "timestamp": 1652195774231,
     "user": {
      "displayName": "이희경",
      "userId": "11464043579838471612"
     },
     "user_tz": -540
    },
    "id": "yVPOkouffcr_",
    "outputId": "7db383a3-2106-42b0-e62c-255e8c93fcec"
   },
   "outputs": [
    {
     "name": "stderr",
     "output_type": "stream",
     "text": [
      "2022-05-12 13:59:50.587087: W tensorflow/core/framework/cpu_allocator_impl.cc:80] Allocation of 1001127936 exceeds 10% of free system memory.\n"
     ]
    },
    {
     "name": "stdout",
     "output_type": "stream",
     "text": [
      "Epoch 1/30\n",
      "159/159 [==============================] - 37s 166ms/step - loss: 7807.9445 - mae: 66.2537 - val_loss: 10971.2168 - val_mae: 75.6847\n",
      "Epoch 2/30\n",
      "159/159 [==============================] - 23s 143ms/step - loss: 7790.0269 - mae: 65.0583 - val_loss: 10973.8682 - val_mae: 75.3220\n",
      "Epoch 3/30\n",
      "159/159 [==============================] - 23s 143ms/step - loss: 7788.4198 - mae: 64.8038 - val_loss: 10936.4209 - val_mae: 74.9910\n",
      "Epoch 4/30\n",
      "159/159 [==============================] - 23s 143ms/step - loss: 7524.6804 - mae: 63.9426 - val_loss: 10922.8594 - val_mae: 74.7581\n",
      "Epoch 5/30\n",
      "159/159 [==============================] - 23s 144ms/step - loss: 7589.8665 - mae: 63.5393 - val_loss: 10927.8135 - val_mae: 74.5087\n",
      "Epoch 6/30\n",
      "159/159 [==============================] - 23s 144ms/step - loss: 7599.4926 - mae: 63.3629 - val_loss: 10914.5684 - val_mae: 74.3883\n",
      "Epoch 7/30\n",
      "159/159 [==============================] - 23s 144ms/step - loss: 8072.6706 - mae: 65.0690 - val_loss: 10903.8545 - val_mae: 74.5155\n",
      "Epoch 8/30\n",
      "159/159 [==============================] - 23s 145ms/step - loss: 7744.2905 - mae: 64.0806 - val_loss: 10921.4170 - val_mae: 74.7402\n",
      "Epoch 9/30\n",
      "159/159 [==============================] - 23s 145ms/step - loss: 7687.2547 - mae: 64.8467 - val_loss: 10916.3086 - val_mae: 74.7969\n",
      "Epoch 10/30\n",
      "159/159 [==============================] - 23s 146ms/step - loss: 7719.2417 - mae: 64.6450 - val_loss: 10927.3779 - val_mae: 74.9995\n",
      "Epoch 11/30\n",
      "159/159 [==============================] - 23s 145ms/step - loss: 7492.1848 - mae: 63.4205 - val_loss: 10935.5459 - val_mae: 74.8346\n",
      "Epoch 12/30\n",
      "159/159 [==============================] - 23s 144ms/step - loss: 8147.5568 - mae: 65.5641 - val_loss: 10928.2080 - val_mae: 74.6483\n",
      "Epoch 13/30\n",
      "159/159 [==============================] - 23s 143ms/step - loss: 7892.8412 - mae: 64.2750 - val_loss: 10941.8574 - val_mae: 74.9411\n",
      "Epoch 14/30\n",
      "159/159 [==============================] - 23s 143ms/step - loss: 7725.3156 - mae: 63.4120 - val_loss: 10950.3291 - val_mae: 75.1703\n",
      "Epoch 15/30\n",
      "159/159 [==============================] - 23s 143ms/step - loss: 7494.5324 - mae: 62.9904 - val_loss: 10960.7031 - val_mae: 75.1006\n",
      "Epoch 16/30\n",
      "159/159 [==============================] - 23s 143ms/step - loss: 7387.8459 - mae: 62.2387 - val_loss: 10941.5557 - val_mae: 74.6918\n",
      "Epoch 17/30\n",
      "159/159 [==============================] - 23s 144ms/step - loss: 7573.0030 - mae: 62.4087 - val_loss: 10951.4824 - val_mae: 74.6915\n",
      "Epoch 18/30\n",
      "159/159 [==============================] - 23s 144ms/step - loss: 7558.7322 - mae: 62.9174 - val_loss: 10952.3672 - val_mae: 74.6866\n",
      "Epoch 19/30\n",
      "159/159 [==============================] - 23s 144ms/step - loss: 7615.8579 - mae: 63.4086 - val_loss: 10957.6924 - val_mae: 74.3365\n",
      "Epoch 20/30\n",
      "159/159 [==============================] - 23s 144ms/step - loss: 8111.6307 - mae: 65.6908 - val_loss: 10967.6631 - val_mae: 74.5362\n",
      "Epoch 21/30\n",
      "159/159 [==============================] - 23s 145ms/step - loss: 7676.8061 - mae: 63.2655 - val_loss: 10978.5088 - val_mae: 74.6990\n",
      "Epoch 22/30\n",
      "159/159 [==============================] - 23s 145ms/step - loss: 7727.1249 - mae: 63.8391 - val_loss: 10942.5117 - val_mae: 74.6272\n",
      "Epoch 23/30\n",
      "159/159 [==============================] - 23s 146ms/step - loss: 8021.5835 - mae: 65.0132 - val_loss: 10941.0918 - val_mae: 74.8122\n",
      "Epoch 24/30\n",
      "159/159 [==============================] - 23s 147ms/step - loss: 7801.5137 - mae: 63.9538 - val_loss: 10922.7236 - val_mae: 74.8928\n",
      "Epoch 25/30\n",
      "159/159 [==============================] - 23s 148ms/step - loss: 7521.4224 - mae: 63.6074 - val_loss: 10919.1504 - val_mae: 74.9971\n",
      "Epoch 26/30\n",
      "159/159 [==============================] - 24s 148ms/step - loss: 7956.2024 - mae: 63.9689 - val_loss: 10898.6738 - val_mae: 74.9202\n",
      "Epoch 27/30\n",
      "159/159 [==============================] - 24s 149ms/step - loss: 7744.4987 - mae: 64.9351 - val_loss: 10896.2793 - val_mae: 74.9031\n",
      "Epoch 28/30\n",
      "159/159 [==============================] - 24s 149ms/step - loss: 7943.1197 - mae: 64.2517 - val_loss: 10877.3398 - val_mae: 74.9597\n",
      "Epoch 29/30\n",
      "159/159 [==============================] - 24s 148ms/step - loss: 7539.8369 - mae: 63.1066 - val_loss: 10873.1289 - val_mae: 74.9934\n",
      "Epoch 30/30\n",
      "159/159 [==============================] - 23s 148ms/step - loss: 7644.8926 - mae: 64.0877 - val_loss: 10868.3447 - val_mae: 74.8796\n"
     ]
    }
   ],
   "source": [
    "FINE_TUNE_EPOCHS = 30 \n",
    "history = model.fit(train_dataset, epochs=FINE_TUNE_EPOCHS,\n",
    "                    steps_per_epoch=STEPS_PER_EPOCH,\n",
    "                    validation_data=valid_dataset,\n",
    "                    validation_steps = VAL_STEPS,\n",
    "                    # callbacks=[es, checkpointer],\n",
    "                    verbose=1)\n",
    "\n",
    "model.save('./fine_tuned_model.h5')"
   ]
  },
  {
   "cell_type": "code",
   "execution_count": 19,
   "metadata": {
    "colab": {
     "base_uri": "https://localhost:8080/",
     "height": 517
    },
    "executionInfo": {
     "elapsed": 368,
     "status": "ok",
     "timestamp": 1652195774600,
     "user": {
      "displayName": "이희경",
      "userId": "11464043579838471612"
     },
     "user_tz": -540
    },
    "id": "5mGBBSJsfx2s",
    "outputId": "8e8ee162-e7ca-4a11-ee26-6957f6cbb0af"
   },
   "outputs": [
    {
     "data": {
      "text/plain": [
       "Text(0.5, 1.0, 'Training and Validation MAE')"
      ]
     },
     "execution_count": 19,
     "metadata": {},
     "output_type": "execute_result"
    },
    {
     "data": {
      "image/png": "[encoded data removed]",
      "text/plain": [
       "<Figure size 576x576 with 1 Axes>"
      ]
     },
     "metadata": {
      "needs_background": "light"
     },
     "output_type": "display_data"
    }
   ],
   "source": [
    "plt.figure(figsize=(8, 8))\n",
    "plt.plot(history.history['mae'], label='Training MAE')\n",
    "plt.plot(history.history['val_mae'], label='Validation MAE')\n",
    "plt.legend(loc='lower right')\n",
    "plt.title('Training and Validation MAE')"
   ]
  },
  {
   "cell_type": "code",
   "execution_count": 20,
   "metadata": {
    "colab": {
     "base_uri": "https://localhost:8080/"
    },
    "executionInfo": {
     "elapsed": 743779,
     "status": "ok",
     "timestamp": 1652196582786,
     "user": {
      "displayName": "이희경",
      "userId": "11464043579838471612"
     },
     "user_tz": -540
    },
    "id": "oLonbW2ii0SW",
    "outputId": "06d3ed4b-1a21-486b-c7c2-9acdbe9d88f9"
   },
   "outputs": [
    {
     "name": "stderr",
     "output_type": "stream",
     "text": [
      "2022-05-12 14:12:02.626018: W tensorflow/core/framework/cpu_allocator_impl.cc:80] Allocation of 1001127936 exceeds 10% of free system memory.\n"
     ]
    },
    {
     "name": "stdout",
     "output_type": "stream",
     "text": [
      "Epoch 1/30\n",
      "159/159 [==============================] - 23s 146ms/step - loss: 7870.1846 - mae: 64.4565 - val_loss: 10866.8994 - val_mae: 74.9266\n",
      "Epoch 2/30\n",
      "159/159 [==============================] - 23s 146ms/step - loss: 7772.8735 - mae: 64.1078 - val_loss: 10866.7910 - val_mae: 74.9506\n",
      "Epoch 3/30\n",
      "159/159 [==============================] - 23s 147ms/step - loss: 7867.5039 - mae: 64.5466 - val_loss: 10863.2188 - val_mae: 74.8136\n",
      "Epoch 4/30\n",
      "159/159 [==============================] - 23s 147ms/step - loss: 7908.0747 - mae: 64.7038 - val_loss: 10863.1934 - val_mae: 75.0355\n",
      "Epoch 5/30\n",
      "159/159 [==============================] - 23s 148ms/step - loss: 7844.8276 - mae: 64.7839 - val_loss: 10877.6846 - val_mae: 75.0760\n",
      "Epoch 6/30\n",
      "159/159 [==============================] - 24s 148ms/step - loss: 7782.2539 - mae: 64.2035 - val_loss: 10860.4736 - val_mae: 74.9535\n",
      "Epoch 7/30\n",
      "159/159 [==============================] - 23s 147ms/step - loss: 7745.9780 - mae: 64.4725 - val_loss: 10863.0146 - val_mae: 74.9463\n",
      "Epoch 8/30\n",
      "159/159 [==============================] - 23s 147ms/step - loss: 7751.9072 - mae: 64.4718 - val_loss: 10832.8379 - val_mae: 74.6908\n",
      "Epoch 9/30\n",
      "159/159 [==============================] - 23s 148ms/step - loss: 7828.7476 - mae: 64.6326 - val_loss: 10822.4395 - val_mae: 74.6609\n",
      "Epoch 10/30\n",
      "159/159 [==============================] - 23s 148ms/step - loss: 7772.2695 - mae: 64.4017 - val_loss: 10838.4795 - val_mae: 74.8355\n",
      "Epoch 11/30\n",
      "159/159 [==============================] - 23s 148ms/step - loss: 7980.4907 - mae: 65.6807 - val_loss: 10801.1670 - val_mae: 74.6114\n",
      "Epoch 12/30\n",
      "159/159 [==============================] - 23s 148ms/step - loss: 7770.9844 - mae: 64.4668 - val_loss: 10806.5098 - val_mae: 74.5664\n",
      "Epoch 13/30\n",
      "159/159 [==============================] - 23s 148ms/step - loss: 7827.1650 - mae: 64.9278 - val_loss: 10812.1943 - val_mae: 74.7318\n",
      "Epoch 14/30\n",
      "159/159 [==============================] - 23s 148ms/step - loss: 7741.1943 - mae: 64.2774 - val_loss: 10812.2168 - val_mae: 74.7144\n",
      "Epoch 15/30\n",
      "159/159 [==============================] - 23s 148ms/step - loss: 7857.0166 - mae: 64.3140 - val_loss: 10801.3955 - val_mae: 74.4869\n",
      "Epoch 16/30\n",
      "159/159 [==============================] - 23s 147ms/step - loss: 7848.1138 - mae: 64.8275 - val_loss: 10804.8545 - val_mae: 74.7992\n",
      "Epoch 17/30\n",
      "159/159 [==============================] - 23s 144ms/step - loss: 7795.0815 - mae: 64.6083 - val_loss: 10818.8369 - val_mae: 74.6843\n",
      "Epoch 18/30\n",
      "159/159 [==============================] - 23s 144ms/step - loss: 7941.7563 - mae: 65.0151 - val_loss: 10822.4805 - val_mae: 74.5493\n",
      "Epoch 19/30\n",
      "159/159 [==============================] - 23s 143ms/step - loss: 7843.1133 - mae: 64.4684 - val_loss: 10818.1045 - val_mae: 74.6928\n",
      "Epoch 20/30\n",
      "159/159 [==============================] - 23s 143ms/step - loss: 7901.6543 - mae: 64.6968 - val_loss: 10809.0605 - val_mae: 74.8018\n",
      "Epoch 21/30\n",
      "159/159 [==============================] - 23s 144ms/step - loss: 7860.0542 - mae: 64.6437 - val_loss: 10812.2900 - val_mae: 74.7473\n",
      "Epoch 22/30\n",
      "159/159 [==============================] - 23s 143ms/step - loss: 7957.7993 - mae: 65.2987 - val_loss: 10806.8613 - val_mae: 74.8881\n",
      "Epoch 23/30\n",
      "159/159 [==============================] - 23s 144ms/step - loss: 7811.0010 - mae: 64.5292 - val_loss: 10819.7666 - val_mae: 74.8737\n",
      "Epoch 24/30\n",
      "159/159 [==============================] - 23s 144ms/step - loss: 7814.8545 - mae: 64.4241 - val_loss: 10804.9482 - val_mae: 74.9574\n",
      "Epoch 25/30\n",
      "159/159 [==============================] - 23s 145ms/step - loss: 7540.6782 - mae: 63.3249 - val_loss: 10793.9785 - val_mae: 74.9569\n",
      "Epoch 26/30\n",
      "159/159 [==============================] - 23s 145ms/step - loss: 7831.5674 - mae: 64.7772 - val_loss: 10767.4688 - val_mae: 74.6546\n",
      "Epoch 27/30\n",
      "159/159 [==============================] - 23s 145ms/step - loss: 7743.5088 - mae: 63.9719 - val_loss: 10765.1670 - val_mae: 74.9237\n",
      "Epoch 28/30\n",
      "159/159 [==============================] - 23s 144ms/step - loss: 7907.5776 - mae: 65.1377 - val_loss: 10755.0859 - val_mae: 74.8333\n",
      "Epoch 29/30\n",
      "159/159 [==============================] - 23s 144ms/step - loss: 7843.1880 - mae: 64.9878 - val_loss: 10753.5898 - val_mae: 74.5982\n",
      "Epoch 30/30\n",
      "159/159 [==============================] - 23s 144ms/step - loss: 7515.1572 - mae: 63.5309 - val_loss: 10805.4941 - val_mae: 75.0980\n"
     ]
    }
   ],
   "source": [
    "history = model.fit(train_dataset, epochs=30,\n",
    "                    steps_per_epoch=STEPS_PER_EPOCH,\n",
    "                    validation_data=valid_dataset,\n",
    "                    validation_steps = VAL_STEPS,\n",
    "                    # callbacks=[es, checkpointer],\n",
    "                    verbose=1)\n",
    "\n",
    "model.save('./fine_tuned_model_continue.h5')"
   ]
  },
  {
   "cell_type": "markdown",
   "metadata": {
    "id": "R1zLpoBDdieh"
   },
   "source": [
    "---\n",
    "## 규제없는 모델 \n",
    "&\n",
    "loss = mae"
   ]
  },
  {
   "cell_type": "code",
   "execution_count": 21,
   "metadata": {
    "id": "A62hJDjYdlpJ"
   },
   "outputs": [],
   "source": [
    "base_model.trainable = False\n",
    "model2 = Sequential()\n",
    "model2.add(base_model)\n",
    "model2.add(GlobalAveragePooling2D())\n",
    "model2.add(Dropout(0.3))\n",
    "model2.add(Dense(64, activation='relu'))\n",
    "model2.add(Dense(64, activation='relu'))\n",
    "model2.add(Dense(1, activation='linear'))\n",
    "\n",
    "checkpoint_filepath = './no_regul_pretrain_best_model.h5'\n",
    "checkpointer = ModelCheckpoint(\n",
    "    filepath=checkpoint_filepath,\n",
    "    monitor='val_mae',\n",
    "    save_best_only=True,\n",
    "    verbose=1\n",
    ")\n",
    "\n",
    "model2.compile(optimizer=Adam(learning_rate=LEARNING_RATE),\n",
    "              loss='mae',\n",
    "              metrics=['mae'])"
   ]
  },
  {
   "cell_type": "code",
   "execution_count": 22,
   "metadata": {
    "colab": {
     "base_uri": "https://localhost:8080/"
    },
    "executionInfo": {
     "elapsed": 785981,
     "status": "ok",
     "timestamp": 1652197418205,
     "user": {
      "displayName": "이희경",
      "userId": "11464043579838471612"
     },
     "user_tz": -540
    },
    "id": "eRuzKbC_h_ee",
    "outputId": "62b593f2-aacb-43f6-cd24-985556831ed4"
   },
   "outputs": [
    {
     "name": "stderr",
     "output_type": "stream",
     "text": [
      "2022-05-12 14:23:59.270367: W tensorflow/core/framework/cpu_allocator_impl.cc:80] Allocation of 1001127936 exceeds 10% of free system memory.\n"
     ]
    },
    {
     "name": "stdout",
     "output_type": "stream",
     "text": [
      "Epoch 1/30\n",
      "159/159 [==============================] - 37s 165ms/step - loss: 79.9325 - mae: 79.9325 - val_loss: 69.6772 - val_mae: 69.6772\n",
      "\n",
      "Epoch 00001: val_mae improved from inf to 69.67717, saving model to ./no_regul_pretrain_best_model.h5\n",
      "Epoch 2/30\n",
      "159/159 [==============================] - 23s 144ms/step - loss: 71.9283 - mae: 71.9283 - val_loss: 69.0952 - val_mae: 69.0952\n",
      "\n",
      "Epoch 00002: val_mae improved from 69.67717 to 69.09523, saving model to ./no_regul_pretrain_best_model.h5\n",
      "Epoch 3/30\n",
      "159/159 [==============================] - 23s 144ms/step - loss: 70.1818 - mae: 70.1818 - val_loss: 68.4551 - val_mae: 68.4551\n",
      "\n",
      "Epoch 00003: val_mae improved from 69.09523 to 68.45509, saving model to ./no_regul_pretrain_best_model.h5\n",
      "Epoch 4/30\n",
      "159/159 [==============================] - 23s 145ms/step - loss: 68.0255 - mae: 68.0255 - val_loss: 68.0268 - val_mae: 68.0268\n",
      "\n",
      "Epoch 00004: val_mae improved from 68.45509 to 68.02678, saving model to ./no_regul_pretrain_best_model.h5\n",
      "Epoch 5/30\n",
      "159/159 [==============================] - 23s 145ms/step - loss: 66.5841 - mae: 66.5841 - val_loss: 68.2827 - val_mae: 68.2827\n",
      "\n",
      "Epoch 00005: val_mae did not improve from 68.02678\n",
      "Epoch 6/30\n",
      "159/159 [==============================] - 23s 146ms/step - loss: 65.2978 - mae: 65.2978 - val_loss: 68.7091 - val_mae: 68.7091\n",
      "\n",
      "Epoch 00006: val_mae did not improve from 68.02678\n",
      "Epoch 7/30\n",
      "159/159 [==============================] - 23s 147ms/step - loss: 63.3406 - mae: 63.3406 - val_loss: 69.2040 - val_mae: 69.2040\n",
      "\n",
      "Epoch 00007: val_mae did not improve from 68.02678\n",
      "Epoch 8/30\n",
      "159/159 [==============================] - 24s 148ms/step - loss: 63.2327 - mae: 63.2327 - val_loss: 69.4796 - val_mae: 69.4796\n",
      "\n",
      "Epoch 00008: val_mae did not improve from 68.02678\n",
      "Epoch 9/30\n",
      "159/159 [==============================] - 24s 148ms/step - loss: 62.1059 - mae: 62.1059 - val_loss: 69.1387 - val_mae: 69.1387\n",
      "\n",
      "Epoch 00009: val_mae did not improve from 68.02678\n",
      "Epoch 10/30\n",
      "159/159 [==============================] - 24s 149ms/step - loss: 62.0634 - mae: 62.0634 - val_loss: 68.8931 - val_mae: 68.8931\n",
      "\n",
      "Epoch 00010: val_mae did not improve from 68.02678\n",
      "Epoch 11/30\n",
      "159/159 [==============================] - 24s 149ms/step - loss: 61.9628 - mae: 61.9628 - val_loss: 69.7738 - val_mae: 69.7738\n",
      "\n",
      "Epoch 00011: val_mae did not improve from 68.02678\n",
      "Epoch 12/30\n",
      "159/159 [==============================] - 24s 149ms/step - loss: 61.6087 - mae: 61.6087 - val_loss: 69.8892 - val_mae: 69.8892\n",
      "\n",
      "Epoch 00012: val_mae did not improve from 68.02678\n",
      "Epoch 13/30\n",
      "159/159 [==============================] - 24s 149ms/step - loss: 61.4479 - mae: 61.4479 - val_loss: 69.1093 - val_mae: 69.1093\n",
      "\n",
      "Epoch 00013: val_mae did not improve from 68.02678\n",
      "Epoch 14/30\n",
      "159/159 [==============================] - 24s 149ms/step - loss: 62.6207 - mae: 62.6207 - val_loss: 68.6467 - val_mae: 68.6467\n",
      "\n",
      "Epoch 00014: val_mae did not improve from 68.02678\n",
      "Epoch 15/30\n",
      "159/159 [==============================] - 24s 149ms/step - loss: 61.7836 - mae: 61.7836 - val_loss: 69.2086 - val_mae: 69.2086\n",
      "\n",
      "Epoch 00015: val_mae did not improve from 68.02678\n",
      "Epoch 16/30\n",
      "159/159 [==============================] - 24s 148ms/step - loss: 60.5746 - mae: 60.5746 - val_loss: 68.2026 - val_mae: 68.2026\n",
      "\n",
      "Epoch 00016: val_mae did not improve from 68.02678\n",
      "Epoch 17/30\n",
      "159/159 [==============================] - 23s 148ms/step - loss: 59.7884 - mae: 59.7884 - val_loss: 68.6006 - val_mae: 68.6006\n",
      "\n",
      "Epoch 00017: val_mae did not improve from 68.02678\n",
      "Epoch 18/30\n",
      "159/159 [==============================] - 23s 148ms/step - loss: 59.1882 - mae: 59.1882 - val_loss: 69.0630 - val_mae: 69.0630\n",
      "\n",
      "Epoch 00018: val_mae did not improve from 68.02678\n",
      "Epoch 19/30\n",
      "159/159 [==============================] - 24s 148ms/step - loss: 60.0203 - mae: 60.0203 - val_loss: 68.6146 - val_mae: 68.6146\n",
      "\n",
      "Epoch 00019: val_mae did not improve from 68.02678\n",
      "Epoch 20/30\n",
      "159/159 [==============================] - 24s 149ms/step - loss: 59.9578 - mae: 59.9578 - val_loss: 69.2442 - val_mae: 69.2442\n",
      "\n",
      "Epoch 00020: val_mae did not improve from 68.02678\n",
      "Epoch 21/30\n",
      "159/159 [==============================] - 24s 149ms/step - loss: 58.3408 - mae: 58.3408 - val_loss: 68.8280 - val_mae: 68.8280\n",
      "\n",
      "Epoch 00021: val_mae did not improve from 68.02678\n",
      "Epoch 22/30\n",
      "159/159 [==============================] - 24s 148ms/step - loss: 58.4612 - mae: 58.4612 - val_loss: 68.6253 - val_mae: 68.6253\n",
      "\n",
      "Epoch 00022: val_mae did not improve from 68.02678\n",
      "Epoch 23/30\n",
      "159/159 [==============================] - 24s 148ms/step - loss: 61.4784 - mae: 61.4784 - val_loss: 68.6516 - val_mae: 68.6516\n",
      "\n",
      "Epoch 00023: val_mae did not improve from 68.02678\n",
      "Epoch 24/30\n",
      "159/159 [==============================] - 24s 148ms/step - loss: 60.1574 - mae: 60.1574 - val_loss: 69.2938 - val_mae: 69.2938\n",
      "\n",
      "Epoch 00024: val_mae did not improve from 68.02678\n",
      "Epoch 25/30\n",
      "159/159 [==============================] - 23s 147ms/step - loss: 59.2508 - mae: 59.2508 - val_loss: 69.9048 - val_mae: 69.9048\n",
      "\n",
      "Epoch 00025: val_mae did not improve from 68.02678\n",
      "Epoch 26/30\n",
      "159/159 [==============================] - 23s 144ms/step - loss: 58.8442 - mae: 58.8442 - val_loss: 68.4068 - val_mae: 68.4068\n",
      "\n",
      "Epoch 00026: val_mae did not improve from 68.02678\n",
      "Epoch 27/30\n",
      "159/159 [==============================] - 23s 144ms/step - loss: 58.3329 - mae: 58.3329 - val_loss: 69.1685 - val_mae: 69.1685\n",
      "\n",
      "Epoch 00027: val_mae did not improve from 68.02678\n",
      "Epoch 28/30\n",
      "159/159 [==============================] - 23s 144ms/step - loss: 58.9143 - mae: 58.9143 - val_loss: 67.9703 - val_mae: 67.9703\n",
      "\n",
      "Epoch 00028: val_mae improved from 68.02678 to 67.97029, saving model to ./no_regul_pretrain_best_model.h5\n",
      "Epoch 29/30\n",
      "159/159 [==============================] - 23s 144ms/step - loss: 59.1279 - mae: 59.1279 - val_loss: 68.5278 - val_mae: 68.5278\n",
      "\n",
      "Epoch 00029: val_mae did not improve from 67.97029\n",
      "Epoch 30/30\n",
      "159/159 [==============================] - 23s 144ms/step - loss: 61.1474 - mae: 61.1474 - val_loss: 68.6914 - val_mae: 68.6914\n",
      "\n",
      "Epoch 00030: val_mae did not improve from 67.97029\n"
     ]
    }
   ],
   "source": [
    "history2 = model2.fit(train_dataset, epochs=EPOCHS,\n",
    "                    steps_per_epoch=STEPS_PER_EPOCH,\n",
    "                    validation_data=valid_dataset,\n",
    "                    validation_steps = VAL_STEPS,\n",
    "                    callbacks=[checkpointer],\n",
    "                    verbose=1)"
   ]
  },
  {
   "cell_type": "code",
   "execution_count": 23,
   "metadata": {
    "colab": {
     "base_uri": "https://localhost:8080/",
     "height": 517
    },
    "executionInfo": {
     "elapsed": 408,
     "status": "ok",
     "timestamp": 1652197418607,
     "user": {
      "displayName": "이희경",
      "userId": "11464043579838471612"
     },
     "user_tz": -540
    },
    "id": "UOvk47MYiHIB",
    "outputId": "14da2ed9-eeb4-4afa-8894-b0c63931cc8e"
   },
   "outputs": [
    {
     "data": {
      "text/plain": [
       "Text(0.5, 1.0, 'Training and Validation MAE')"
      ]
     },
     "execution_count": 23,
     "metadata": {},
     "output_type": "execute_result"
    },
    {
     "data": {
      "image/png": "[encoded data removed]",
      "text/plain": [
       "<Figure size 576x576 with 1 Axes>"
      ]
     },
     "metadata": {
      "needs_background": "light"
     },
     "output_type": "display_data"
    }
   ],
   "source": [
    "plt.figure(figsize=(8, 8))\n",
    "plt.plot(history2.history['mae'], label='Training MAE')\n",
    "plt.plot(history2.history['val_mae'], label='Validation MAE')\n",
    "plt.legend(loc='lower right')\n",
    "plt.title('Training and Validation MAE')"
   ]
  },
  {
   "cell_type": "markdown",
   "metadata": {
    "id": "-kZUjpk7vqq-"
   },
   "source": [
    "### finetune"
   ]
  },
  {
   "cell_type": "code",
   "execution_count": 24,
   "metadata": {
    "id": "--FGYUSgiM8B"
   },
   "outputs": [],
   "source": [
    "for i, layer in enumerate(base_model.layers[:fine_tune_at]):\n",
    "    if 'bn' not in layer.name :\n",
    "        layer.trainable = True"
   ]
  },
  {
   "cell_type": "code",
   "execution_count": 25,
   "metadata": {
    "colab": {
     "base_uri": "https://localhost:8080/"
    },
    "executionInfo": {
     "elapsed": 785368,
     "status": "ok",
     "timestamp": 1652198203971,
     "user": {
      "displayName": "이희경",
      "userId": "11464043579838471612"
     },
     "user_tz": -540
    },
    "id": "7l4FFfUtiOQs",
    "outputId": "2979a22d-cd9d-4d6c-ac45-c58c5519275a"
   },
   "outputs": [
    {
     "name": "stdout",
     "output_type": "stream",
     "text": [
      "Epoch 1/30\n",
      "159/159 [==============================] - 37s 165ms/step - loss: 60.3100 - mae: 60.3100 - val_loss: 68.4491 - val_mae: 68.4491\n",
      "\n",
      "Epoch 00001: val_mae improved from inf to 68.44910, saving model to ./no_regul_finetune_best_model.h5\n",
      "Epoch 2/30\n",
      "159/159 [==============================] - 23s 144ms/step - loss: 60.3934 - mae: 60.3934 - val_loss: 68.4046 - val_mae: 68.4046\n",
      "\n",
      "Epoch 00002: val_mae improved from 68.44910 to 68.40457, saving model to ./no_regul_finetune_best_model.h5\n",
      "Epoch 3/30\n",
      "159/159 [==============================] - 23s 144ms/step - loss: 60.2245 - mae: 60.2245 - val_loss: 68.4397 - val_mae: 68.4397\n",
      "\n",
      "Epoch 00003: val_mae did not improve from 68.40457\n",
      "Epoch 4/30\n",
      "159/159 [==============================] - 23s 144ms/step - loss: 59.3936 - mae: 59.3936 - val_loss: 68.5078 - val_mae: 68.5078\n",
      "\n",
      "Epoch 00004: val_mae did not improve from 68.40457\n",
      "Epoch 5/30\n",
      "159/159 [==============================] - 23s 144ms/step - loss: 59.0975 - mae: 59.0975 - val_loss: 68.4645 - val_mae: 68.4645\n",
      "\n",
      "Epoch 00005: val_mae did not improve from 68.40457\n",
      "Epoch 6/30\n",
      "159/159 [==============================] - 23s 144ms/step - loss: 59.4842 - mae: 59.4842 - val_loss: 68.4558 - val_mae: 68.4558\n",
      "\n",
      "Epoch 00006: val_mae did not improve from 68.40457\n",
      "Epoch 7/30\n",
      "159/159 [==============================] - 23s 144ms/step - loss: 59.7258 - mae: 59.7258 - val_loss: 68.4770 - val_mae: 68.4770\n",
      "\n",
      "Epoch 00007: val_mae did not improve from 68.40457\n",
      "Epoch 8/30\n",
      "159/159 [==============================] - 23s 144ms/step - loss: 59.0038 - mae: 59.0038 - val_loss: 68.4594 - val_mae: 68.4594\n",
      "\n",
      "Epoch 00008: val_mae did not improve from 68.40457\n",
      "Epoch 9/30\n",
      "159/159 [==============================] - 23s 144ms/step - loss: 58.5199 - mae: 58.5199 - val_loss: 68.4480 - val_mae: 68.4480\n",
      "\n",
      "Epoch 00009: val_mae did not improve from 68.40457\n",
      "Epoch 10/30\n",
      "159/159 [==============================] - 23s 144ms/step - loss: 59.3597 - mae: 59.3597 - val_loss: 68.3885 - val_mae: 68.3885\n",
      "\n",
      "Epoch 00010: val_mae improved from 68.40457 to 68.38848, saving model to ./no_regul_finetune_best_model.h5\n",
      "Epoch 11/30\n",
      "159/159 [==============================] - 23s 144ms/step - loss: 58.9005 - mae: 58.9005 - val_loss: 68.2392 - val_mae: 68.2392\n",
      "\n",
      "Epoch 00011: val_mae improved from 68.38848 to 68.23917, saving model to ./no_regul_finetune_best_model.h5\n",
      "Epoch 12/30\n",
      "159/159 [==============================] - 23s 144ms/step - loss: 58.3444 - mae: 58.3444 - val_loss: 68.2155 - val_mae: 68.2155\n",
      "\n",
      "Epoch 00012: val_mae improved from 68.23917 to 68.21549, saving model to ./no_regul_finetune_best_model.h5\n",
      "Epoch 13/30\n",
      "159/159 [==============================] - 23s 144ms/step - loss: 59.4260 - mae: 59.4260 - val_loss: 68.1872 - val_mae: 68.1872\n",
      "\n",
      "Epoch 00013: val_mae improved from 68.21549 to 68.18717, saving model to ./no_regul_finetune_best_model.h5\n",
      "Epoch 14/30\n",
      "159/159 [==============================] - 23s 145ms/step - loss: 59.4523 - mae: 59.4523 - val_loss: 68.1480 - val_mae: 68.1480\n",
      "\n",
      "Epoch 00014: val_mae improved from 68.18717 to 68.14798, saving model to ./no_regul_finetune_best_model.h5\n",
      "Epoch 15/30\n",
      "159/159 [==============================] - 23s 146ms/step - loss: 58.6860 - mae: 58.6860 - val_loss: 68.1613 - val_mae: 68.1613\n",
      "\n",
      "Epoch 00015: val_mae did not improve from 68.14798\n",
      "Epoch 16/30\n",
      "159/159 [==============================] - 23s 146ms/step - loss: 58.2896 - mae: 58.2896 - val_loss: 68.2063 - val_mae: 68.2063\n",
      "\n",
      "Epoch 00016: val_mae did not improve from 68.14798\n",
      "Epoch 17/30\n",
      "159/159 [==============================] - 23s 146ms/step - loss: 60.4441 - mae: 60.4441 - val_loss: 68.1144 - val_mae: 68.1144\n",
      "\n",
      "Epoch 00017: val_mae improved from 68.14798 to 68.11442, saving model to ./no_regul_finetune_best_model.h5\n",
      "Epoch 18/30\n",
      "159/159 [==============================] - 23s 147ms/step - loss: 59.1027 - mae: 59.1027 - val_loss: 68.0960 - val_mae: 68.0960\n",
      "\n",
      "Epoch 00018: val_mae improved from 68.11442 to 68.09605, saving model to ./no_regul_finetune_best_model.h5\n",
      "Epoch 19/30\n",
      "159/159 [==============================] - 23s 148ms/step - loss: 59.0873 - mae: 59.0873 - val_loss: 68.1605 - val_mae: 68.1605\n",
      "\n",
      "Epoch 00019: val_mae did not improve from 68.09605\n",
      "Epoch 20/30\n",
      "159/159 [==============================] - 24s 149ms/step - loss: 58.8312 - mae: 58.8312 - val_loss: 68.2762 - val_mae: 68.2762\n",
      "\n",
      "Epoch 00020: val_mae did not improve from 68.09605\n",
      "Epoch 21/30\n",
      "159/159 [==============================] - 24s 149ms/step - loss: 58.7221 - mae: 58.7221 - val_loss: 68.2978 - val_mae: 68.2978\n",
      "\n",
      "Epoch 00021: val_mae did not improve from 68.09605\n",
      "Epoch 22/30\n",
      "159/159 [==============================] - 24s 150ms/step - loss: 58.6186 - mae: 58.6186 - val_loss: 68.3054 - val_mae: 68.3054\n",
      "\n",
      "Epoch 00022: val_mae did not improve from 68.09605\n",
      "Epoch 23/30\n",
      "159/159 [==============================] - 24s 150ms/step - loss: 59.5302 - mae: 59.5302 - val_loss: 68.4261 - val_mae: 68.4261\n",
      "\n",
      "Epoch 00023: val_mae did not improve from 68.09605\n",
      "Epoch 24/30\n",
      "159/159 [==============================] - 24s 150ms/step - loss: 58.9666 - mae: 58.9666 - val_loss: 68.3740 - val_mae: 68.3740\n",
      "\n",
      "Epoch 00024: val_mae did not improve from 68.09605\n",
      "Epoch 25/30\n",
      "159/159 [==============================] - 24s 149ms/step - loss: 58.5459 - mae: 58.5459 - val_loss: 68.4547 - val_mae: 68.4547\n",
      "\n",
      "Epoch 00025: val_mae did not improve from 68.09605\n",
      "Epoch 26/30\n",
      "159/159 [==============================] - 24s 149ms/step - loss: 58.0651 - mae: 58.0651 - val_loss: 68.5647 - val_mae: 68.5647\n",
      "\n",
      "Epoch 00026: val_mae did not improve from 68.09605\n",
      "Epoch 27/30\n",
      "159/159 [==============================] - 24s 149ms/step - loss: 59.1521 - mae: 59.1521 - val_loss: 68.5631 - val_mae: 68.5631\n",
      "\n",
      "Epoch 00027: val_mae did not improve from 68.09605\n",
      "Epoch 28/30\n",
      "159/159 [==============================] - 24s 149ms/step - loss: 57.6841 - mae: 57.6841 - val_loss: 68.5575 - val_mae: 68.5575\n",
      "\n",
      "Epoch 00028: val_mae did not improve from 68.09605\n",
      "Epoch 29/30\n",
      "159/159 [==============================] - 24s 149ms/step - loss: 59.3380 - mae: 59.3380 - val_loss: 68.5342 - val_mae: 68.5342\n",
      "\n",
      "Epoch 00029: val_mae did not improve from 68.09605\n",
      "Epoch 30/30\n",
      "159/159 [==============================] - 24s 149ms/step - loss: 59.0701 - mae: 59.0701 - val_loss: 68.2728 - val_mae: 68.2728\n",
      "\n",
      "Epoch 00030: val_mae did not improve from 68.09605\n"
     ]
    }
   ],
   "source": [
    "model2.compile(optimizer=Adam(learning_rate=LEARNING_RATE/10),\n",
    "              loss='mae',\n",
    "              metrics=['mae'])\n",
    "\n",
    "checkpoint_filepath = './no_regul_finetune_best_model.h5'\n",
    "checkpointer = ModelCheckpoint(\n",
    "    filepath=checkpoint_filepath,\n",
    "    monitor='val_mae',\n",
    "    save_best_only=True,\n",
    "    verbose=1\n",
    ")\n",
    "\n",
    "history2 = model2.fit(train_dataset, epochs=EPOCHS,\n",
    "                    steps_per_epoch=STEPS_PER_EPOCH,\n",
    "                    validation_data=valid_dataset,\n",
    "                    validation_steps = VAL_STEPS,\n",
    "                    callbacks=[checkpointer],\n",
    "                    verbose=1)\n",
    "\n",
    "model2.save('./by_chance_noregul_finetunemoedl.h5')"
   ]
  },
  {
   "cell_type": "code",
   "execution_count": 26,
   "metadata": {
    "colab": {
     "base_uri": "https://localhost:8080/",
     "height": 517
    },
    "executionInfo": {
     "elapsed": 11,
     "status": "ok",
     "timestamp": 1652198203972,
     "user": {
      "displayName": "이희경",
      "userId": "11464043579838471612"
     },
     "user_tz": -540
    },
    "id": "ymkyG0vXicd2",
    "outputId": "4b60fcf9-ebb5-4038-f02d-55698758fec4"
   },
   "outputs": [
    {
     "data": {
      "text/plain": [
       "Text(0.5, 1.0, 'Training and Validation MAE')"
      ]
     },
     "execution_count": 26,
     "metadata": {},
     "output_type": "execute_result"
    },
    {
     "data": {
      "image/png": "[encoded data removed]",
      "text/plain": [
       "<Figure size 576x576 with 1 Axes>"
      ]
     },
     "metadata": {
      "needs_background": "light"
     },
     "output_type": "display_data"
    }
   ],
   "source": [
    "plt.figure(figsize=(8, 8))\n",
    "plt.plot(history2.history['mae'], label='Training MAE')\n",
    "plt.plot(history2.history['val_mae'], label='Validation MAE')\n",
    "plt.legend(loc='lower right')\n",
    "plt.title('Training and Validation MAE')"
   ]
  },
  {
   "cell_type": "markdown",
   "metadata": {
    "id": "GeduEGa3ui2q"
   },
   "source": [
    "## learning rate 변경"
   ]
  },
  {
   "cell_type": "code",
   "execution_count": 28,
   "metadata": {
    "id": "Gah-oOdpuhYp"
   },
   "outputs": [],
   "source": [
    " base_model = efn.EfficientNetB7(\n",
    "    weights='imagenet',\n",
    "    include_top = False,\n",
    "    input_shape = (IMAGE_SIZE,IMAGE_SIZE) + (3,)\n",
    ")"
   ]
  },
  {
   "cell_type": "code",
   "execution_count": 29,
   "metadata": {
    "id": "zVawlK00qfoW"
   },
   "outputs": [],
   "source": [
    "\n",
    "LEARNING_RATE = 1e-4\n",
    "\n",
    "base_model.trainable = False\n",
    "model3 = Sequential()\n",
    "model3.add(base_model)\n",
    "model3.add(GlobalAveragePooling2D()) # Flatten??\n",
    "model3.add(Dropout(0.3))\n",
    "model3.add(Dense(64, activation='relu'))\n",
    "model3.add(Dense(64, activation='relu'))\n",
    "model3.add(Dense(1, activation='linear'))\n",
    "\n",
    "checkpoint_filepath = './no_regul_pretrain_best_model_lr.h5'\n",
    "checkpointer = ModelCheckpoint(\n",
    "    filepath=checkpoint_filepath,\n",
    "    monitor='val_mae',\n",
    "    save_best_only=True,\n",
    "    verbose=1\n",
    ")\n",
    "\n",
    "model3.compile(optimizer=Adam(learning_rate=LEARNING_RATE),\n",
    "              loss='mae',\n",
    "              metrics=['mae'])"
   ]
  },
  {
   "cell_type": "code",
   "execution_count": 30,
   "metadata": {
    "colab": {
     "base_uri": "https://localhost:8080/"
    },
    "executionInfo": {
     "elapsed": 817982,
     "status": "ok",
     "timestamp": 1652200028970,
     "user": {
      "displayName": "이희경",
      "userId": "11464043579838471612"
     },
     "user_tz": -540
    },
    "id": "KdjhsCB3vkQm",
    "outputId": "65ea6302-3ca6-4637-8037-76cb3049d021",
    "scrolled": false
   },
   "outputs": [
    {
     "name": "stdout",
     "output_type": "stream",
     "text": [
      "Epoch 1/30\n",
      "159/159 [==============================] - 37s 170ms/step - loss: 82.0995 - mae: 82.0995 - val_loss: 73.3717 - val_mae: 73.3717\n",
      "\n",
      "Epoch 00001: val_mae improved from inf to 73.37173, saving model to ./no_regul_pretrain_best_model_lr.h5\n",
      "Epoch 2/30\n",
      "159/159 [==============================] - 23s 147ms/step - loss: 76.7557 - mae: 76.7557 - val_loss: 70.7185 - val_mae: 70.7185\n",
      "\n",
      "Epoch 00002: val_mae improved from 73.37173 to 70.71845, saving model to ./no_regul_pretrain_best_model_lr.h5\n",
      "Epoch 3/30\n",
      "159/159 [==============================] - 23s 148ms/step - loss: 74.2500 - mae: 74.2500 - val_loss: 69.9677 - val_mae: 69.9677\n",
      "\n",
      "Epoch 00003: val_mae improved from 70.71845 to 69.96772, saving model to ./no_regul_pretrain_best_model_lr.h5\n",
      "Epoch 4/30\n",
      "159/159 [==============================] - 23s 147ms/step - loss: 72.8939 - mae: 72.8939 - val_loss: 69.7535 - val_mae: 69.7535\n",
      "\n",
      "Epoch 00004: val_mae improved from 69.96772 to 69.75355, saving model to ./no_regul_pretrain_best_model_lr.h5\n",
      "Epoch 5/30\n",
      "159/159 [==============================] - 23s 147ms/step - loss: 71.9879 - mae: 71.9879 - val_loss: 69.5060 - val_mae: 69.5060\n",
      "\n",
      "Epoch 00005: val_mae improved from 69.75355 to 69.50602, saving model to ./no_regul_pretrain_best_model_lr.h5\n",
      "Epoch 6/30\n",
      "159/159 [==============================] - 23s 148ms/step - loss: 71.5493 - mae: 71.5493 - val_loss: 69.2297 - val_mae: 69.2297\n",
      "\n",
      "Epoch 00006: val_mae improved from 69.50602 to 69.22968, saving model to ./no_regul_pretrain_best_model_lr.h5\n",
      "Epoch 7/30\n",
      "159/159 [==============================] - 24s 148ms/step - loss: 71.2033 - mae: 71.2033 - val_loss: 69.1593 - val_mae: 69.1593\n",
      "\n",
      "Epoch 00007: val_mae improved from 69.22968 to 69.15926, saving model to ./no_regul_pretrain_best_model_lr.h5\n",
      "Epoch 8/30\n",
      "159/159 [==============================] - 23s 148ms/step - loss: 70.5373 - mae: 70.5373 - val_loss: 69.0507 - val_mae: 69.0507\n",
      "\n",
      "Epoch 00008: val_mae improved from 69.15926 to 69.05066, saving model to ./no_regul_pretrain_best_model_lr.h5\n",
      "Epoch 9/30\n",
      "159/159 [==============================] - 23s 148ms/step - loss: 69.9974 - mae: 69.9974 - val_loss: 68.7492 - val_mae: 68.7492\n",
      "\n",
      "Epoch 00009: val_mae improved from 69.05066 to 68.74916, saving model to ./no_regul_pretrain_best_model_lr.h5\n",
      "Epoch 10/30\n",
      "159/159 [==============================] - 23s 148ms/step - loss: 69.2538 - mae: 69.2538 - val_loss: 68.5482 - val_mae: 68.5482\n",
      "\n",
      "Epoch 00010: val_mae improved from 68.74916 to 68.54816, saving model to ./no_regul_pretrain_best_model_lr.h5\n",
      "Epoch 11/30\n",
      "159/159 [==============================] - 23s 148ms/step - loss: 68.8094 - mae: 68.8094 - val_loss: 68.4723 - val_mae: 68.4723\n",
      "\n",
      "Epoch 00011: val_mae improved from 68.54816 to 68.47231, saving model to ./no_regul_pretrain_best_model_lr.h5\n",
      "Epoch 12/30\n",
      "159/159 [==============================] - 23s 148ms/step - loss: 67.8539 - mae: 67.8539 - val_loss: 68.1482 - val_mae: 68.1482\n",
      "\n",
      "Epoch 00012: val_mae improved from 68.47231 to 68.14816, saving model to ./no_regul_pretrain_best_model_lr.h5\n",
      "Epoch 13/30\n",
      "159/159 [==============================] - 24s 148ms/step - loss: 69.0125 - mae: 69.0125 - val_loss: 68.0218 - val_mae: 68.0218\n",
      "\n",
      "Epoch 00013: val_mae improved from 68.14816 to 68.02177, saving model to ./no_regul_pretrain_best_model_lr.h5\n",
      "Epoch 14/30\n",
      "159/159 [==============================] - 23s 148ms/step - loss: 66.6811 - mae: 66.6811 - val_loss: 68.1244 - val_mae: 68.1244\n",
      "\n",
      "Epoch 00014: val_mae did not improve from 68.02177\n",
      "Epoch 15/30\n",
      "159/159 [==============================] - 23s 148ms/step - loss: 67.2434 - mae: 67.2434 - val_loss: 68.1411 - val_mae: 68.1411\n",
      "\n",
      "Epoch 00015: val_mae did not improve from 68.02177\n",
      "Epoch 16/30\n",
      "159/159 [==============================] - 24s 148ms/step - loss: 66.4010 - mae: 66.4010 - val_loss: 68.1089 - val_mae: 68.1089\n",
      "\n",
      "Epoch 00016: val_mae did not improve from 68.02177\n",
      "Epoch 17/30\n",
      "159/159 [==============================] - 24s 148ms/step - loss: 65.9421 - mae: 65.9421 - val_loss: 68.1683 - val_mae: 68.1683\n",
      "\n",
      "Epoch 00017: val_mae did not improve from 68.02177\n",
      "Epoch 18/30\n",
      "159/159 [==============================] - 24s 148ms/step - loss: 64.9978 - mae: 64.9978 - val_loss: 68.2503 - val_mae: 68.2503\n",
      "\n",
      "Epoch 00018: val_mae did not improve from 68.02177\n",
      "Epoch 19/30\n",
      "159/159 [==============================] - 24s 148ms/step - loss: 65.5419 - mae: 65.5419 - val_loss: 68.3097 - val_mae: 68.3097\n",
      "\n",
      "Epoch 00019: val_mae did not improve from 68.02177\n",
      "Epoch 20/30\n",
      "159/159 [==============================] - 24s 148ms/step - loss: 64.0593 - mae: 64.0593 - val_loss: 68.4018 - val_mae: 68.4018\n",
      "\n",
      "Epoch 00020: val_mae did not improve from 68.02177\n",
      "Epoch 21/30\n",
      "159/159 [==============================] - 24s 149ms/step - loss: 64.5165 - mae: 64.5165 - val_loss: 68.4925 - val_mae: 68.4925\n",
      "\n",
      "Epoch 00021: val_mae did not improve from 68.02177\n",
      "Epoch 22/30\n",
      "159/159 [==============================] - 23s 148ms/step - loss: 64.2768 - mae: 64.2768 - val_loss: 68.6115 - val_mae: 68.6115\n",
      "\n",
      "Epoch 00022: val_mae did not improve from 68.02177\n",
      "Epoch 23/30\n",
      "159/159 [==============================] - 23s 148ms/step - loss: 65.0967 - mae: 65.0967 - val_loss: 68.7949 - val_mae: 68.7949\n",
      "\n",
      "Epoch 00023: val_mae did not improve from 68.02177\n",
      "Epoch 24/30\n",
      "159/159 [==============================] - 23s 148ms/step - loss: 64.4559 - mae: 64.4559 - val_loss: 68.8573 - val_mae: 68.8573\n",
      "\n",
      "Epoch 00024: val_mae did not improve from 68.02177\n",
      "Epoch 25/30\n",
      "159/159 [==============================] - 23s 148ms/step - loss: 62.7678 - mae: 62.7678 - val_loss: 68.9133 - val_mae: 68.9133\n",
      "\n",
      "Epoch 00025: val_mae did not improve from 68.02177\n",
      "Epoch 26/30\n",
      "159/159 [==============================] - 23s 147ms/step - loss: 63.1657 - mae: 63.1657 - val_loss: 68.7981 - val_mae: 68.7981\n",
      "\n",
      "Epoch 00026: val_mae did not improve from 68.02177\n",
      "Epoch 27/30\n",
      "159/159 [==============================] - 23s 145ms/step - loss: 61.7955 - mae: 61.7955 - val_loss: 68.6175 - val_mae: 68.6175\n",
      "\n",
      "Epoch 00027: val_mae did not improve from 68.02177\n",
      "Epoch 28/30\n",
      "159/159 [==============================] - 23s 144ms/step - loss: 64.0867 - mae: 64.0867 - val_loss: 68.5259 - val_mae: 68.5259\n",
      "\n",
      "Epoch 00028: val_mae did not improve from 68.02177\n",
      "Epoch 29/30\n",
      "159/159 [==============================] - 23s 144ms/step - loss: 62.3304 - mae: 62.3304 - val_loss: 68.5450 - val_mae: 68.5450\n",
      "\n",
      "Epoch 00029: val_mae did not improve from 68.02177\n",
      "Epoch 30/30\n",
      "159/159 [==============================] - 23s 144ms/step - loss: 63.2754 - mae: 63.2754 - val_loss: 68.6457 - val_mae: 68.6457\n",
      "\n",
      "Epoch 00030: val_mae did not improve from 68.02177\n"
     ]
    }
   ],
   "source": [
    "history3 = model3.fit(train_dataset, epochs=EPOCHS,\n",
    "                    steps_per_epoch=STEPS_PER_EPOCH,\n",
    "                    validation_data=valid_dataset,\n",
    "                    validation_steps = VAL_STEPS,\n",
    "                    callbacks=[checkpointer],\n",
    "                    verbose=1)\n"
   ]
  },
  {
   "cell_type": "code",
   "execution_count": 31,
   "metadata": {
    "colab": {
     "base_uri": "https://localhost:8080/",
     "height": 517
    },
    "executionInfo": {
     "elapsed": 830,
     "status": "ok",
     "timestamp": 1652200030561,
     "user": {
      "displayName": "이희경",
      "userId": "11464043579838471612"
     },
     "user_tz": -540
    },
    "id": "MH5ItRd7wbu5",
    "outputId": "da90e670-6077-40ee-ef39-e3cdab6c0291"
   },
   "outputs": [
    {
     "data": {
      "text/plain": [
       "Text(0.5, 1.0, 'Training and Validation MAE')"
      ]
     },
     "execution_count": 31,
     "metadata": {},
     "output_type": "execute_result"
    },
    {
     "data": {
      "image/png": "[encoded data removed]",
      "text/plain": [
       "<Figure size 576x576 with 1 Axes>"
      ]
     },
     "metadata": {
      "needs_background": "light"
     },
     "output_type": "display_data"
    }
   ],
   "source": [
    "plt.figure(figsize=(8, 8))\n",
    "plt.plot(history3.history['mae'], label='Training MAE')\n",
    "plt.plot(history3.history['val_mae'], label='Validation MAE')\n",
    "plt.legend(loc='lower right')\n",
    "plt.title('Training and Validation MAE')"
   ]
  },
  {
   "cell_type": "markdown",
   "metadata": {
    "id": "Q5yMU5VWv1VM"
   },
   "source": [
    "### finetune"
   ]
  },
  {
   "cell_type": "code",
   "execution_count": 32,
   "metadata": {
    "id": "wO2lvTOIv2sV"
   },
   "outputs": [],
   "source": [
    "fine_tune_at= int(len(base_model.layers)*0.9)\n",
    "\n",
    "for i, layer in enumerate(base_model.layers[:fine_tune_at]):\n",
    "    if 'bn' not in layer.name :\n",
    "        layer.trainable = True"
   ]
  },
  {
   "cell_type": "code",
   "execution_count": 33,
   "metadata": {
    "colab": {
     "base_uri": "https://localhost:8080/"
    },
    "executionInfo": {
     "elapsed": 787872,
     "status": "ok",
     "timestamp": 1652201044885,
     "user": {
      "displayName": "이희경",
      "userId": "11464043579838471612"
     },
     "user_tz": -540
    },
    "id": "rps1zcQBwH6Z",
    "outputId": "a997cc2e-f57a-43fd-8746-1f6cb807f7c7"
   },
   "outputs": [
    {
     "name": "stdout",
     "output_type": "stream",
     "text": [
      "Epoch 1/30\n",
      "159/159 [==============================] - 37s 169ms/step - loss: 63.3531 - mae: 63.3531 - val_loss: 68.6863 - val_mae: 68.6863\n",
      "\n",
      "Epoch 00001: val_mae improved from inf to 68.68631, saving model to ./no_regul_pretrain_best_model_lr.h5\n",
      "Epoch 2/30\n",
      "159/159 [==============================] - 23s 143ms/step - loss: 62.6067 - mae: 62.6067 - val_loss: 68.6921 - val_mae: 68.6921\n",
      "\n",
      "Epoch 00002: val_mae did not improve from 68.68631\n",
      "Epoch 3/30\n",
      "159/159 [==============================] - 23s 144ms/step - loss: 62.1619 - mae: 62.1619 - val_loss: 68.6978 - val_mae: 68.6978\n",
      "\n",
      "Epoch 00003: val_mae did not improve from 68.68631\n",
      "Epoch 4/30\n",
      "159/159 [==============================] - 23s 144ms/step - loss: 63.1704 - mae: 63.1704 - val_loss: 68.6773 - val_mae: 68.6773\n",
      "\n",
      "Epoch 00004: val_mae improved from 68.68631 to 68.67727, saving model to ./no_regul_pretrain_best_model_lr.h5\n",
      "Epoch 5/30\n",
      "159/159 [==============================] - 23s 144ms/step - loss: 63.0912 - mae: 63.0912 - val_loss: 68.6702 - val_mae: 68.6702\n",
      "\n",
      "Epoch 00005: val_mae improved from 68.67727 to 68.67018, saving model to ./no_regul_pretrain_best_model_lr.h5\n",
      "Epoch 6/30\n",
      "159/159 [==============================] - 23s 144ms/step - loss: 61.7522 - mae: 61.7522 - val_loss: 68.7029 - val_mae: 68.7029\n",
      "\n",
      "Epoch 00006: val_mae did not improve from 68.67018\n",
      "Epoch 7/30\n",
      "159/159 [==============================] - 23s 145ms/step - loss: 61.1424 - mae: 61.1424 - val_loss: 68.7302 - val_mae: 68.7302\n",
      "\n",
      "Epoch 00007: val_mae did not improve from 68.67018\n",
      "Epoch 8/30\n",
      "159/159 [==============================] - 23s 145ms/step - loss: 62.4564 - mae: 62.4564 - val_loss: 68.7261 - val_mae: 68.7261\n",
      "\n",
      "Epoch 00008: val_mae did not improve from 68.67018\n",
      "Epoch 9/30\n",
      "159/159 [==============================] - 23s 145ms/step - loss: 62.7926 - mae: 62.7926 - val_loss: 68.7498 - val_mae: 68.7498\n",
      "\n",
      "Epoch 00009: val_mae did not improve from 68.67018\n",
      "Epoch 10/30\n",
      "159/159 [==============================] - 23s 146ms/step - loss: 61.9785 - mae: 61.9785 - val_loss: 68.7554 - val_mae: 68.7554\n",
      "\n",
      "Epoch 00010: val_mae did not improve from 68.67018\n",
      "Epoch 11/30\n",
      "159/159 [==============================] - 23s 147ms/step - loss: 61.3857 - mae: 61.3857 - val_loss: 68.7848 - val_mae: 68.7848\n",
      "\n",
      "Epoch 00011: val_mae did not improve from 68.67018\n",
      "Epoch 12/30\n",
      "159/159 [==============================] - 23s 148ms/step - loss: 61.2881 - mae: 61.2881 - val_loss: 68.7293 - val_mae: 68.7293\n",
      "\n",
      "Epoch 00012: val_mae did not improve from 68.67018\n",
      "Epoch 13/30\n",
      "159/159 [==============================] - 24s 149ms/step - loss: 62.0244 - mae: 62.0244 - val_loss: 68.7038 - val_mae: 68.7038\n",
      "\n",
      "Epoch 00013: val_mae did not improve from 68.67018\n",
      "Epoch 14/30\n",
      "159/159 [==============================] - 24s 149ms/step - loss: 62.0176 - mae: 62.0176 - val_loss: 68.7264 - val_mae: 68.7264\n",
      "\n",
      "Epoch 00014: val_mae did not improve from 68.67018\n",
      "Epoch 15/30\n",
      "159/159 [==============================] - 23s 146ms/step - loss: 62.4380 - mae: 62.4380 - val_loss: 68.7387 - val_mae: 68.7387\n",
      "\n",
      "Epoch 00015: val_mae did not improve from 68.67018\n",
      "Epoch 16/30\n",
      "159/159 [==============================] - 23s 144ms/step - loss: 62.1686 - mae: 62.1686 - val_loss: 68.7046 - val_mae: 68.7046\n",
      "\n",
      "Epoch 00016: val_mae did not improve from 68.67018\n",
      "Epoch 17/30\n",
      "159/159 [==============================] - 23s 143ms/step - loss: 62.5539 - mae: 62.5539 - val_loss: 68.6909 - val_mae: 68.6909\n",
      "\n",
      "Epoch 00017: val_mae did not improve from 68.67018\n",
      "Epoch 18/30\n",
      "159/159 [==============================] - 23s 143ms/step - loss: 63.1055 - mae: 63.1055 - val_loss: 68.6760 - val_mae: 68.6760\n",
      "\n",
      "Epoch 00018: val_mae did not improve from 68.67018\n",
      "Epoch 19/30\n",
      "159/159 [==============================] - 23s 143ms/step - loss: 61.7613 - mae: 61.7613 - val_loss: 68.6256 - val_mae: 68.6256\n",
      "\n",
      "Epoch 00019: val_mae improved from 68.67018 to 68.62563, saving model to ./no_regul_pretrain_best_model_lr.h5\n",
      "Epoch 20/30\n",
      "159/159 [==============================] - 23s 143ms/step - loss: 62.1368 - mae: 62.1368 - val_loss: 68.6264 - val_mae: 68.6264\n",
      "\n",
      "Epoch 00020: val_mae did not improve from 68.62563\n",
      "Epoch 21/30\n",
      "159/159 [==============================] - 23s 143ms/step - loss: 62.2757 - mae: 62.2757 - val_loss: 68.6153 - val_mae: 68.6153\n",
      "\n",
      "Epoch 00021: val_mae improved from 68.62563 to 68.61529, saving model to ./no_regul_pretrain_best_model_lr.h5\n",
      "Epoch 22/30\n",
      "159/159 [==============================] - 23s 143ms/step - loss: 62.4271 - mae: 62.4271 - val_loss: 68.6107 - val_mae: 68.6107\n",
      "\n",
      "Epoch 00022: val_mae improved from 68.61529 to 68.61069, saving model to ./no_regul_pretrain_best_model_lr.h5\n",
      "Epoch 23/30\n",
      "159/159 [==============================] - 23s 144ms/step - loss: 62.8007 - mae: 62.8007 - val_loss: 68.5958 - val_mae: 68.5958\n",
      "\n",
      "Epoch 00023: val_mae improved from 68.61069 to 68.59583, saving model to ./no_regul_pretrain_best_model_lr.h5\n",
      "Epoch 24/30\n",
      "159/159 [==============================] - 23s 144ms/step - loss: 63.8712 - mae: 63.8712 - val_loss: 68.5957 - val_mae: 68.5957\n",
      "\n",
      "Epoch 00024: val_mae improved from 68.59583 to 68.59573, saving model to ./no_regul_pretrain_best_model_lr.h5\n",
      "Epoch 25/30\n",
      "159/159 [==============================] - 23s 145ms/step - loss: 62.9125 - mae: 62.9125 - val_loss: 68.5853 - val_mae: 68.5853\n",
      "\n",
      "Epoch 00025: val_mae improved from 68.59573 to 68.58531, saving model to ./no_regul_pretrain_best_model_lr.h5\n",
      "Epoch 26/30\n",
      "159/159 [==============================] - 23s 146ms/step - loss: 61.8179 - mae: 61.8179 - val_loss: 68.5947 - val_mae: 68.5947\n",
      "\n",
      "Epoch 00026: val_mae did not improve from 68.58531\n",
      "Epoch 27/30\n",
      "159/159 [==============================] - 23s 147ms/step - loss: 61.8161 - mae: 61.8161 - val_loss: 68.5995 - val_mae: 68.5995\n",
      "\n",
      "Epoch 00027: val_mae did not improve from 68.58531\n",
      "Epoch 28/30\n",
      "159/159 [==============================] - 23s 148ms/step - loss: 62.5779 - mae: 62.5779 - val_loss: 68.6295 - val_mae: 68.6295\n",
      "\n",
      "Epoch 00028: val_mae did not improve from 68.58531\n",
      "Epoch 29/30\n",
      "159/159 [==============================] - 24s 149ms/step - loss: 61.2904 - mae: 61.2904 - val_loss: 68.6159 - val_mae: 68.6159\n",
      "\n",
      "Epoch 00029: val_mae did not improve from 68.58531\n",
      "Epoch 30/30\n",
      "159/159 [==============================] - 24s 149ms/step - loss: 62.4225 - mae: 62.4225 - val_loss: 68.6165 - val_mae: 68.6165\n",
      "\n",
      "Epoch 00030: val_mae did not improve from 68.58531\n"
     ]
    }
   ],
   "source": [
    "checkpoint_filepath = './no_regul_pretrain_best_model_lr.h5'\n",
    "checkpointer = ModelCheckpoint(\n",
    "    filepath=checkpoint_filepath,\n",
    "    monitor='val_mae',\n",
    "    save_best_only=True,\n",
    "    verbose=1\n",
    ")\n",
    "\n",
    "model3.compile(optimizer=Adam(learning_rate=LEARNING_RATE/10),\n",
    "              loss='mae',\n",
    "              metrics=['mae'])\n",
    "\n",
    "history3 = model3.fit(train_dataset, epochs=EPOCHS,\n",
    "                    steps_per_epoch=STEPS_PER_EPOCH,\n",
    "                    validation_data=valid_dataset,\n",
    "                    validation_steps = VAL_STEPS,\n",
    "                    callbacks=[checkpointer],\n",
    "                    verbose=1)"
   ]
  },
  {
   "cell_type": "code",
   "execution_count": 34,
   "metadata": {
    "colab": {
     "base_uri": "https://localhost:8080/",
     "height": 517
    },
    "executionInfo": {
     "elapsed": 791,
     "status": "ok",
     "timestamp": 1652201062637,
     "user": {
      "displayName": "이희경",
      "userId": "11464043579838471612"
     },
     "user_tz": -540
    },
    "id": "zLu7gmgBwHzQ",
    "outputId": "7686571c-77a6-48c4-d21b-399034582803"
   },
   "outputs": [
    {
     "data": {
      "text/plain": [
       "Text(0.5, 1.0, 'Training and Validation MAE')"
      ]
     },
     "execution_count": 34,
     "metadata": {},
     "output_type": "execute_result"
    },
    {
     "data": {
      "image/png": "[encoded data removed]",
      "text/plain": [
       "<Figure size 576x576 with 1 Axes>"
      ]
     },
     "metadata": {
      "needs_background": "light"
     },
     "output_type": "display_data"
    }
   ],
   "source": [
    "plt.figure(figsize=(8, 8))\n",
    "plt.plot(history3.history['mae'], label='Training MAE')\n",
    "plt.plot(history3.history['val_mae'], label='Validation MAE')\n",
    "plt.legend(loc='lower right')\n",
    "plt.title('Training and Validation MAE')"
   ]
  },
  {
   "cell_type": "markdown",
   "metadata": {
    "id": "bAt8gH0mS2ZS"
   },
   "source": [
    "# Retry EfficientNet B7 fine tuning add augmentation"
   ]
  },
  {
   "cell_type": "code",
   "execution_count": null,
   "metadata": {
    "id": "KHcs0_9zYCxk"
   },
   "outputs": [],
   "source": [
    "from tensorflow.keras.applications.efficientnet import EfficientNetB7"
   ]
  },
  {
   "cell_type": "code",
   "execution_count": null,
   "metadata": {
    "id": "eeMs50nbYtsd"
   },
   "outputs": [],
   "source": [
    "IMAGE_SIZE = 256\n",
    "LEARNING_RATE = 1e-4"
   ]
  },
  {
   "cell_type": "code",
   "execution_count": null,
   "metadata": {
    "id": "TW_nzPnPWjtM"
   },
   "outputs": [],
   "source": [
    "data_augmentation = tf.keras.Sequential([\n",
    "  tf.keras.layers.RandomFlip('horizontal_and_vertical'),\n",
    "  tf.keras.layers.RandomRotation(0.3)\n",
    "])"
   ]
  },
  {
   "cell_type": "code",
   "execution_count": null,
   "metadata": {
    "id": "b4UDFopoYXzr"
   },
   "outputs": [],
   "source": [
    "preprocess_input= tf.keras.applications.efficientnet.preprocess_input\n",
    "input_data = Input( shape = (None, None ,3) )\n",
    "x = tf.keras.layers.RandomFlip('horizontal_and_vertical')(input_data)\n",
    "x = tf.keras.layers.RandomRotation(0.3)(x)\n",
    "x = preprocess_input(x)\n",
    "preprocess = Model(inputs=input_data, outputs=x)"
   ]
  },
  {
   "cell_type": "code",
   "execution_count": null,
   "metadata": {
    "id": "hy4x5aw3SvpG"
   },
   "outputs": [],
   "source": [
    "base_model = efn.EfficientNetB7(\n",
    "    weights='imagenet',\n",
    "    include_top = False\n",
    ")\n",
    "base_model.trainable = False"
   ]
  },
  {
   "cell_type": "code",
   "execution_count": null,
   "metadata": {
    "id": "HvKjel0AZrdG"
   },
   "outputs": [],
   "source": [
    "base_model.summary() # train prams => 0"
   ]
  },
  {
   "cell_type": "code",
   "execution_count": null,
   "metadata": {
    "id": "CK7koebNVpck"
   },
   "outputs": [],
   "source": [
    "model = Sequential()\n",
    "model.add(preprocess)\n",
    "model.add(base_model)\n",
    "model.add(GlobalAveragePooling2D())\n",
    "model.add(Dropout(0.5))\n",
    "model.add(Dense(64, activation='relu'))\n",
    "model.add(Dense(64, activation='relu'))\n",
    "model.add(Dense(1, activation='linear'))\n",
    "\n",
    "model.compile(optimizer=Adam(learning_rate=LEARNING_RATE),\n",
    "              loss='mae',\n",
    "              metrics=['mae'])"
   ]
  },
  {
   "cell_type": "code",
   "execution_count": null,
   "metadata": {
    "colab": {
     "base_uri": "https://localhost:8080/"
    },
    "executionInfo": {
     "elapsed": 543,
     "status": "ok",
     "timestamp": 1652244062819,
     "user": {
      "displayName": "이희경",
      "userId": "11464043579838471612"
     },
     "user_tz": -540
    },
    "id": "RcSZtKrjaSei",
    "outputId": "0b8e693b-39fe-4465-9c62-085c9cf40330"
   },
   "outputs": [
    {
     "name": "stdout",
     "output_type": "stream",
     "text": [
      "Model: \"sequential_4\"\n",
      "_________________________________________________________________\n",
      " Layer (type)                Output Shape              Param #   \n",
      "=================================================================\n",
      " model_1 (Functional)        (None, None, None, 3)     0         \n",
      "                                                                 \n",
      " efficientnet-b4 (Functional  (None, None, None, 1792)  17673816 \n",
      " )                                                               \n",
      "                                                                 \n",
      " global_average_pooling2d_1   (None, 1792)             0         \n",
      " (GlobalAveragePooling2D)                                        \n",
      "                                                                 \n",
      " dropout_1 (Dropout)         (None, 1792)              0         \n",
      "                                                                 \n",
      " dense_3 (Dense)             (None, 64)                114752    \n",
      "                                                                 \n",
      " dense_4 (Dense)             (None, 64)                4160      \n",
      "                                                                 \n",
      " dense_5 (Dense)             (None, 1)                 65        \n",
      "                                                                 \n",
      "=================================================================\n",
      "Total params: 17,792,793\n",
      "Trainable params: 118,977\n",
      "Non-trainable params: 17,673,816\n",
      "_________________________________________________________________\n"
     ]
    }
   ],
   "source": [
    "model.summary()"
   ]
  },
  {
   "cell_type": "markdown",
   "metadata": {
    "id": "5BQpqJGsbahD"
   },
   "source": [
    "학습"
   ]
  },
  {
   "cell_type": "code",
   "execution_count": null,
   "metadata": {
    "colab": {
     "base_uri": "https://localhost:8080/",
     "height": 248
    },
    "executionInfo": {
     "elapsed": 385,
     "status": "error",
     "timestamp": 1652244211973,
     "user": {
      "displayName": "이희경",
      "userId": "11464043579838471612"
     },
     "user_tz": -540
    },
    "id": "A5lswt8Sa_jK",
    "outputId": "0a2b9f37-9d51-4306-dd1a-b2361940b3d9"
   },
   "outputs": [
    {
     "ename": "NameError",
     "evalue": "ignored",
     "output_type": "error",
     "traceback": [
      "\u001b[0;31m---------------------------------------------------------------------------\u001b[0m",
      "\u001b[0;31mNameError\u001b[0m                                 Traceback (most recent call last)",
      "\u001b[0;32m<ipython-input-22-efd4b6b498ed>\u001b[0m in \u001b[0;36m<module>\u001b[0;34m()\u001b[0m\n\u001b[1;32m     10\u001b[0m \u001b[0;34m\u001b[0m\u001b[0m\n\u001b[1;32m     11\u001b[0m \u001b[0mEPOCHS\u001b[0m \u001b[0;34m=\u001b[0m \u001b[0;36m30\u001b[0m\u001b[0;34m\u001b[0m\u001b[0;34m\u001b[0m\u001b[0m\n\u001b[0;32m---> 12\u001b[0;31m \u001b[0mSTEPS_PER_EPOCH\u001b[0m \u001b[0;34m=\u001b[0m \u001b[0mlen\u001b[0m\u001b[0;34m(\u001b[0m\u001b[0mtrain_img_path\u001b[0m\u001b[0;34m)\u001b[0m \u001b[0;34m//\u001b[0m \u001b[0mBATCH_SIZE\u001b[0m\u001b[0;34m\u001b[0m\u001b[0;34m\u001b[0m\u001b[0m\n\u001b[0m\u001b[1;32m     13\u001b[0m \u001b[0mVAL_STEPS\u001b[0m \u001b[0;34m=\u001b[0m \u001b[0mlen\u001b[0m\u001b[0;34m(\u001b[0m\u001b[0mvali_img_path\u001b[0m\u001b[0;34m)\u001b[0m \u001b[0;34m//\u001b[0m \u001b[0mBATCH_SIZE\u001b[0m\u001b[0;34m\u001b[0m\u001b[0;34m\u001b[0m\u001b[0m\n\u001b[1;32m     14\u001b[0m \u001b[0;34m\u001b[0m\u001b[0m\n",
      "\u001b[0;31mNameError\u001b[0m: name 'train_img_path' is not defined"
     ]
    }
   ],
   "source": [
    "checkpoint_filepath = '/content/drive/MyDrive/AI_proj/effb4/effb4.ckpt'\n",
    "checkpointer = ModelCheckpoint(\n",
    "    filepath=checkpoint_filepath,\n",
    "    monitor='val_mae',\n",
    "    save_best_only=True,\n",
    "    save_weights_only=True,\n",
    "    verbose=1\n",
    ")\n",
    "\n",
    "\n",
    "EPOCHS = 30\n",
    "STEPS_PER_EPOCH = len(train_img_path) // BATCH_SIZE\n",
    "VAL_STEPS = len(vali_img_path) // BATCH_SIZE\n",
    "\n",
    "history = model.fit(train_dataset, epochs=EPOCHS,\n",
    "                    steps_per_epoch=STEPS_PER_EPOCH,\n",
    "                    validation_data=valid_dataset,\n",
    "                    validation_steps = VAL_STEPS,\n",
    "                    callbacks=[checkpointer],\n",
    "                    verbose=1)"
   ]
  },
  {
   "cell_type": "markdown",
   "metadata": {
    "id": "gX9XLXiSg-mf"
   },
   "source": [
    "### fine tuen"
   ]
  },
  {
   "cell_type": "markdown",
   "metadata": {
    "id": "PGQ6jBs9f7vH"
   },
   "source": [
    "# Prediction"
   ]
  },
  {
   "cell_type": "code",
   "execution_count": null,
   "metadata": {
    "colab": {
     "base_uri": "https://localhost:8080/"
    },
    "executionInfo": {
     "elapsed": 913,
     "status": "ok",
     "timestamp": 1652233294971,
     "user": {
      "displayName": "이희경",
      "userId": "11464043579838471612"
     },
     "user_tz": -540
    },
    "id": "ubLuDKid2-WY",
    "outputId": "85048545-0352-4e50-a845-8d621db3871a"
   },
   "outputs": [
    {
     "data": {
      "text/plain": [
       "460"
      ]
     },
     "execution_count": 30,
     "metadata": {},
     "output_type": "execute_result"
    }
   ],
   "source": [
    "len(test_img_path)"
   ]
  },
  {
   "cell_type": "code",
   "execution_count": null,
   "metadata": {
    "id": "KSu1Ys4ykM5U"
   },
   "outputs": [],
   "source": [
    "PRED_BATCH_SIZE = 10"
   ]
  },
  {
   "cell_type": "markdown",
   "metadata": {
    "id": "LisDw-XNlufu"
   },
   "source": [
    "test set 생성"
   ]
  },
  {
   "cell_type": "code",
   "execution_count": null,
   "metadata": {
    "colab": {
     "base_uri": "https://localhost:8080/",
     "height": 49,
     "referenced_widgets": [
      "ae90fc77c2ad4f089ff49e5f737856b4",
      "09b363f499a5499eab39ecae6b164433",
      "7ea6b6bee2794ec195d1e3130b4633bc",
      "ef2d29225f4e4f23ac1998989d61d6e0",
      "5f93dab3d0cc47f1bcf83f7a8a9dfc09",
      "80fcbd10bee34b18b752238765f246bd",
      "2146e3b79756428cab29ec8dd3848507",
      "fc6929ee029b4e2686db2a0bfbc8a890",
      "638e60f11e714a488b9545ff52fbf34d",
      "3ebda634dfbb4326ab9b16b977ae2135",
      "902a5b43378546668470dcad1f250d0a"
     ]
    },
    "executionInfo": {
     "elapsed": 544400,
     "status": "ok",
     "timestamp": 1652230487251,
     "user": {
      "displayName": "이희경",
      "userId": "11464043579838471612"
     },
     "user_tz": -540
    },
    "id": "DHO3XmODjSwG",
    "outputId": "39ac0b2e-cc43-488e-c334-b856229f4cc7"
   },
   "outputs": [
    {
     "data": {
      "application/vnd.jupyter.widget-view+json": {
       "model_id": "ae90fc77c2ad4f089ff49e5f737856b4",
       "version_major": 2,
       "version_minor": 0
      },
      "text/plain": [
       "  0%|          | 0/460 [00:00<?, ?it/s]"
      ]
     },
     "metadata": {},
     "output_type": "display_data"
    }
   ],
   "source": [
    "test_dataset, file_names = create_test_dataset(test_img_path, (IMAGE_SIZE, IMAGE_SIZE), PRED_BATCH_SIZE )"
   ]
  },
  {
   "cell_type": "markdown",
   "metadata": {
    "id": "NcWZX29ZlwkL"
   },
   "source": [
    "model load and predict"
   ]
  },
  {
   "cell_type": "code",
   "execution_count": null,
   "metadata": {
    "colab": {
     "base_uri": "https://localhost:8080/"
    },
    "executionInfo": {
     "elapsed": 21539,
     "status": "ok",
     "timestamp": 1652230619922,
     "user": {
      "displayName": "이희경",
      "userId": "11464043579838471612"
     },
     "user_tz": -540
    },
    "id": "lIbWZb_0k7ZZ",
    "outputId": "4d92e4de-56b1-433d-ca7c-a02fc48ca5f9"
   },
   "outputs": [
    {
     "name": "stdout",
     "output_type": "stream",
     "text": [
      "WARNING:tensorflow:Error in loading the saved optimizer state. As a result, your model is starting with a freshly initialized optimizer.\n"
     ]
    }
   ],
   "source": [
    "eff_model = tf.keras.models.load_model('/content/drive/MyDrive/AI_proj/no_regul_pretrain_best_model.h5')\n",
    "\n",
    "STEPS = len(test_img_path) / PRED_BATCH_SIZE\n",
    "prediction = eff_model.predict(test_dataset,\n",
    "                            batch_size = PRED_BATCH_SIZE,\n",
    "                            steps=STEPS)\n"
   ]
  },
  {
   "cell_type": "code",
   "execution_count": null,
   "metadata": {
    "colab": {
     "base_uri": "https://localhost:8080/"
    },
    "executionInfo": {
     "elapsed": 275,
     "status": "ok",
     "timestamp": 1652230623954,
     "user": {
      "displayName": "이희경",
      "userId": "11464043579838471612"
     },
     "user_tz": -540
    },
    "id": "UVHpedEFmcEd",
    "outputId": "226273b3-b5f2-4c2a-d6aa-680ff3150439"
   },
   "outputs": [
    {
     "data": {
      "text/plain": [
       "(460, 1)"
      ]
     },
     "execution_count": 26,
     "metadata": {},
     "output_type": "execute_result"
    }
   ],
   "source": [
    "prediction.shape"
   ]
  },
  {
   "cell_type": "code",
   "execution_count": null,
   "metadata": {
    "id": "w9xtfbDEnqE9"
   },
   "outputs": [],
   "source": [
    "prediction"
   ]
  },
  {
   "cell_type": "markdown",
   "metadata": {
    "id": "NRmDUm5jlzWz"
   },
   "source": [
    "save to csv"
   ]
  },
  {
   "cell_type": "code",
   "execution_count": null,
   "metadata": {
    "id": "T3Gw2o9Pl0ll"
   },
   "outputs": [],
   "source": [
    "submission = pd.read_csv('/content/drive/MyDrive/AI_proj/data/sample_submission.csv')\n",
    "submission['leaf_weight'] = prediction.squeeze()\n",
    "submission.to_csv('/content/drive/MyDrive/AI_proj/data/effecientnet_cnn.csv', index=False)"
   ]
  },
  {
   "cell_type": "markdown",
   "metadata": {
    "id": "P4Oafxk0p_yJ"
   },
   "source": [
    "# EfficientNetV2 L Model"
   ]
  },
  {
   "cell_type": "code",
   "execution_count": null,
   "metadata": {
    "id": "xCMcYHAU2voF"
   },
   "outputs": [],
   "source": [
    "IMAGE_SIZE = 256,\n",
    "EPOCHS = 30\n",
    "LEARNING_RATE = 1e-4"
   ]
  },
  {
   "cell_type": "code",
   "execution_count": null,
   "metadata": {
    "id": "FsPURA3Ip_W2"
   },
   "outputs": [],
   "source": [
    "from tensorflow.keras.applications.efficientnet_v2 import EfficientNetV2L"
   ]
  },
  {
   "cell_type": "code",
   "execution_count": null,
   "metadata": {
    "id": "3ivDf_bc-FLI"
   },
   "outputs": [],
   "source": [
    "preprocess_input= tf.keras.applications.efficientnet_v2.preprocess_input"
   ]
  },
  {
   "cell_type": "code",
   "execution_count": null,
   "metadata": {
    "id": "yYaPRrYF9q3K"
   },
   "outputs": [],
   "source": [
    "base_model = EfficientNetV2L(include_top = False,\n",
    "                             weights='imagenet')"
   ]
  },
  {
   "cell_type": "code",
   "execution_count": null,
   "metadata": {
    "id": "EOk-JzA9ApBv"
   },
   "outputs": [],
   "source": [
    "input_data = Input( shape = (None, None ,3) )\n",
    "x = preprocess_input(input_data)\n",
    "preprocess = Model(inputs=input_data, outputs=x)"
   ]
  },
  {
   "cell_type": "code",
   "execution_count": null,
   "metadata": {
    "id": "eOEaNu6b0l3s"
   },
   "outputs": [],
   "source": [
    "model = Sequential()\n",
    "model.add(preprocess)\n",
    "model.add(base_model)\n",
    "model.add(GlobalAveragePooling2D())\n",
    "model.add(Dropout(0.3))\n",
    "model.add(Dense(64, activation='relu'))\n",
    "model.add(Dense(64, activation='relu'))\n",
    "model.add(Dense(1, activation='linear'))"
   ]
  },
  {
   "cell_type": "code",
   "execution_count": null,
   "metadata": {
    "colab": {
     "base_uri": "https://localhost:8080/"
    },
    "executionInfo": {
     "elapsed": 251,
     "status": "ok",
     "timestamp": 1652237255155,
     "user": {
      "displayName": "이희경",
      "userId": "11464043579838471612"
     },
     "user_tz": -540
    },
    "id": "A-qAhWBN2QYy",
    "outputId": "1620c75a-f47e-4504-b34c-dac61db6b4a6"
   },
   "outputs": [
    {
     "name": "stdout",
     "output_type": "stream",
     "text": [
      "Model: \"sequential_1\"\n",
      "_________________________________________________________________\n",
      " Layer (type)                Output Shape              Param #   \n",
      "=================================================================\n",
      " model_3 (Functional)        (None, None, None, 3)     0         \n",
      "                                                                 \n",
      " efficientnetv2-l (Functiona  (None, None, None, 1280)  117746848\n",
      " l)                                                              \n",
      "                                                                 \n",
      " global_average_pooling2d_3   (None, 1280)             0         \n",
      " (GlobalAveragePooling2D)                                        \n",
      "                                                                 \n",
      " dropout_3 (Dropout)         (None, 1280)              0         \n",
      "                                                                 \n",
      " dense_9 (Dense)             (None, 64)                81984     \n",
      "                                                                 \n",
      " dense_10 (Dense)            (None, 64)                4160      \n",
      "                                                                 \n",
      " dense_11 (Dense)            (None, 1)                 65        \n",
      "                                                                 \n",
      "=================================================================\n",
      "Total params: 117,833,057\n",
      "Trainable params: 117,320,481\n",
      "Non-trainable params: 512,576\n",
      "_________________________________________________________________\n"
     ]
    }
   ],
   "source": [
    "model.summary()"
   ]
  },
  {
   "cell_type": "code",
   "execution_count": null,
   "metadata": {
    "id": "D1M9UvhAA9W7"
   },
   "outputs": [],
   "source": [
    "base_model.trainable = False"
   ]
  },
  {
   "cell_type": "code",
   "execution_count": null,
   "metadata": {
    "id": "cTpdqK2c2Rt8"
   },
   "outputs": [],
   "source": [
    "checkpoint_filepath = '/content/drive/MyDrive/AI_proj/effv2L checkpoint/effv2L.ckpt'\n",
    "checkpointer = ModelCheckpoint(\n",
    "    filepath=checkpoint_filepath,\n",
    "    monitor='val_mae',\n",
    "    save_best_only=True,\n",
    "    save_weights_only=True,\n",
    "    verbose=1\n",
    ")\n",
    "\n",
    "model.compile(optimizer=Adam(learning_rate=LEARNING_RATE),\n",
    "              loss='mae',\n",
    "              metrics=['mae'])"
   ]
  },
  {
   "cell_type": "code",
   "execution_count": null,
   "metadata": {
    "colab": {
     "base_uri": "https://localhost:8080/"
    },
    "executionInfo": {
     "elapsed": 247,
     "status": "ok",
     "timestamp": 1652237710596,
     "user": {
      "displayName": "이희경",
      "userId": "11464043579838471612"
     },
     "user_tz": -540
    },
    "id": "154Mi0lgBHnf",
    "outputId": "dfc7ec91-7fbe-4ac0-b41f-a4dcc9c89346"
   },
   "outputs": [
    {
     "name": "stdout",
     "output_type": "stream",
     "text": [
      "Model: \"sequential_1\"\n",
      "_________________________________________________________________\n",
      " Layer (type)                Output Shape              Param #   \n",
      "=================================================================\n",
      " model_3 (Functional)        (None, None, None, 3)     0         \n",
      "                                                                 \n",
      " efficientnetv2-l (Functiona  (None, None, None, 1280)  117746848\n",
      " l)                                                              \n",
      "                                                                 \n",
      " global_average_pooling2d_3   (None, 1280)             0         \n",
      " (GlobalAveragePooling2D)                                        \n",
      "                                                                 \n",
      " dropout_3 (Dropout)         (None, 1280)              0         \n",
      "                                                                 \n",
      " dense_9 (Dense)             (None, 64)                81984     \n",
      "                                                                 \n",
      " dense_10 (Dense)            (None, 64)                4160      \n",
      "                                                                 \n",
      " dense_11 (Dense)            (None, 1)                 65        \n",
      "                                                                 \n",
      "=================================================================\n",
      "Total params: 117,833,057\n",
      "Trainable params: 86,209\n",
      "Non-trainable params: 117,746,848\n",
      "_________________________________________________________________\n"
     ]
    }
   ],
   "source": [
    "model.summary()"
   ]
  },
  {
   "cell_type": "code",
   "execution_count": null,
   "metadata": {
    "colab": {
     "base_uri": "https://localhost:8080/"
    },
    "executionInfo": {
     "elapsed": 1059064,
     "status": "ok",
     "timestamp": 1652238775004,
     "user": {
      "displayName": "이희경",
      "userId": "11464043579838471612"
     },
     "user_tz": -540
    },
    "id": "rl5DkQD43Gb5",
    "outputId": "b987088c-3526-46a1-f6d8-3853fee8d61a"
   },
   "outputs": [
    {
     "name": "stdout",
     "output_type": "stream",
     "text": [
      "Epoch 1/30\n",
      "159/159 [==============================] - ETA: 0s - loss: 79.0538 - mae: 79.0538\n",
      "Epoch 1: val_mae improved from inf to 64.20319, saving model to /content/drive/MyDrive/AI_proj/effv2L checkpoint/effv2L.ckpt\n",
      "159/159 [==============================] - 53s 236ms/step - loss: 79.0538 - mae: 79.0538 - val_loss: 64.2032 - val_mae: 64.2032\n",
      "Epoch 2/30\n",
      "159/159 [==============================] - ETA: 0s - loss: 76.9916 - mae: 76.9916\n",
      "Epoch 2: val_mae improved from 64.20319 to 61.93242, saving model to /content/drive/MyDrive/AI_proj/effv2L checkpoint/effv2L.ckpt\n",
      "159/159 [==============================] - 33s 205ms/step - loss: 76.9916 - mae: 76.9916 - val_loss: 61.9324 - val_mae: 61.9324\n",
      "Epoch 3/30\n",
      "159/159 [==============================] - ETA: 0s - loss: 75.6076 - mae: 75.6076\n",
      "Epoch 3: val_mae improved from 61.93242 to 60.24652, saving model to /content/drive/MyDrive/AI_proj/effv2L checkpoint/effv2L.ckpt\n",
      "159/159 [==============================] - 35s 218ms/step - loss: 75.6076 - mae: 75.6076 - val_loss: 60.2465 - val_mae: 60.2465\n",
      "Epoch 4/30\n",
      "159/159 [==============================] - ETA: 0s - loss: 74.7350 - mae: 74.7350\n",
      "Epoch 4: val_mae improved from 60.24652 to 59.06382, saving model to /content/drive/MyDrive/AI_proj/effv2L checkpoint/effv2L.ckpt\n",
      "159/159 [==============================] - 40s 249ms/step - loss: 74.7350 - mae: 74.7350 - val_loss: 59.0638 - val_mae: 59.0638\n",
      "Epoch 5/30\n",
      "159/159 [==============================] - ETA: 0s - loss: 74.1983 - mae: 74.1983\n",
      "Epoch 5: val_mae improved from 59.06382 to 58.19147, saving model to /content/drive/MyDrive/AI_proj/effv2L checkpoint/effv2L.ckpt\n",
      "159/159 [==============================] - 34s 214ms/step - loss: 74.1983 - mae: 74.1983 - val_loss: 58.1915 - val_mae: 58.1915\n",
      "Epoch 6/30\n",
      "159/159 [==============================] - ETA: 0s - loss: 73.8795 - mae: 73.8795\n",
      "Epoch 6: val_mae improved from 58.19147 to 57.53170, saving model to /content/drive/MyDrive/AI_proj/effv2L checkpoint/effv2L.ckpt\n",
      "159/159 [==============================] - 35s 219ms/step - loss: 73.8795 - mae: 73.8795 - val_loss: 57.5317 - val_mae: 57.5317\n",
      "Epoch 7/30\n",
      "159/159 [==============================] - ETA: 0s - loss: 73.6639 - mae: 73.6639\n",
      "Epoch 7: val_mae improved from 57.53170 to 57.11217, saving model to /content/drive/MyDrive/AI_proj/effv2L checkpoint/effv2L.ckpt\n",
      "159/159 [==============================] - 36s 225ms/step - loss: 73.6639 - mae: 73.6639 - val_loss: 57.1122 - val_mae: 57.1122\n",
      "Epoch 8/30\n",
      "159/159 [==============================] - ETA: 0s - loss: 73.5287 - mae: 73.5287\n",
      "Epoch 8: val_mae improved from 57.11217 to 56.92113, saving model to /content/drive/MyDrive/AI_proj/effv2L checkpoint/effv2L.ckpt\n",
      "159/159 [==============================] - 34s 211ms/step - loss: 73.5287 - mae: 73.5287 - val_loss: 56.9211 - val_mae: 56.9211\n",
      "Epoch 9/30\n",
      "159/159 [==============================] - ETA: 0s - loss: 73.4247 - mae: 73.4247\n",
      "Epoch 9: val_mae improved from 56.92113 to 56.86492, saving model to /content/drive/MyDrive/AI_proj/effv2L checkpoint/effv2L.ckpt\n",
      "159/159 [==============================] - 34s 215ms/step - loss: 73.4247 - mae: 73.4247 - val_loss: 56.8649 - val_mae: 56.8649\n",
      "Epoch 10/30\n",
      "159/159 [==============================] - ETA: 0s - loss: 73.3434 - mae: 73.3434\n",
      "Epoch 10: val_mae did not improve from 56.86492\n",
      "159/159 [==============================] - 31s 197ms/step - loss: 73.3434 - mae: 73.3434 - val_loss: 56.8716 - val_mae: 56.8716\n",
      "Epoch 11/30\n",
      "159/159 [==============================] - ETA: 0s - loss: 73.3063 - mae: 73.3063\n",
      "Epoch 11: val_mae did not improve from 56.86492\n",
      "159/159 [==============================] - 31s 195ms/step - loss: 73.3063 - mae: 73.3063 - val_loss: 56.8945 - val_mae: 56.8945\n",
      "Epoch 12/30\n",
      "159/159 [==============================] - ETA: 0s - loss: 73.3200 - mae: 73.3200\n",
      "Epoch 12: val_mae did not improve from 56.86492\n",
      "159/159 [==============================] - 31s 196ms/step - loss: 73.3200 - mae: 73.3200 - val_loss: 56.9121 - val_mae: 56.9121\n",
      "Epoch 13/30\n",
      "159/159 [==============================] - ETA: 0s - loss: 73.2703 - mae: 73.2703\n",
      "Epoch 13: val_mae did not improve from 56.86492\n",
      "159/159 [==============================] - 31s 196ms/step - loss: 73.2703 - mae: 73.2703 - val_loss: 56.9509 - val_mae: 56.9509\n",
      "Epoch 14/30\n",
      "159/159 [==============================] - ETA: 0s - loss: 73.2248 - mae: 73.2248\n",
      "Epoch 14: val_mae did not improve from 56.86492\n",
      "159/159 [==============================] - 31s 195ms/step - loss: 73.2248 - mae: 73.2248 - val_loss: 56.9526 - val_mae: 56.9526\n",
      "Epoch 15/30\n",
      "159/159 [==============================] - ETA: 0s - loss: 73.2125 - mae: 73.2125\n",
      "Epoch 15: val_mae did not improve from 56.86492\n",
      "159/159 [==============================] - 31s 195ms/step - loss: 73.2125 - mae: 73.2125 - val_loss: 56.9266 - val_mae: 56.9266\n",
      "Epoch 16/30\n",
      "159/159 [==============================] - ETA: 0s - loss: 73.1695 - mae: 73.1695\n",
      "Epoch 16: val_mae did not improve from 56.86492\n",
      "159/159 [==============================] - 31s 196ms/step - loss: 73.1695 - mae: 73.1695 - val_loss: 56.9219 - val_mae: 56.9219\n",
      "Epoch 17/30\n",
      "159/159 [==============================] - ETA: 0s - loss: 73.1621 - mae: 73.1621\n",
      "Epoch 17: val_mae did not improve from 56.86492\n",
      "159/159 [==============================] - 31s 195ms/step - loss: 73.1621 - mae: 73.1621 - val_loss: 56.9176 - val_mae: 56.9176\n",
      "Epoch 18/30\n",
      "159/159 [==============================] - ETA: 0s - loss: 73.1114 - mae: 73.1114\n",
      "Epoch 18: val_mae did not improve from 56.86492\n",
      "159/159 [==============================] - 31s 195ms/step - loss: 73.1114 - mae: 73.1114 - val_loss: 56.8879 - val_mae: 56.8879\n",
      "Epoch 19/30\n",
      "159/159 [==============================] - ETA: 0s - loss: 73.0598 - mae: 73.0598\n",
      "Epoch 19: val_mae did not improve from 56.86492\n",
      "159/159 [==============================] - 31s 196ms/step - loss: 73.0598 - mae: 73.0598 - val_loss: 56.8805 - val_mae: 56.8805\n",
      "Epoch 20/30\n",
      "159/159 [==============================] - ETA: 0s - loss: 73.0481 - mae: 73.0481\n",
      "Epoch 20: val_mae improved from 56.86492 to 56.83345, saving model to /content/drive/MyDrive/AI_proj/effv2L checkpoint/effv2L.ckpt\n",
      "159/159 [==============================] - 34s 214ms/step - loss: 73.0481 - mae: 73.0481 - val_loss: 56.8334 - val_mae: 56.8334\n",
      "Epoch 21/30\n",
      "159/159 [==============================] - ETA: 0s - loss: 73.0656 - mae: 73.0656\n",
      "Epoch 21: val_mae improved from 56.83345 to 56.81262, saving model to /content/drive/MyDrive/AI_proj/effv2L checkpoint/effv2L.ckpt\n",
      "159/159 [==============================] - 34s 213ms/step - loss: 73.0656 - mae: 73.0656 - val_loss: 56.8126 - val_mae: 56.8126\n",
      "Epoch 22/30\n",
      "159/159 [==============================] - ETA: 0s - loss: 73.0527 - mae: 73.0527\n",
      "Epoch 22: val_mae improved from 56.81262 to 56.77685, saving model to /content/drive/MyDrive/AI_proj/effv2L checkpoint/effv2L.ckpt\n",
      "159/159 [==============================] - 38s 242ms/step - loss: 73.0527 - mae: 73.0527 - val_loss: 56.7768 - val_mae: 56.7768\n",
      "Epoch 23/30\n",
      "159/159 [==============================] - ETA: 0s - loss: 72.9817 - mae: 72.9817\n",
      "Epoch 23: val_mae improved from 56.77685 to 56.76077, saving model to /content/drive/MyDrive/AI_proj/effv2L checkpoint/effv2L.ckpt\n",
      "159/159 [==============================] - 34s 213ms/step - loss: 72.9817 - mae: 72.9817 - val_loss: 56.7608 - val_mae: 56.7608\n",
      "Epoch 24/30\n",
      "159/159 [==============================] - ETA: 0s - loss: 72.9949 - mae: 72.9949\n",
      "Epoch 24: val_mae improved from 56.76077 to 56.72386, saving model to /content/drive/MyDrive/AI_proj/effv2L checkpoint/effv2L.ckpt\n",
      "159/159 [==============================] - 34s 215ms/step - loss: 72.9949 - mae: 72.9949 - val_loss: 56.7239 - val_mae: 56.7239\n",
      "Epoch 25/30\n",
      "159/159 [==============================] - ETA: 0s - loss: 72.9383 - mae: 72.9383\n",
      "Epoch 25: val_mae improved from 56.72386 to 56.69051, saving model to /content/drive/MyDrive/AI_proj/effv2L checkpoint/effv2L.ckpt\n",
      "159/159 [==============================] - 34s 214ms/step - loss: 72.9383 - mae: 72.9383 - val_loss: 56.6905 - val_mae: 56.6905\n",
      "Epoch 26/30\n",
      "159/159 [==============================] - ETA: 0s - loss: 72.9249 - mae: 72.9249\n",
      "Epoch 26: val_mae improved from 56.69051 to 56.64081, saving model to /content/drive/MyDrive/AI_proj/effv2L checkpoint/effv2L.ckpt\n",
      "159/159 [==============================] - 34s 215ms/step - loss: 72.9249 - mae: 72.9249 - val_loss: 56.6408 - val_mae: 56.6408\n",
      "Epoch 27/30\n",
      "159/159 [==============================] - ETA: 0s - loss: 72.8674 - mae: 72.8674\n",
      "Epoch 27: val_mae improved from 56.64081 to 56.60125, saving model to /content/drive/MyDrive/AI_proj/effv2L checkpoint/effv2L.ckpt\n",
      "159/159 [==============================] - 34s 216ms/step - loss: 72.8674 - mae: 72.8674 - val_loss: 56.6012 - val_mae: 56.6012\n",
      "Epoch 28/30\n",
      "159/159 [==============================] - ETA: 0s - loss: 72.8909 - mae: 72.8909\n",
      "Epoch 28: val_mae improved from 56.60125 to 56.57581, saving model to /content/drive/MyDrive/AI_proj/effv2L checkpoint/effv2L.ckpt\n",
      "159/159 [==============================] - 34s 213ms/step - loss: 72.8909 - mae: 72.8909 - val_loss: 56.5758 - val_mae: 56.5758\n",
      "Epoch 29/30\n",
      "159/159 [==============================] - ETA: 0s - loss: 72.9072 - mae: 72.9072\n",
      "Epoch 29: val_mae improved from 56.57581 to 56.53579, saving model to /content/drive/MyDrive/AI_proj/effv2L checkpoint/effv2L.ckpt\n",
      "159/159 [==============================] - 34s 214ms/step - loss: 72.9072 - mae: 72.9072 - val_loss: 56.5358 - val_mae: 56.5358\n",
      "Epoch 30/30\n",
      "159/159 [==============================] - ETA: 0s - loss: 72.8587 - mae: 72.8587\n",
      "Epoch 30: val_mae improved from 56.53579 to 56.50265, saving model to /content/drive/MyDrive/AI_proj/effv2L checkpoint/effv2L.ckpt\n",
      "159/159 [==============================] - 34s 215ms/step - loss: 72.8587 - mae: 72.8587 - val_loss: 56.5026 - val_mae: 56.5026\n"
     ]
    }
   ],
   "source": [
    "STEPS_PER_EPOCH = len(train_img_path) // BATCH_SIZE\n",
    "VAL_STEPS = len(vali_img_path) // BATCH_SIZE\n",
    "\n",
    "history = model.fit(train_dataset, epochs=EPOCHS,\n",
    "                    steps_per_epoch=STEPS_PER_EPOCH,\n",
    "                    validation_data=valid_dataset,\n",
    "                    validation_steps = VAL_STEPS,\n",
    "                    callbacks=[checkpointer],\n",
    "                    verbose=1)"
   ]
  },
  {
   "cell_type": "code",
   "execution_count": null,
   "metadata": {
    "colab": {
     "base_uri": "https://localhost:8080/",
     "height": 517
    },
    "executionInfo": {
     "elapsed": 557,
     "status": "ok",
     "timestamp": 1652238775554,
     "user": {
      "displayName": "이희경",
      "userId": "11464043579838471612"
     },
     "user_tz": -540
    },
    "id": "IufkEo823Zpe",
    "outputId": "05634e65-d498-4a21-e72a-9d726193936e"
   },
   "outputs": [
    {
     "data": {
      "text/plain": [
       "Text(0.5, 1.0, 'Training and Validation MAE')"
      ]
     },
     "execution_count": 90,
     "metadata": {},
     "output_type": "execute_result"
    },
    {
     "data": {
      "image/png": "[encoded data removed]",
      "text/plain": [
       "<Figure size 576x576 with 1 Axes>"
      ]
     },
     "metadata": {
      "needs_background": "light"
     },
     "output_type": "display_data"
    }
   ],
   "source": [
    "plt.figure(figsize=(8, 8))\n",
    "plt.plot(history.history['mae'], label='Training MAE')\n",
    "plt.plot(history.history['val_mae'], label='Validation MAE')\n",
    "plt.legend(loc='lower right')\n",
    "plt.title('Training and Validation MAE')"
   ]
  },
  {
   "cell_type": "markdown",
   "metadata": {
    "id": "3C5EZvVX3uYi"
   },
   "source": [
    "### Finetune"
   ]
  },
  {
   "cell_type": "code",
   "execution_count": null,
   "metadata": {
    "colab": {
     "base_uri": "https://localhost:8080/"
    },
    "executionInfo": {
     "elapsed": 19,
     "status": "ok",
     "timestamp": 1652238775557,
     "user": {
      "displayName": "이희경",
      "userId": "11464043579838471612"
     },
     "user_tz": -540
    },
    "id": "f6tIDiej3tnw",
    "outputId": "0d22f38b-a096-49cf-febb-d6f6eee6d8c8"
   },
   "outputs": [
    {
     "name": "stdout",
     "output_type": "stream",
     "text": [
      "Number of layers in the base model:  956\n"
     ]
    }
   ],
   "source": [
    "print(\"Number of layers in the base model: \", len(base_model.layers))"
   ]
  },
  {
   "cell_type": "code",
   "execution_count": null,
   "metadata": {
    "id": "bW1ZOpMQHMAw"
   },
   "outputs": [],
   "source": [
    "base_model.trainable = True"
   ]
  },
  {
   "cell_type": "code",
   "execution_count": null,
   "metadata": {
    "id": "xwptNZz337pb"
   },
   "outputs": [],
   "source": [
    "fine_tune_at= 800\n",
    "\n",
    "# 동결 해제\n",
    "for i, layer in enumerate(base_model.layers) :\n",
    "    if i < fine_tune_at :\n",
    "        layer.trainable = False\n",
    "    else :\n",
    "           if 'bn' in layer.name :\n",
    "               layer.trainable = False"
   ]
  },
  {
   "cell_type": "code",
   "execution_count": null,
   "metadata": {
    "id": "5AjwDSVG4_of"
   },
   "outputs": [],
   "source": [
    "model_filepath = '/content/drive/MyDrive/AI_proj/effiv2L_finetuned_best_model.h5'\n",
    "checkpointer = ModelCheckpoint(\n",
    "    filepath=model_filepath,\n",
    "    monitor='val_mae',\n",
    "    save_best_only=True,\n",
    "    verbose=1\n",
    ")\n",
    "\n",
    "# transfer learning에서 최상의 weight을 불러옴.\n",
    "model.load_weights(checkpoint_filepath)\n",
    "model.compile(optimizer=Adam(learning_rate=LEARNING_RATE/10), # finetuning은 학습률을 낮게 설정.\n",
    "              loss='mae',\n",
    "              metrics=['mae'])"
   ]
  },
  {
   "cell_type": "code",
   "execution_count": null,
   "metadata": {
    "colab": {
     "base_uri": "https://localhost:8080/"
    },
    "executionInfo": {
     "elapsed": 259,
     "status": "ok",
     "timestamp": 1652239271758,
     "user": {
      "displayName": "이희경",
      "userId": "11464043579838471612"
     },
     "user_tz": -540
    },
    "id": "7RcXS_sC8YHx",
    "outputId": "782cae45-6b75-438e-d4a1-d4c7b9353ba9"
   },
   "outputs": [
    {
     "name": "stdout",
     "output_type": "stream",
     "text": [
      "Model: \"sequential_1\"\n",
      "_________________________________________________________________\n",
      " Layer (type)                Output Shape              Param #   \n",
      "=================================================================\n",
      " model_3 (Functional)        (None, None, None, 3)     0         \n",
      "                                                                 \n",
      " efficientnetv2-l (Functiona  (None, None, None, 1280)  117746848\n",
      " l)                                                              \n",
      "                                                                 \n",
      " global_average_pooling2d_3   (None, 1280)             0         \n",
      " (GlobalAveragePooling2D)                                        \n",
      "                                                                 \n",
      " dropout_3 (Dropout)         (None, 1280)              0         \n",
      "                                                                 \n",
      " dense_9 (Dense)             (None, 64)                81984     \n",
      "                                                                 \n",
      " dense_10 (Dense)            (None, 64)                4160      \n",
      "                                                                 \n",
      " dense_11 (Dense)            (None, 1)                 65        \n",
      "                                                                 \n",
      "=================================================================\n",
      "Total params: 117,833,057\n",
      "Trainable params: 49,765,473\n",
      "Non-trainable params: 68,067,584\n",
      "_________________________________________________________________\n"
     ]
    }
   ],
   "source": [
    "model.summary()"
   ]
  },
  {
   "cell_type": "code",
   "execution_count": null,
   "metadata": {
    "colab": {
     "base_uri": "https://localhost:8080/"
    },
    "executionInfo": {
     "elapsed": 1421802,
     "status": "ok",
     "timestamp": 1652240743638,
     "user": {
      "displayName": "이희경",
      "userId": "11464043579838471612"
     },
     "user_tz": -540
    },
    "id": "bvxOlwQJ8Xbc",
    "outputId": "0385ab32-2b5a-459f-e835-a2851aa748bb"
   },
   "outputs": [
    {
     "name": "stdout",
     "output_type": "stream",
     "text": [
      "Epoch 1/30\n",
      "159/159 [==============================] - ETA: 0s - loss: 75.5649 - mae: 75.5649\n",
      "Epoch 1: val_mae improved from inf to 49.43916, saving model to /content/drive/MyDrive/AI_proj/effiv2L_finetuned_best_model.h5\n",
      "159/159 [==============================] - 67s 313ms/step - loss: 75.5649 - mae: 75.5649 - val_loss: 49.4392 - val_mae: 49.4392\n",
      "Epoch 2/30\n",
      "159/159 [==============================] - ETA: 0s - loss: 71.1457 - mae: 71.1457\n",
      "Epoch 2: val_mae improved from 49.43916 to 44.77898, saving model to /content/drive/MyDrive/AI_proj/effiv2L_finetuned_best_model.h5\n",
      "159/159 [==============================] - 55s 345ms/step - loss: 71.1457 - mae: 71.1457 - val_loss: 44.7790 - val_mae: 44.7790\n",
      "Epoch 3/30\n",
      "159/159 [==============================] - ETA: 0s - loss: 69.9551 - mae: 69.9551\n",
      "Epoch 3: val_mae improved from 44.77898 to 43.17474, saving model to /content/drive/MyDrive/AI_proj/effiv2L_finetuned_best_model.h5\n",
      "159/159 [==============================] - 58s 366ms/step - loss: 69.9551 - mae: 69.9551 - val_loss: 43.1747 - val_mae: 43.1747\n",
      "Epoch 4/30\n",
      "159/159 [==============================] - ETA: 0s - loss: 68.7961 - mae: 68.7961\n",
      "Epoch 4: val_mae improved from 43.17474 to 42.55281, saving model to /content/drive/MyDrive/AI_proj/effiv2L_finetuned_best_model.h5\n",
      "159/159 [==============================] - 51s 319ms/step - loss: 68.7961 - mae: 68.7961 - val_loss: 42.5528 - val_mae: 42.5528\n",
      "Epoch 5/30\n",
      "159/159 [==============================] - ETA: 0s - loss: 67.9757 - mae: 67.9757\n",
      "Epoch 5: val_mae improved from 42.55281 to 41.56753, saving model to /content/drive/MyDrive/AI_proj/effiv2L_finetuned_best_model.h5\n",
      "159/159 [==============================] - 52s 327ms/step - loss: 67.9757 - mae: 67.9757 - val_loss: 41.5675 - val_mae: 41.5675\n",
      "Epoch 6/30\n",
      "159/159 [==============================] - ETA: 0s - loss: 67.0096 - mae: 67.0096\n",
      "Epoch 6: val_mae improved from 41.56753 to 40.08631, saving model to /content/drive/MyDrive/AI_proj/effiv2L_finetuned_best_model.h5\n",
      "159/159 [==============================] - 53s 334ms/step - loss: 67.0096 - mae: 67.0096 - val_loss: 40.0863 - val_mae: 40.0863\n",
      "Epoch 7/30\n",
      "159/159 [==============================] - ETA: 0s - loss: 66.8616 - mae: 66.8616\n",
      "Epoch 7: val_mae did not improve from 40.08631\n",
      "159/159 [==============================] - 43s 270ms/step - loss: 66.8616 - mae: 66.8616 - val_loss: 41.0201 - val_mae: 41.0201\n",
      "Epoch 8/30\n",
      "159/159 [==============================] - ETA: 0s - loss: 65.6539 - mae: 65.6539\n",
      "Epoch 8: val_mae improved from 40.08631 to 39.64486, saving model to /content/drive/MyDrive/AI_proj/effiv2L_finetuned_best_model.h5\n",
      "159/159 [==============================] - 71s 448ms/step - loss: 65.6539 - mae: 65.6539 - val_loss: 39.6449 - val_mae: 39.6449\n",
      "Epoch 9/30\n",
      "159/159 [==============================] - ETA: 0s - loss: 64.4900 - mae: 64.4900\n",
      "Epoch 9: val_mae improved from 39.64486 to 38.20332, saving model to /content/drive/MyDrive/AI_proj/effiv2L_finetuned_best_model.h5\n",
      "159/159 [==============================] - 51s 323ms/step - loss: 64.4900 - mae: 64.4900 - val_loss: 38.2033 - val_mae: 38.2033\n",
      "Epoch 10/30\n",
      "159/159 [==============================] - ETA: 0s - loss: 63.8211 - mae: 63.8211\n",
      "Epoch 10: val_mae improved from 38.20332 to 36.92635, saving model to /content/drive/MyDrive/AI_proj/effiv2L_finetuned_best_model.h5\n",
      "159/159 [==============================] - 51s 319ms/step - loss: 63.8211 - mae: 63.8211 - val_loss: 36.9264 - val_mae: 36.9264\n",
      "Epoch 11/30\n",
      "159/159 [==============================] - ETA: 0s - loss: 62.3124 - mae: 62.3124\n",
      "Epoch 11: val_mae improved from 36.92635 to 35.74547, saving model to /content/drive/MyDrive/AI_proj/effiv2L_finetuned_best_model.h5\n",
      "159/159 [==============================] - 51s 318ms/step - loss: 62.3124 - mae: 62.3124 - val_loss: 35.7455 - val_mae: 35.7455\n",
      "Epoch 12/30\n",
      "159/159 [==============================] - ETA: 0s - loss: 61.1234 - mae: 61.1234\n",
      "Epoch 12: val_mae improved from 35.74547 to 34.70673, saving model to /content/drive/MyDrive/AI_proj/effiv2L_finetuned_best_model.h5\n",
      "159/159 [==============================] - 51s 322ms/step - loss: 61.1234 - mae: 61.1234 - val_loss: 34.7067 - val_mae: 34.7067\n",
      "Epoch 13/30\n",
      "159/159 [==============================] - ETA: 0s - loss: 60.7952 - mae: 60.7952\n",
      "Epoch 13: val_mae did not improve from 34.70673\n",
      "159/159 [==============================] - 42s 267ms/step - loss: 60.7952 - mae: 60.7952 - val_loss: 36.0052 - val_mae: 36.0052\n",
      "Epoch 14/30\n",
      "159/159 [==============================] - ETA: 0s - loss: 59.6704 - mae: 59.6704\n",
      "Epoch 14: val_mae did not improve from 34.70673\n",
      "159/159 [==============================] - 42s 267ms/step - loss: 59.6704 - mae: 59.6704 - val_loss: 35.9408 - val_mae: 35.9408\n",
      "Epoch 15/30\n",
      "159/159 [==============================] - ETA: 0s - loss: 58.8941 - mae: 58.8941\n",
      "Epoch 15: val_mae did not improve from 34.70673\n",
      "159/159 [==============================] - 43s 269ms/step - loss: 58.8941 - mae: 58.8941 - val_loss: 36.0733 - val_mae: 36.0733\n",
      "Epoch 16/30\n",
      "159/159 [==============================] - ETA: 0s - loss: 57.5043 - mae: 57.5043\n",
      "Epoch 16: val_mae did not improve from 34.70673\n",
      "159/159 [==============================] - 43s 268ms/step - loss: 57.5043 - mae: 57.5043 - val_loss: 36.5190 - val_mae: 36.5190\n",
      "Epoch 17/30\n",
      "159/159 [==============================] - ETA: 0s - loss: 55.8977 - mae: 55.8977\n",
      "Epoch 17: val_mae did not improve from 34.70673\n",
      "159/159 [==============================] - 43s 269ms/step - loss: 55.8977 - mae: 55.8977 - val_loss: 40.5280 - val_mae: 40.5280\n",
      "Epoch 18/30\n",
      "159/159 [==============================] - ETA: 0s - loss: 55.4453 - mae: 55.4453\n",
      "Epoch 18: val_mae did not improve from 34.70673\n",
      "159/159 [==============================] - 43s 269ms/step - loss: 55.4453 - mae: 55.4453 - val_loss: 44.4263 - val_mae: 44.4263\n",
      "Epoch 19/30\n",
      "159/159 [==============================] - ETA: 0s - loss: 55.2683 - mae: 55.2683\n",
      "Epoch 19: val_mae did not improve from 34.70673\n",
      "159/159 [==============================] - 43s 268ms/step - loss: 55.2683 - mae: 55.2683 - val_loss: 43.2915 - val_mae: 43.2915\n",
      "Epoch 20/30\n",
      "159/159 [==============================] - ETA: 0s - loss: 52.6923 - mae: 52.6923\n",
      "Epoch 20: val_mae did not improve from 34.70673\n",
      "159/159 [==============================] - 43s 268ms/step - loss: 52.6923 - mae: 52.6923 - val_loss: 39.9724 - val_mae: 39.9724\n",
      "Epoch 21/30\n",
      "159/159 [==============================] - ETA: 0s - loss: 52.5871 - mae: 52.5871\n",
      "Epoch 21: val_mae did not improve from 34.70673\n",
      "159/159 [==============================] - 43s 268ms/step - loss: 52.5871 - mae: 52.5871 - val_loss: 40.6931 - val_mae: 40.6931\n",
      "Epoch 22/30\n",
      "159/159 [==============================] - ETA: 0s - loss: 51.2276 - mae: 51.2276\n",
      "Epoch 22: val_mae did not improve from 34.70673\n",
      "159/159 [==============================] - 43s 268ms/step - loss: 51.2276 - mae: 51.2276 - val_loss: 38.0307 - val_mae: 38.0307\n",
      "Epoch 23/30\n",
      "159/159 [==============================] - ETA: 0s - loss: 50.0477 - mae: 50.0477\n",
      "Epoch 23: val_mae did not improve from 34.70673\n",
      "159/159 [==============================] - 43s 268ms/step - loss: 50.0477 - mae: 50.0477 - val_loss: 41.8565 - val_mae: 41.8565\n",
      "Epoch 24/30\n",
      "159/159 [==============================] - ETA: 0s - loss: 51.5439 - mae: 51.5439\n",
      "Epoch 24: val_mae did not improve from 34.70673\n",
      "159/159 [==============================] - 43s 268ms/step - loss: 51.5439 - mae: 51.5439 - val_loss: 40.0336 - val_mae: 40.0336\n",
      "Epoch 25/30\n",
      "159/159 [==============================] - ETA: 0s - loss: 48.6845 - mae: 48.6845\n",
      "Epoch 25: val_mae did not improve from 34.70673\n",
      "159/159 [==============================] - 43s 268ms/step - loss: 48.6845 - mae: 48.6845 - val_loss: 40.8652 - val_mae: 40.8652\n",
      "Epoch 26/30\n",
      "159/159 [==============================] - ETA: 0s - loss: 48.0801 - mae: 48.0801\n",
      "Epoch 26: val_mae did not improve from 34.70673\n",
      "159/159 [==============================] - 43s 268ms/step - loss: 48.0801 - mae: 48.0801 - val_loss: 55.5957 - val_mae: 55.5957\n",
      "Epoch 27/30\n",
      "159/159 [==============================] - ETA: 0s - loss: 49.7693 - mae: 49.7693\n",
      "Epoch 27: val_mae did not improve from 34.70673\n",
      "159/159 [==============================] - 43s 268ms/step - loss: 49.7693 - mae: 49.7693 - val_loss: 50.3069 - val_mae: 50.3069\n",
      "Epoch 28/30\n",
      "159/159 [==============================] - ETA: 0s - loss: 48.9157 - mae: 48.9157\n",
      "Epoch 28: val_mae did not improve from 34.70673\n",
      "159/159 [==============================] - 43s 268ms/step - loss: 48.9157 - mae: 48.9157 - val_loss: 44.0643 - val_mae: 44.0643\n",
      "Epoch 29/30\n",
      "159/159 [==============================] - ETA: 0s - loss: 46.3668 - mae: 46.3668\n",
      "Epoch 29: val_mae did not improve from 34.70673\n",
      "159/159 [==============================] - 43s 269ms/step - loss: 46.3668 - mae: 46.3668 - val_loss: 41.8629 - val_mae: 41.8629\n",
      "Epoch 30/30\n",
      "159/159 [==============================] - ETA: 0s - loss: 47.4380 - mae: 47.4380\n",
      "Epoch 30: val_mae did not improve from 34.70673\n",
      "159/159 [==============================] - 43s 269ms/step - loss: 47.4380 - mae: 47.4380 - val_loss: 45.4747 - val_mae: 45.4747\n"
     ]
    }
   ],
   "source": [
    "history_fine = model.fit(train_dataset, epochs=EPOCHS,\n",
    "                    steps_per_epoch=STEPS_PER_EPOCH,\n",
    "                    validation_data=valid_dataset,\n",
    "                    validation_steps = VAL_STEPS,\n",
    "                    callbacks=[checkpointer],\n",
    "                    verbose=1)"
   ]
  },
  {
   "cell_type": "code",
   "execution_count": null,
   "metadata": {
    "colab": {
     "base_uri": "https://localhost:8080/",
     "height": 499
    },
    "executionInfo": {
     "elapsed": 315,
     "status": "ok",
     "timestamp": 1652241414817,
     "user": {
      "displayName": "이희경",
      "userId": "11464043579838471612"
     },
     "user_tz": -540
    },
    "id": "YGzYTh6PH_mD",
    "outputId": "b03ea7de-9200-47a9-c58f-6a11015b41c4"
   },
   "outputs": [
    {
     "data": {
      "image/png": "[encoded data removed]",
      "text/plain": [
       "<Figure size 576x576 with 1 Axes>"
      ]
     },
     "metadata": {
      "needs_background": "light"
     },
     "output_type": "display_data"
    }
   ],
   "source": [
    "plt.figure(figsize=(8, 8))\n",
    "plt.plot(history.history['mae']+history_fine.history['mae'], label='Training MAE')\n",
    "plt.plot(history.history['val_mae']+history_fine.history['val_mae'], label='Validation MAE')\n",
    "plt.plot([EPOCHS-1,EPOCHS-1],\n",
    "          plt.ylim(), label='Start Fine Tuning')\n",
    "plt.legend(loc='lower right')\n",
    "plt.title('Training and Validation MAE')\n",
    "plt.show()"
   ]
  },
  {
   "cell_type": "markdown",
   "metadata": {
    "id": "vsHh5JN6J245"
   },
   "source": [
    "### prediction"
   ]
  },
  {
   "cell_type": "code",
   "execution_count": null,
   "metadata": {
    "id": "5NC-NMkaJFvL"
   },
   "outputs": [],
   "source": [
    "eff_model = tf.keras.models.load_model(model_filepath)\n",
    "\n",
    "STEPS = len(test_img_path) / PRED_BATCH_SIZE\n",
    "prediction = eff_model.predict(test_dataset,\n",
    "                            batch_size = PRED_BATCH_SIZE,\n",
    "                            steps=STEPS)"
   ]
  },
  {
   "cell_type": "code",
   "execution_count": null,
   "metadata": {
    "id": "bEn5aLbuKG2J"
   },
   "outputs": [],
   "source": [
    "submission = pd.read_csv('/content/drive/MyDrive/AI_proj/data/sample_submission.csv')\n",
    "submission['leaf_weight'] = prediction.squeeze()\n",
    "submission.to_csv('/content/drive/MyDrive/AI_proj/data/effecientnetV2L_cnn.csv', index=False)"
   ]
  },
  {
   "cell_type": "code",
   "execution_count": null,
   "metadata": {
    "id": "N0me4zBCRQjK"
   },
   "outputs": [],
   "source": []
  }
 ],
 "metadata": {
  "accelerator": "GPU",
  "colab": {
   "collapsed_sections": [],
   "machine_shape": "hm",
   "name": "Fine Tuning _Efficient net.ipynb",
   "provenance": []
  },
  "kernelspec": {
   "display_name": "Python [conda env:machine] *",
   "language": "python",
   "name": "conda-env-machine-py"
  },
  "language_info": {
   "codemirror_mode": {
    "name": "ipython",
    "version": 3
   },
   "file_extension": ".py",
   "mimetype": "text/x-python",
   "name": "python",
   "nbconvert_exporter": "python",
   "pygments_lexer": "ipython3",
   "version": "3.8.13"
  },
  "widgets": {
   "application/vnd.jupyter.widget-state+json": {
    "09b363f499a5499eab39ecae6b164433": {
     "model_module": "@jupyter-widgets/controls",
     "model_module_version": "1.5.0",
     "model_name": "HTMLModel",
     "state": {
      "_dom_classes": [],
      "_model_module": "@jupyter-widgets/controls",
      "_model_module_version": "1.5.0",
      "_model_name": "HTMLModel",
      "_view_count": null,
      "_view_module": "@jupyter-widgets/controls",
      "_view_module_version": "1.5.0",
      "_view_name": "HTMLView",
      "description": "",
      "description_tooltip": null,
      "layout": "IPY_MODEL_80fcbd10bee34b18b752238765f246bd",
      "placeholder": "​",
      "style": "IPY_MODEL_2146e3b79756428cab29ec8dd3848507",
      "value": "100%"
     }
    },
    "2146e3b79756428cab29ec8dd3848507": {
     "model_module": "@jupyter-widgets/controls",
     "model_module_version": "1.5.0",
     "model_name": "DescriptionStyleModel",
     "state": {
      "_model_module": "@jupyter-widgets/controls",
      "_model_module_version": "1.5.0",
      "_model_name": "DescriptionStyleModel",
      "_view_count": null,
      "_view_module": "@jupyter-widgets/base",
      "_view_module_version": "1.2.0",
      "_view_name": "StyleView",
      "description_width": ""
     }
    },
    "3ebda634dfbb4326ab9b16b977ae2135": {
     "model_module": "@jupyter-widgets/base",
     "model_module_version": "1.2.0",
     "model_name": "LayoutModel",
     "state": {
      "_model_module": "@jupyter-widgets/base",
      "_model_module_version": "1.2.0",
      "_model_name": "LayoutModel",
      "_view_count": null,
      "_view_module": "@jupyter-widgets/base",
      "_view_module_version": "1.2.0",
      "_view_name": "LayoutView",
      "align_content": null,
      "align_items": null,
      "align_self": null,
      "border": null,
      "bottom": null,
      "display": null,
      "flex": null,
      "flex_flow": null,
      "grid_area": null,
      "grid_auto_columns": null,
      "grid_auto_flow": null,
      "grid_auto_rows": null,
      "grid_column": null,
      "grid_gap": null,
      "grid_row": null,
      "grid_template_areas": null,
      "grid_template_columns": null,
      "grid_template_rows": null,
      "height": null,
      "justify_content": null,
      "justify_items": null,
      "left": null,
      "margin": null,
      "max_height": null,
      "max_width": null,
      "min_height": null,
      "min_width": null,
      "object_fit": null,
      "object_position": null,
      "order": null,
      "overflow": null,
      "overflow_x": null,
      "overflow_y": null,
      "padding": null,
      "right": null,
      "top": null,
      "visibility": null,
      "width": null
     }
    },
    "5f93dab3d0cc47f1bcf83f7a8a9dfc09": {
     "model_module": "@jupyter-widgets/base",
     "model_module_version": "1.2.0",
     "model_name": "LayoutModel",
     "state": {
      "_model_module": "@jupyter-widgets/base",
      "_model_module_version": "1.2.0",
      "_model_name": "LayoutModel",
      "_view_count": null,
      "_view_module": "@jupyter-widgets/base",
      "_view_module_version": "1.2.0",
      "_view_name": "LayoutView",
      "align_content": null,
      "align_items": null,
      "align_self": null,
      "border": null,
      "bottom": null,
      "display": null,
      "flex": null,
      "flex_flow": null,
      "grid_area": null,
      "grid_auto_columns": null,
      "grid_auto_flow": null,
      "grid_auto_rows": null,
      "grid_column": null,
      "grid_gap": null,
      "grid_row": null,
      "grid_template_areas": null,
      "grid_template_columns": null,
      "grid_template_rows": null,
      "height": null,
      "justify_content": null,
      "justify_items": null,
      "left": null,
      "margin": null,
      "max_height": null,
      "max_width": null,
      "min_height": null,
      "min_width": null,
      "object_fit": null,
      "object_position": null,
      "order": null,
      "overflow": null,
      "overflow_x": null,
      "overflow_y": null,
      "padding": null,
      "right": null,
      "top": null,
      "visibility": null,
      "width": null
     }
    },
    "638e60f11e714a488b9545ff52fbf34d": {
     "model_module": "@jupyter-widgets/controls",
     "model_module_version": "1.5.0",
     "model_name": "ProgressStyleModel",
     "state": {
      "_model_module": "@jupyter-widgets/controls",
      "_model_module_version": "1.5.0",
      "_model_name": "ProgressStyleModel",
      "_view_count": null,
      "_view_module": "@jupyter-widgets/base",
      "_view_module_version": "1.2.0",
      "_view_name": "StyleView",
      "bar_color": null,
      "description_width": ""
     }
    },
    "7ea6b6bee2794ec195d1e3130b4633bc": {
     "model_module": "@jupyter-widgets/controls",
     "model_module_version": "1.5.0",
     "model_name": "FloatProgressModel",
     "state": {
      "_dom_classes": [],
      "_model_module": "@jupyter-widgets/controls",
      "_model_module_version": "1.5.0",
      "_model_name": "FloatProgressModel",
      "_view_count": null,
      "_view_module": "@jupyter-widgets/controls",
      "_view_module_version": "1.5.0",
      "_view_name": "ProgressView",
      "bar_style": "success",
      "description": "",
      "description_tooltip": null,
      "layout": "IPY_MODEL_fc6929ee029b4e2686db2a0bfbc8a890",
      "max": 460,
      "min": 0,
      "orientation": "horizontal",
      "style": "IPY_MODEL_638e60f11e714a488b9545ff52fbf34d",
      "value": 460
     }
    },
    "80fcbd10bee34b18b752238765f246bd": {
     "model_module": "@jupyter-widgets/base",
     "model_module_version": "1.2.0",
     "model_name": "LayoutModel",
     "state": {
      "_model_module": "@jupyter-widgets/base",
      "_model_module_version": "1.2.0",
      "_model_name": "LayoutModel",
      "_view_count": null,
      "_view_module": "@jupyter-widgets/base",
      "_view_module_version": "1.2.0",
      "_view_name": "LayoutView",
      "align_content": null,
      "align_items": null,
      "align_self": null,
      "border": null,
      "bottom": null,
      "display": null,
      "flex": null,
      "flex_flow": null,
      "grid_area": null,
      "grid_auto_columns": null,
      "grid_auto_flow": null,
      "grid_auto_rows": null,
      "grid_column": null,
      "grid_gap": null,
      "grid_row": null,
      "grid_template_areas": null,
      "grid_template_columns": null,
      "grid_template_rows": null,
      "height": null,
      "justify_content": null,
      "justify_items": null,
      "left": null,
      "margin": null,
      "max_height": null,
      "max_width": null,
      "min_height": null,
      "min_width": null,
      "object_fit": null,
      "object_position": null,
      "order": null,
      "overflow": null,
      "overflow_x": null,
      "overflow_y": null,
      "padding": null,
      "right": null,
      "top": null,
      "visibility": null,
      "width": null
     }
    },
    "902a5b43378546668470dcad1f250d0a": {
     "model_module": "@jupyter-widgets/controls",
     "model_module_version": "1.5.0",
     "model_name": "DescriptionStyleModel",
     "state": {
      "_model_module": "@jupyter-widgets/controls",
      "_model_module_version": "1.5.0",
      "_model_name": "DescriptionStyleModel",
      "_view_count": null,
      "_view_module": "@jupyter-widgets/base",
      "_view_module_version": "1.2.0",
      "_view_name": "StyleView",
      "description_width": ""
     }
    },
    "ae90fc77c2ad4f089ff49e5f737856b4": {
     "model_module": "@jupyter-widgets/controls",
     "model_module_version": "1.5.0",
     "model_name": "HBoxModel",
     "state": {
      "_dom_classes": [],
      "_model_module": "@jupyter-widgets/controls",
      "_model_module_version": "1.5.0",
      "_model_name": "HBoxModel",
      "_view_count": null,
      "_view_module": "@jupyter-widgets/controls",
      "_view_module_version": "1.5.0",
      "_view_name": "HBoxView",
      "box_style": "",
      "children": [
       "IPY_MODEL_09b363f499a5499eab39ecae6b164433",
       "IPY_MODEL_7ea6b6bee2794ec195d1e3130b4633bc",
       "IPY_MODEL_ef2d29225f4e4f23ac1998989d61d6e0"
      ],
      "layout": "IPY_MODEL_5f93dab3d0cc47f1bcf83f7a8a9dfc09"
     }
    },
    "ef2d29225f4e4f23ac1998989d61d6e0": {
     "model_module": "@jupyter-widgets/controls",
     "model_module_version": "1.5.0",
     "model_name": "HTMLModel",
     "state": {
      "_dom_classes": [],
      "_model_module": "@jupyter-widgets/controls",
      "_model_module_version": "1.5.0",
      "_model_name": "HTMLModel",
      "_view_count": null,
      "_view_module": "@jupyter-widgets/controls",
      "_view_module_version": "1.5.0",
      "_view_name": "HTMLView",
      "description": "",
      "description_tooltip": null,
      "layout": "IPY_MODEL_3ebda634dfbb4326ab9b16b977ae2135",
      "placeholder": "​",
      "style": "IPY_MODEL_902a5b43378546668470dcad1f250d0a",
      "value": " 460/460 [08:32&lt;00:00,  1.31it/s]"
     }
    },
    "fc6929ee029b4e2686db2a0bfbc8a890": {
     "model_module": "@jupyter-widgets/base",
     "model_module_version": "1.2.0",
     "model_name": "LayoutModel",
     "state": {
      "_model_module": "@jupyter-widgets/base",
      "_model_module_version": "1.2.0",
      "_model_name": "LayoutModel",
      "_view_count": null,
      "_view_module": "@jupyter-widgets/base",
      "_view_module_version": "1.2.0",
      "_view_name": "LayoutView",
      "align_content": null,
      "align_items": null,
      "align_self": null,
      "border": null,
      "bottom": null,
      "display": null,
      "flex": null,
      "flex_flow": null,
      "grid_area": null,
      "grid_auto_columns": null,
      "grid_auto_flow": null,
      "grid_auto_rows": null,
      "grid_column": null,
      "grid_gap": null,
      "grid_row": null,
      "grid_template_areas": null,
      "grid_template_columns": null,
      "grid_template_rows": null,
      "height": null,
      "justify_content": null,
      "justify_items": null,
      "left": null,
      "margin": null,
      "max_height": null,
      "max_width": null,
      "min_height": null,
      "min_width": null,
      "object_fit": null,
      "object_position": null,
      "order": null,
      "overflow": null,
      "overflow_x": null,
      "overflow_y": null,
      "padding": null,
      "right": null,
      "top": null,
      "visibility": null,
      "width": null
     }
    }
   }
  }
 },
 "nbformat": 4,
 "nbformat_minor": 1
}
